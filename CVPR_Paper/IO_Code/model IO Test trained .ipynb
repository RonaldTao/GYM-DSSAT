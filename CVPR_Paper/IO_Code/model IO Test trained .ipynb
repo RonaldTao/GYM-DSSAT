{
 "cells": [
  {
   "cell_type": "markdown",
   "id": "93dda018",
   "metadata": {},
   "source": [
    "### 1. Import packages"
   ]
  },
  {
   "cell_type": "code",
   "execution_count": 1,
   "id": "6f1cfcf8",
   "metadata": {},
   "outputs": [],
   "source": [
    "import numpy as np\n",
    "import pandas as pd\n",
    "import random\n",
    "from IPython import display\n",
    "from collections import namedtuple, deque\n",
    "import time\n",
    "from tqdm import tqdm\n",
    "import matplotlib.pyplot as plt\n",
    "%matplotlib inline\n",
    "\n",
    "import torch\n",
    "import torch.nn as nn\n",
    "import torch.nn.functional as F\n",
    "import torch.optim as optim\n",
    "device = torch.device(\"cpu\")\n",
    "\n",
    "import gym"
   ]
  },
  {
   "cell_type": "markdown",
   "id": "23a8e0e3",
   "metadata": {},
   "source": [
    "### 2. Helper functions"
   ]
  },
  {
   "cell_type": "code",
   "execution_count": 2,
   "id": "a0d74676",
   "metadata": {},
   "outputs": [],
   "source": [
    "def dict2array(state):\n",
    "    new_state = []\n",
    "    for key  in state.keys():\n",
    "        if key != 'sw':\n",
    "            new_state.append(state[key])\n",
    "        else:\n",
    "            new_state += list(state['sw'])        \n",
    "    state = np.asarray(new_state)\n",
    "    \n",
    "    return state\n"
   ]
  },
  {
   "cell_type": "markdown",
   "id": "db8650bd",
   "metadata": {},
   "source": [
    "### 3. Initialize the environment"
   ]
  },
  {
   "cell_type": "code",
   "execution_count": 3,
   "id": "fe07f4eb",
   "metadata": {},
   "outputs": [
    {
     "name": "stdout",
     "output_type": "stream",
     "text": [
      "Observation: {'cleach': 0.0, 'cnox': 0.0, 'cumsumfert': 0.0, 'dap': 0, 'dtt': 0.0, 'es': 0.0, 'grnwt': 0.0, 'istage': 7, 'nstres': 0.0, 'pcngrn': 0.0, 'pltpop': 7.599999904632568, 'rain': 0.0, 'rtdep': 0.0, 'runoff': 0.0, 'srad': 26.5, 'sw': array([0.189     , 0.189     , 0.189     , 0.222     , 0.228     ,\n",
      "       0.27700001, 0.31      , 0.31799999, 0.29800001, 0.28      ,\n",
      "       0.28      ]), 'swfac': 0.0, 'tleachd': 0.0, 'tmax': 16.100000381469727, 'tmin': 5.400000095367432, 'tnoxd': 0.0, 'topwt': 0.0, 'trnu': 0.0, 'vstage': 0.0, 'wtdep': 0.0, 'wtnup': 0.0, 'xlai': 0.0}\n",
      "27 11\n",
      "\n",
      "Ram information received from DASSAT will has 37 dimensions.\n",
      "There are 25 possible actions at each step.\n",
      "Discrete? False\n"
     ]
    }
   ],
   "source": [
    "env_args = {\n",
    "    'run_dssat_location': '/opt/dssat_pdi/run_dssat',  # assuming (modified) DSSAT has been installed in /opt/dssat_pdi\n",
    "    'log_saving_path': './logs/dssat-pdi.log',  # if you want to save DSSAT outputs for inspection\n",
    "    # 'mode': 'irrigation',  # you can choose one of those 3 modes\n",
    "    # 'mode': 'fertilization',\n",
    "    'mode': 'all',\n",
    "    'seed': 123456,\n",
    "    'random_weather': False,  # if you want stochastic weather\n",
    "    'fileX_template_path':'./IUAF9901.MZX',\n",
    "    #'experiment_number':1\n",
    "}\n",
    "env = gym.make('gym_dssat_pdi:GymDssatPdi-v0', **env_args)\n",
    "print('Observation:',env.observation,)\n",
    "print(len(env.observation),len(env.observation['sw']))\n",
    "ram_dimensions = len(env.observation)+len(env.observation['sw'])-1\n",
    "nb_actions = 25\n",
    "print('\\nRam information received from DASSAT will has %d dimensions.' % ram_dimensions)\n",
    "print('There are %d possible actions at each step.' % nb_actions)\n",
    "print('Discrete?',type(gym.spaces)== gym.spaces.Discrete)"
   ]
  },
  {
   "cell_type": "markdown",
   "id": "b4283d29",
   "metadata": {},
   "source": [
    "### 4. Define the network"
   ]
  },
  {
   "cell_type": "code",
   "execution_count": 4,
   "id": "a6021276",
   "metadata": {},
   "outputs": [],
   "source": [
    "class QNetwork(nn.Module):\n",
    "    \"\"\"Agent (Policy) Model.\"\"\"\n",
    "    # given a state of 35 dim, Qnetwork will return 200 values for each possible action  \n",
    "\n",
    "    def __init__(self, state_size, action_size, fc1_units=128, fc2_units=128):\n",
    "        \"\"\"Initialize parameters and build model.\n",
    "        Params\n",
    "        ======\n",
    "            state_size (int): Dimension of each state\n",
    "            action_size (int): Dimension of each action\n",
    "            fc1_units (int): Number of nodes in first hidden layer\n",
    "            why is it 256? randomly?\n",
    "        \"\"\"\n",
    "        super(QNetwork, self).__init__()\n",
    "        self.fc1 = nn.Linear(state_size, fc1_units)\n",
    "        self.fc2 = nn.Linear(fc1_units, fc2_units)\n",
    "        self.fc3 = nn.Linear(fc2_units, action_size)\n",
    "        # set a nn with 1 layer\n",
    "        \n",
    "    def forward(self, state):\n",
    "        \"\"\"Build a network that maps state -> action values.\"\"\"\n",
    "        x = F.relu(self.fc1(state))\n",
    "        y = F.relu(self.fc2(x))\n",
    "        #Applies the rectified linear unit function element-wise. max(0,x)\n",
    "        return self.fc3(y)"
   ]
  },
  {
   "cell_type": "code",
   "execution_count": 27,
   "id": "55a9c6b0",
   "metadata": {},
   "outputs": [
    {
     "data": {
      "text/plain": [
       "<All keys matched successfully>"
      ]
     },
     "execution_count": 27,
     "metadata": {},
     "output_type": "execute_result"
    }
   ],
   "source": [
    "trained_model = QNetwork(37, 5)\n",
    "trained_model.load_state_dict(torch.load('/home/rant3/focal/model850.pth'))"
   ]
  },
  {
   "cell_type": "markdown",
   "id": "f705878c",
   "metadata": {},
   "source": [
    "### 5. Define the Replay Buffer"
   ]
  },
  {
   "cell_type": "code",
   "execution_count": 28,
   "id": "a1a8520c",
   "metadata": {},
   "outputs": [],
   "source": [
    "class ReplayBuffer:\n",
    "    \"\"\"Fixed-size buffer to store experience tuples.\"\"\"\n",
    "\n",
    "    def __init__(self, action_size, buffer_size, batch_size):\n",
    "        \"\"\"Initialize a ReplayBuffer object.\n",
    "        Params\n",
    "        ======\n",
    "            action_size (int): dimension of each action\n",
    "            buffer_size (int): maximum size of buffer\n",
    "            batch_size (int): size of each training batch\n",
    "        \"\"\"\n",
    "        self.action_size = action_size\n",
    "        self.memory = deque(maxlen=buffer_size)  \n",
    "        self.batch_size = batch_size\n",
    "        self.experience = namedtuple(\"Experience\", field_names=[\"state\", \"action\", \"reward\", \"next_state\", \"done\"])\n",
    "    \n",
    "    def add(self, state, action, reward, next_state, done):\n",
    "        \"\"\"Add a new experience to memory.\"\"\"\n",
    "#         action = dict2array(action)\n",
    "#         print('transfored actions:',action)\n",
    "        e = self.experience(state, action, reward, next_state, done)\n",
    "        self.memory.append(e)\n",
    "    \n",
    "    def sample(self):\n",
    "        \"\"\"Randomly sample a batch of experiences from memory.\"\"\"\n",
    "        experiences = random.sample(self.memory, k=self.batch_size)\n",
    "#         for e in experiences:\n",
    "# #             print(e)\n",
    "# #             print(e.state.shape, e.next_state.shape)\n",
    "#             break\n",
    "        states = torch.from_numpy(np.vstack([e.state for e in experiences if e is not None])).float().to(device)\n",
    "        actions = torch.from_numpy(np.vstack([e.action for e in experiences if e is not None])).long().to(device)\n",
    "        rewards = torch.from_numpy(np.vstack([e.reward for e in experiences if e is not None])).float().to(device)\n",
    "        next_states = torch.from_numpy(np.vstack([e.next_state for e in experiences if e is not None])).float().to(device)\n",
    "        dones = torch.from_numpy(np.vstack([e.done for e in experiences if e is not None]).astype(np.uint8)).float().to(device)\n",
    "  \n",
    "        return (states, actions, rewards, next_states, dones)\n",
    "\n",
    "    def __len__(self):\n",
    "        \"\"\"Return the current size of internal memory.\"\"\"\n",
    "        return len(self.memory)"
   ]
  },
  {
   "cell_type": "markdown",
   "id": "72686c19",
   "metadata": {},
   "source": [
    "### 6. Define the Agent"
   ]
  },
  {
   "cell_type": "code",
   "execution_count": 29,
   "id": "ef9713bf",
   "metadata": {},
   "outputs": [],
   "source": [
    "BUFFER_SIZE = int(1e5)  # replay buffer size\n",
    "BATCH_SIZE = 640         # minibatch size\n",
    "GAMMA = 0.99            # discount factor\n",
    "TAU = 60                # for update of target network parameters\n",
    "LR = 1e-5               # learning rate \n",
    "UPDATE_EVERY = 4        # how often to update the network"
   ]
  },
  {
   "cell_type": "code",
   "execution_count": 30,
   "id": "ea8e9674",
   "metadata": {},
   "outputs": [],
   "source": [
    "class Agent():\n",
    "    \"\"\"Interacts with and learns from the environment.\"\"\"\n",
    "\n",
    "    def __init__(self, state_size, action_size, trained_model):\n",
    "        \"\"\"Initialize an Agent object.\n",
    "        Params\n",
    "        ======\n",
    "            state_size (int): dimension of each state\n",
    "            action_size (int): dimension of each action\n",
    "        \"\"\"\n",
    "        self.state_size = state_size\n",
    "        self.action_size = action_size\n",
    "        # Q-Network\n",
    "        self.qnetwork_local = trained_model\n",
    "        #self.qnetwork_local = QNetwork(state_size, action_size).to(device)\n",
    "        self.qnetwork_target = QNetwork(state_size, action_size).to(device)\n",
    "        self.optimizer = optim.Adam(self.qnetwork_local.parameters(), lr=LR)\n",
    "\n",
    "        # Replay memory\n",
    "        self.memory = ReplayBuffer(action_size, BUFFER_SIZE, BATCH_SIZE)\n",
    "        # Initialize time step (for updating every UPDATE_EVERY steps)\n",
    "        self.t_step = 0\n",
    "    \n",
    "    def step(self, state, action, reward, next_state, done):\n",
    "        # Save experience in replay memory\n",
    "        self.memory.add(state, action, reward, next_state, done)\n",
    "        \n",
    "        # Learn every UPDATE_EVERY time steps.\n",
    "        self.t_step += 1\n",
    "        if self.t_step%UPDATE_EVERY == 0:\n",
    "            # If enough samples are available in memory, get random subset and learn\n",
    "            if len(self.memory) > BATCH_SIZE:\n",
    "                experiences = self.memory.sample()\n",
    "                self.learn(experiences, GAMMA)\n",
    "\n",
    "    def act(self, state, eps=0.):\n",
    "        \"\"\"Returns actions for given state as per current policy.\n",
    "        Params\n",
    "        ======\n",
    "            state (array_like): current state\n",
    "            eps (float): epsilon, for epsilon-greedy action selection\n",
    "        \"\"\"\n",
    "        state = torch.from_numpy(state).float().unsqueeze(0).to(device)\n",
    "        self.qnetwork_local.eval()\n",
    "        with torch.no_grad():\n",
    "            action_values = self.qnetwork_local(state)\n",
    "        self.qnetwork_local.train()\n",
    "\n",
    "#         Epsilon-greedy action selection\n",
    "        if random.random() > eps:\n",
    "            return np.argmax(action_values.cpu().data.numpy())\n",
    "        else:\n",
    "            return random.choice(np.arange(self.action_size))\n",
    "\n",
    "#         Epsilon-greedy action selection\n",
    "#         if random.random() > eps:\n",
    "#             return np.argmax(action_values.cpu().data.numpy())\n",
    "#         else:\n",
    "#             return random.choice(np.arange(self.action_size))\n",
    "# #         return action_values.cpu().data.numpy()\n",
    "\n",
    "\n",
    "    def learn(self, experiences, gamma):\n",
    "        \"\"\"Update value parameters using given batch of experience tuples.\n",
    "        Params\n",
    "        ======\n",
    "            experiences (Tuple[torch.Variable]): tuple of (s, a, r, s', done) tuples \n",
    "            gamma (float): discount factor\n",
    "        \"\"\"\n",
    "        states, actions, rewards, next_states, dones = experiences\n",
    "\n",
    "        # Get max predicted Q values (for next states) from target model\n",
    "        Q_targets_next = self.qnetwork_target(next_states).detach().max(1)[0].unsqueeze(1)\n",
    "#         print(Q_targets_next)\n",
    "        # Compute Q targets for current states \n",
    "        Q_targets = rewards + (gamma * Q_targets_next * (1 - dones))\n",
    "\n",
    "        # Get expected Q values from local model\n",
    "#         print('out',self.qnetwork_local(states).shape)\n",
    "        Q_expected = self.qnetwork_local(states).gather(1, actions)\n",
    "\n",
    "        # Compute loss\n",
    "        loss = F.mse_loss(Q_expected, Q_targets)\n",
    "        # Minimize the loss\n",
    "        self.optimizer.zero_grad()\n",
    "        loss.backward()\n",
    "        for param in self.qnetwork_local.parameters():\n",
    "            param.grad.data.clamp_(-1, 1)\n",
    "        self.optimizer.step()\n",
    "\n",
    "        #Update target network weights every TAU learning steps (so every TAU*UPDATE_EVERY t_step)\n",
    "        if self.t_step%(TAU*UPDATE_EVERY)==0:\n",
    "            self.update_target_net(self.qnetwork_local, self.qnetwork_target)                     \n",
    "\n",
    "    def update_target_net(self, local_model, target_model):\n",
    "        \"\"\"Soft update model parameters.\n",
    "        Params\n",
    "        ======\n",
    "            local_model (PyTorch model): weights will be copied from\n",
    "            target_model (PyTorch model): weights will be copied to\n",
    "        \"\"\"\n",
    "        target_model.load_state_dict(local_model.state_dict())"
   ]
  },
  {
   "cell_type": "code",
   "execution_count": 31,
   "id": "fcbd1e6f",
   "metadata": {},
   "outputs": [],
   "source": [
    "def get_reward(state, n_action, w_action, next_state, done, k1, k2, k3, k4, n_amount, w_amount):\n",
    "    #if done, return Yield (topwt) - k*cost\n",
    "    penalty1 = 0\n",
    "    penalty2 = 0\n",
    "    #k1=10**(-3)*(i_episode*2)\n",
    "    # base cost is current input action\n",
    "    if n_amount > 250:\n",
    "        if n_action!=0:\n",
    "            penalty1 = (n_amount-250)\n",
    "    if w_amount > 600:\n",
    "        if w_action!= 0:\n",
    "            penalty2=(w_amount-600)\n",
    "    if done:\n",
    "        reward = state[29] - k1*n_action - k2*w_action- k3*penalty1-k4*penalty2\n",
    "        return reward\n",
    "    #if done, return Yield (topwt) - k*cost\n",
    "    else:\n",
    "        reward = -k1*(n_action + 10*state[25]) - k2*w_action- k3*penalty1-k4*penalty2\n",
    "        return reward\n",
    "    # otherwise, return -k*(action+leaching)"
   ]
  },
  {
   "cell_type": "markdown",
   "id": "e171c08a",
   "metadata": {},
   "source": [
    "### DQN for nitrogen management"
   ]
  },
  {
   "cell_type": "code",
   "execution_count": 32,
   "id": "e8bd30bd",
   "metadata": {},
   "outputs": [],
   "source": [
    "agent = Agent(state_size=ram_dimensions, action_size=nb_actions, trained_model=trained_model)"
   ]
  },
  {
   "cell_type": "code",
   "execution_count": 33,
   "id": "91db208f",
   "metadata": {},
   "outputs": [
    {
     "name": "stdout",
     "output_type": "stream",
     "text": [
      "\n",
      "N amount is [240.0]\n",
      "average N input is 240.0\n",
      "\n",
      "N leaching is [0.14439421892166138]\n",
      "average Leaching is 0.14439421892166138\n",
      "\n",
      "Yield is [21711.8505859375]\n",
      "average Yield is 21711.8505859375\n",
      "\n",
      "Reward is [2147.0406643748283]\n",
      "average reward is 2147.0406643748283\n",
      "[40, 40, 0, 0, 40, 40, 40, 0, 0, 0, 0, 0, 0, 0, 0, 0, 0, 0, 0, 0, 0, 0, 0, 0, 40, 0, 0, 0, 0, 0, 0, 0, 0, 0, 0, 0, 0, 0, 0, 0, 0, 0, 0, 0, 0, 0, 0, 0, 0, 0, 0, 0, 0, 0, 0, 0, 0, 0, 0, 0, 0, 0, 0, 0, 0, 0, 0, 0, 0, 0, 0, 0, 0, 0, 0, 0, 0, 0, 0, 0, 0, 0, 0, 0, 0, 0, 0, 0, 0, 0, 0, 0, 0, 0, 0, 0, 0, 0, 0, 0, 0, 0, 0, 0, 0, 0, 0, 0, 0, 0, 0, 0, 0, 0, 0, 0, 0, 0, 0, 0, 0, 0, 0, 0, 0, 0, 0, 0, 0, 0, 0, 0, 0, 0, 0, 0, 0, 0, 0, 0, 0, 0, 0, 0, 0, 0, 0, 0, 0, 0, 0, 0, 0, 0, 0, 0, 0, 0, 0, 0, 0, 0, 0, 0, 0, 0, 0, 0, 0, 0, 0, 0, 0, 0, 0, 0, 0, 0, 0, 0, 0, 0, 0, 0, 0, 0, 0, 0, 0, 0]\n",
      "[0.1889999955892563, 0.18728399276733398, 0.20667800307273865, 0.28274598717689514, 0.26649901270866394, 0.2447340041399002, 0.22499799728393555, 0.2071010023355484, 0.19087299704551697, 0.17615699768066406, 0.18188099563121796, 0.16800299286842346, 0.2698259949684143, 0.331961989402771, 0.3106380105018616, 0.2753640115261078, 0.27184098958969116, 0.32743701338768005, 0.3327749967575073, 0.309581995010376, 0.28255000710487366, 0.306410014629364, 0.3250980079174042, 0.3269810080528259, 0.2869429886341095, 0.25816598534584045, 0.28902098536491394, 0.3210409879684448, 0.30752700567245483, 0.28196200728416443, 0.2559249997138977, 0.22842299938201904, 0.210207000374794, 0.21275700628757477, 0.19600099325180054, 0.1808069944381714, 0.16703000664710999, 0.15453700721263885, 0.31911200284957886, 0.2836669981479645, 0.2781110107898712, 0.3265419900417328, 0.29222598671913147, 0.27547401189804077, 0.24201999604701996, 0.31631898880004883, 0.3095569908618927, 0.32571500539779663, 0.2954069972038269, 0.2762329876422882, 0.32343700528144836, 0.28187599778175354, 0.2957969903945923, 0.28424200415611267, 0.2582319974899292, 0.2349579930305481, 0.2339780032634735, 0.21301999688148499, 0.19324100017547607, 0.3152390122413635, 0.31470900774002075, 0.27955999970436096, 0.25150200724601746, 0.22678199410438538, 0.29390400648117065, 0.26701900362968445, 0.2406349927186966, 0.24273799359798431, 0.2245669960975647, 0.3284600079059601, 0.31461000442504883, 0.28470298647880554, 0.31775298714637756, 0.3185440003871918, 0.29270899295806885, 0.3225019872188568, 0.32273000478744507, 0.2995400130748749, 0.28923898935317993, 0.2613750100135803, 0.23515300452709198, 0.2092210054397583, 0.18515199422836304, 0.33549898862838745, 0.31882598996162415, 0.32956600189208984, 0.3318060040473938, 0.3165839910507202, 0.3003990054130554, 0.28920799493789673, 0.28766000270843506, 0.2711859941482544, 0.26161399483680725, 0.33238300681114197, 0.3091070055961609, 0.29287800192832947, 0.2768470048904419, 0.32695499062538147, 0.32877299189567566, 0.3057909905910492, 0.29459699988365173, 0.28025099635124207, 0.27010899782180786, 0.25663700699806213, 0.3287459909915924, 0.33156299591064453, 0.30717000365257263, 0.29311999678611755, 0.27750998735427856, 0.3288460075855255, 0.32743600010871887, 0.3186970055103302, 0.3002760112285614, 0.2891170084476471, 0.28465500473976135, 0.2678700089454651, 0.33382099866867065, 0.3198620080947876, 0.30324599146842957, 0.2936539947986603, 0.3339030146598816, 0.3122270107269287, 0.30077800154685974, 0.2923780083656311, 0.28093698620796204, 0.26835399866104126, 0.2563219964504242, 0.24712400138378143, 0.2372869998216629, 0.22638800740242004, 0.2182520031929016, 0.2051219940185547, 0.19228200614452362, 0.2880519926548004, 0.3287949860095978, 0.3068679869174957, 0.32811400294303894, 0.3057039976119995, 0.29311099648475647, 0.2789750099182129, 0.2648850083351135, 0.2548049986362457, 0.24792300164699554, 0.23369799554347992, 0.2219180017709732, 0.20419199764728546, 0.18645399808883667, 0.16778600215911865, 0.16419799625873566, 0.15160900354385376, 0.14058400690555573, 0.12734700739383698, 0.11673100292682648, 0.10892599821090698, 0.10184899717569351, 0.21845099329948425, 0.3162649869918823, 0.29191499948501587, 0.2557789981365204, 0.21355299651622772, 0.19269399344921112, 0.15791699290275574, 0.2672230005264282, 0.2304989993572235, 0.20460300147533417, 0.18174299597740173, 0.16126200556755066, 0.146479994058609, 0.13326799869537354, 0.12300500273704529, 0.11425100266933441, 0.10667700320482254, 0.11887700110673904, 0.11066800355911255, 0.10342799872159958, 0.10639700293540955, 0.09955500066280365, 0.09335099905729294, 0.08772599697113037, 0.08262500166893005, 0.07799900323152542, 0.07380499690771103, 0.07000099867582321, 0.06655199825763702, 0.06342499703168869, 0.06058900058269501, 0.058017000555992126, 0.055684998631477356, 0.08217199891805649, 0.0775889977812767]\n"
     ]
    }
   ],
   "source": [
    "Action_list=[]\n",
    "Nleach_list = []\n",
    "Yield_list=[]\n",
    "reward_list=[]\n",
    "for i in range(1):\n",
    "    #print('')\n",
    "    env.reset()\n",
    "    n_amount=0\n",
    "    n_list=[]\n",
    "    istage_list=[]\n",
    "    vstage_list=[]\n",
    "    sw_list=[]\n",
    "    #print(env.observation)\n",
    "    #date = 1\n",
    "    #print(date)\n",
    "    while not env.done:\n",
    "        #print(observation)\n",
    "        #print(observation)\n",
    "        # observation_list = env.observation_dict_to_array(observation)\n",
    "        state=env.observation\n",
    "        state = dict2array(state)\n",
    "        action1=agent.act(state,0)\n",
    "        #print(action1)\n",
    "        action = {\n",
    "                    'anfer': (action1)*40,  # if mode == fertilization or mode == all ; nitrogen to fertilize in kg/ha\n",
    "                    'amir': 0,  # if mode == irrigation or mode == all ; water to irrigate in L/ha\n",
    "            }\n",
    "        n_list.append(action['anfer'])\n",
    "\n",
    "        n_amount += action['anfer']\n",
    "        istage_list.append(env.observation['istage'])\n",
    "        vstage_list.append(env.observation['vstage'])\n",
    "        sw_list.append(env.observation['sw'][0])\n",
    "        observation, reward, done, info = env.step(action)\n",
    "        #print('observation is', observation)\n",
    "        #real_ob = add_fert(observation, action_dict['anfer'])\n",
    "        #print('real_ob is ', real_ob)\n",
    "        #env.observation = real_ob\n",
    "        #print('final ob is:', env.observation)\n",
    "        #real_s=get_real_state(env._state, action_dict['anfer'])\n",
    "        #env._state=real_s\n",
    "        #print('env_state', env._state)\n",
    "        #print(date)\n",
    "        #print(reward)\n",
    "        #print(done)\n",
    "        if done:\n",
    "            final_ob=env.observation\n",
    "            #print(final_ob)\n",
    "            action=final_ob['cumsumfert']\n",
    "            Nleach=final_ob['cleach']\n",
    "            Yield=final_ob['topwt']*10\n",
    "            Action_list.append(action)\n",
    "            Nleach_list.append(Nleach)\n",
    "            Yield_list.append(Yield)\n",
    "            reward=Yield*0.1-1*Nleach-0.1*n_amount\n",
    "            reward_list.append(reward)\n",
    "            #print(env.observation)\n",
    "            #print(env.history['action'])\n",
    "            #print(env.history['reward'])\n",
    "print('')\n",
    "print('N amount is', Action_list)\n",
    "print('average N input is', np.mean(Action_list))\n",
    "print('')\n",
    "\n",
    "print('N leaching is', Nleach_list)\n",
    "print('average Leaching is', np.mean(Nleach_list))\n",
    "print('')\n",
    "print('Yield is', Yield_list)\n",
    "print('average Yield is', np.mean(Yield_list))\n",
    "print('')\n",
    "print('Reward is', reward_list)\n",
    "print('average reward is', np.mean(reward_list))\n",
    "import matplotlib.pyplot as plt\n",
    "import pandas\n",
    "plt.figure()\n",
    "plt.plot(n_list)\n",
    "plt.title('Fertilizer application from trained policy')\n",
    "plt.xlabel('Day')\n",
    "plt.ylabel('Nitrogen input')\n",
    "plt.savefig('Fertilizer application from trained policy')\n",
    "\n",
    "df = pandas.DataFrame(n_list, columns=[\"colummn\"])\n",
    "df.to_csv('n_list.csv', index=False)\n",
    "\n",
    "df = pandas.DataFrame(istage_list, columns=[\"colummn\"])\n",
    "df.to_csv('istage_list.csv', index=False)\n",
    "df = pandas.DataFrame(vstage_list, columns=[\"colummn\"])\n",
    "df.to_csv('vstage_list.csv', index=False)\n",
    "print(n_list)\n",
    "\n",
    "print(sw_list)"
   ]
  },
  {
   "cell_type": "code",
   "execution_count": 12,
   "id": "135de7ca",
   "metadata": {},
   "outputs": [
    {
     "ename": "NameError",
     "evalue": "name 'topwt' is not defined",
     "output_type": "error",
     "traceback": [
      "\u001b[0;31m---------------------------------------------------------------------------\u001b[0m",
      "\u001b[0;31mNameError\u001b[0m                                 Traceback (most recent call last)",
      "Input \u001b[0;32mIn [12]\u001b[0m, in \u001b[0;36m<cell line: 3>\u001b[0;34m()\u001b[0m\n\u001b[1;32m      1\u001b[0m \u001b[38;5;28;01mimport\u001b[39;00m \u001b[38;5;21;01mmatplotlib\u001b[39;00m\u001b[38;5;21;01m.\u001b[39;00m\u001b[38;5;21;01mpyplot\u001b[39;00m \u001b[38;5;28;01mas\u001b[39;00m \u001b[38;5;21;01mplt\u001b[39;00m\n\u001b[1;32m      2\u001b[0m plt\u001b[38;5;241m.\u001b[39mfigure()\n\u001b[0;32m----> 3\u001b[0m plt\u001b[38;5;241m.\u001b[39mplot(\u001b[43mtopwt\u001b[49m)\n\u001b[1;32m      4\u001b[0m plt\u001b[38;5;241m.\u001b[39mtitle(\u001b[38;5;124m\"\u001b[39m\u001b[38;5;124mTopwt IOWA 280\u001b[39m\u001b[38;5;124m\"\u001b[39m)\n\u001b[1;32m      5\u001b[0m plt\u001b[38;5;241m.\u001b[39msavefig(\u001b[38;5;124m\"\u001b[39m\u001b[38;5;124mtopwt IOWA 280.png\u001b[39m\u001b[38;5;124m\"\u001b[39m)\n",
      "\u001b[0;31mNameError\u001b[0m: name 'topwt' is not defined"
     ]
    }
   ],
   "source": [
    "import matplotlib.pyplot as plt\n",
    "plt.figure()\n",
    "plt.plot(topwt)\n",
    "plt.title(\"Topwt IOWA 280\")\n",
    "plt.savefig(\"topwt IOWA 280.png\")\n",
    "plt.figure()\n",
    "plt.plot(nitrogen_uptake)\n",
    "plt.title(\"Nitrogen uptake IOWA 280\")\n",
    "plt.savefig(\"Nitrogen uptake IOWA 280.png\")\n",
    "plt.figure()\n",
    "plt.plot(leaching)\n",
    "plt.title(\"Nitrate leaching IOWA 280\")\n",
    "plt.savefig(\"Nitrate leaching IOWA 280.png\")\n",
    "plt.figure()\n",
    "plt.plot(action_list)\n",
    "plt.title(\"action IOWA 280\")\n",
    "plt.savefig(\"action IOWA 280.png\")"
   ]
  },
  {
   "cell_type": "code",
   "execution_count": null,
   "id": "c86f8c98",
   "metadata": {},
   "outputs": [],
   "source": []
  },
  {
   "cell_type": "code",
   "execution_count": null,
   "id": "fd10e713",
   "metadata": {},
   "outputs": [],
   "source": [
    "import pandas as pd\n",
    "a = pd.DataFrame(topwt)\n",
    "a.to_csv('topwt IOWA 280.csv', index=False, header=False)\n",
    "b = pd.DataFrame(nitrogen_uptake)\n",
    "b.to_csv('Nitrogen uptake IOWA 280.csv', index=False, header=False)\n",
    "c = pd.DataFrame(leaching)\n",
    "c.to_csv('Nitrate leaching IOWA 280.csv', index=False, header=False)\n",
    "c = pd.DataFrame(action_list)\n",
    "c.to_csv('Action IOWA 280.csv', index=False, header=False)"
   ]
  },
  {
   "cell_type": "code",
   "execution_count": null,
   "id": "97182cfc",
   "metadata": {},
   "outputs": [],
   "source": [
    "import matplotlib.pyplot as plt\n",
    "plt.figure()\n",
    "plt.plot(topwt)\n",
    "plt.title(\"topwt paper method k=0.1 act 40\")\n",
    "plt.savefig(\"topwt paper method k=0.1 act 40.png\")\n",
    "plt.figure()\n",
    "plt.plot(nitrogen_uptake)\n",
    "plt.title(\"Nitrogen uptake paper method k=0.1 act 40\")\n",
    "plt.savefig(\"Nitrogen uptake paper method k=0.1 act 40.png\")\n",
    "plt.figure()\n",
    "plt.plot(leaching)\n",
    "plt.title(\"Nitrate leaching paper method k=0.1 act 40\")\n",
    "plt.savefig(\"Nitrate leaching paper method k=0.1 act 40.png\")\n",
    "plt.figure()\n",
    "plt.plot(action_list)\n",
    "plt.title(\"action paper method k=0.1 act 40\")\n",
    "plt.savefig(\"action paper method k=0.1 act 40.png\")"
   ]
  },
  {
   "cell_type": "code",
   "execution_count": 14,
   "id": "99d4c931",
   "metadata": {},
   "outputs": [],
   "source": [
    "import pandas as pd\n",
    "a = pd.DataFrame(topwt)\n",
    "a.to_csv('topwt paper method k=0.1 act 40.csv', index=False, header=False)\n",
    "b = pd.DataFrame(nitrogen_uptake)\n",
    "b.to_csv('Nitrogen uptake paper method k=0.1 act 40.csv', index=False, header=False)\n",
    "c = pd.DataFrame(leaching)\n",
    "c.to_csv('Nitrate leaching paper method k=0.1 act 40.csv', index=False, header=False)\n",
    "c = pd.DataFrame(action_list)\n",
    "c.to_csv('Action paper method k=0.1 act 40.csv', index=False, header=False)"
   ]
  },
  {
   "cell_type": "code",
   "execution_count": 15,
   "id": "1edba494",
   "metadata": {},
   "outputs": [
    {
     "data": {
      "text/plain": [
       "2097.3241743206454"
      ]
     },
     "execution_count": 15,
     "metadata": {},
     "output_type": "execute_result"
    }
   ],
   "source": [
    "score"
   ]
  },
  {
   "cell_type": "code",
   "execution_count": 12,
   "id": "c9aa952d",
   "metadata": {},
   "outputs": [],
   "source": [
    "import matplotlib.pyplot as plt\n",
    "plt.figure()\n",
    "plt.plot(action_list)\n",
    "plt.title(\"action k=0.1 act every 14 days\")\n",
    "plt.savefig(\"action k=0.1 act every 14 days.png\")"
   ]
  },
  {
   "cell_type": "code",
   "execution_count": null,
   "id": "42bead67",
   "metadata": {},
   "outputs": [],
   "source": []
  }
 ],
 "metadata": {
  "kernelspec": {
   "display_name": "Python 3 (ipykernel)",
   "language": "python",
   "name": "python3"
  },
  "language_info": {
   "codemirror_mode": {
    "name": "ipython",
    "version": 3
   },
   "file_extension": ".py",
   "mimetype": "text/x-python",
   "name": "python",
   "nbconvert_exporter": "python",
   "pygments_lexer": "ipython3",
   "version": "3.8.10"
  }
 },
 "nbformat": 4,
 "nbformat_minor": 5
}
