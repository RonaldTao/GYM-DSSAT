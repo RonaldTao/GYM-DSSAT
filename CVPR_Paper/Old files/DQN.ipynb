{
 "cells": [
  {
   "cell_type": "markdown",
   "id": "93dda018",
   "metadata": {},
   "source": [
    "### 1. Import packages"
   ]
  },
  {
   "cell_type": "code",
   "execution_count": 1,
   "id": "6f1cfcf8",
   "metadata": {},
   "outputs": [],
   "source": [
    "import numpy as np\n",
    "import pandas as pd\n",
    "import random\n",
    "from IPython import display\n",
    "from collections import namedtuple, deque\n",
    "import time\n",
    "from tqdm import tqdm\n",
    "import matplotlib.pyplot as plt\n",
    "%matplotlib inline\n",
    "\n",
    "import torch\n",
    "import torch.nn as nn\n",
    "import torch.nn.functional as F\n",
    "import torch.optim as optim\n",
    "device = torch.device(\"cpu\")\n",
    "# use cpu run\n",
    "import gym"
   ]
  },
  {
   "cell_type": "markdown",
   "id": "23a8e0e3",
   "metadata": {},
   "source": [
    "### 2. Helper functions"
   ]
  },
  {
   "cell_type": "code",
   "execution_count": 2,
   "id": "a0d74676",
   "metadata": {},
   "outputs": [],
   "source": [
    "def dict2array(state):\n",
    "    new_state = []\n",
    "    for key  in state.keys():\n",
    "        if key != 'sw':\n",
    "            new_state.append(state[key])\n",
    "        else:\n",
    "            new_state += list(state['sw'])        \n",
    "    state = np.asarray(new_state)\n",
    "    \n",
    "    return state"
   ]
  },
  {
   "cell_type": "markdown",
   "id": "db8650bd",
   "metadata": {},
   "source": [
    "### 3. Initialize the environment"
   ]
  },
  {
   "cell_type": "code",
   "execution_count": 3,
   "id": "fe07f4eb",
   "metadata": {},
   "outputs": [
    {
     "name": "stdout",
     "output_type": "stream",
     "text": [
      "Observation: {'cleach': 0.0, 'cnox': 0.0, 'cumsumfert': 0.0, 'dap': 0, 'dtt': 0.0, 'es': 0.0, 'grnwt': 0.0, 'istage': 7, 'nstres': 0.0, 'pcngrn': 0.0, 'pltpop': 7.199999809265137, 'rain': 0.0, 'rtdep': 0.0, 'runoff': 0.0, 'srad': 13.300000190734863, 'sw': array([0.086     , 0.086     , 0.086     , 0.086     , 0.086     ,\n",
      "       0.076     , 0.076     , 0.13      , 0.25799999]), 'swfac': 0.0, 'tleachd': 0.0, 'tmax': 22.200000762939453, 'tmin': 3.299999952316284, 'tnoxd': 0.0, 'topwt': 0.0, 'trnu': 0.0, 'vstage': 0.0, 'wtdep': 0.0, 'wtnup': 0.0, 'xlai': 0.0}\n",
      "27 9\n",
      "\n",
      "Ram information received from DASSAT will has 35 dimensions.\n",
      "There are 11 possible actions at each step.\n",
      "Discrete? False\n",
      "[ 0.          0.          0.          0.          0.          0.\n",
      "  0.          7.          0.          0.          7.19999981  0.\n",
      "  0.          0.         13.30000019  0.086       0.086       0.086\n",
      "  0.086       0.086       0.076       0.076       0.13        0.25799999\n",
      "  0.          0.         22.20000076  3.29999995  0.          0.\n",
      "  0.          0.          0.          0.          0.        ]\n"
     ]
    }
   ],
   "source": [
    "env_args = {\n",
    "    'run_dssat_location': '/opt/dssat_pdi/run_dssat',  # assuming (modified) DSSAT has been installed in /opt/dssat_pdi\n",
    "    'log_saving_path': './logs/dssat-pdi.log',  # if you want to save DSSAT outputs for inspection\n",
    "    # 'mode': 'irrigation',  # you can choose one of those 3 modes\n",
    "    # 'mode': 'fertilization',\n",
    "    'mode': 'all',\n",
    "    'seed': 123456,\n",
    "    'random_weather': False,  # if you want stochastic weather\n",
    "}\n",
    "env = gym.make('gym_dssat_pdi:GymDssatPdi-v0', **env_args)\n",
    "print('Observation:',env.observation,)\n",
    "print(len(env.observation),len(env.observation['sw']))\n",
    "ram_dimensions = len(env.observation) + 8\n",
    "nb_actions = 11\n",
    "print('\\nRam information received from DASSAT will has %d dimensions.' % ram_dimensions)\n",
    "print('There are %d possible actions at each step.' % nb_actions)\n",
    "print('Discrete?',type(gym.spaces)== gym.spaces.Discrete)\n",
    "# observation has 27 elements, 9 values in soil water\n",
    "# state size = 27+8=35 dimension\n",
    "# how to defind nb_action? why is 200?\n",
    "state = env.reset()\n",
    "state=dict2array(state)\n",
    "print(state)\n",
    "#index of tleachd = 25\n",
    "#index of topwt = 29"
   ]
  },
  {
   "cell_type": "markdown",
   "id": "b4283d29",
   "metadata": {},
   "source": [
    "### 4. Define the network"
   ]
  },
  {
   "cell_type": "code",
   "execution_count": 4,
   "id": "a6021276",
   "metadata": {},
   "outputs": [],
   "source": [
    "class QNetwork(nn.Module):\n",
    "    \"\"\"Agent (Policy) Model.\"\"\"\n",
    "    # given a state of 35 dim, Qnetwork will return 200 values for each possible action  \n",
    "\n",
    "    def __init__(self, state_size, action_size, fc1_units=256):\n",
    "        \"\"\"Initialize parameters and build model.\n",
    "        Params\n",
    "        ======\n",
    "            state_size (int): Dimension of each state\n",
    "            action_size (int): Dimension of each action\n",
    "            fc1_units (int): Number of nodes in first hidden layer\n",
    "            why is it 256? randomly?\n",
    "        \"\"\"\n",
    "        super(QNetwork, self).__init__()\n",
    "        self.fc1 = nn.Linear(state_size, fc1_units)\n",
    "        self.fc2 = nn.Linear(fc1_units, action_size)\n",
    "        # set a nn with 1 layer\n",
    "        \n",
    "    def forward(self, state):\n",
    "        \"\"\"Build a network that maps state -> action values.\"\"\"\n",
    "        x = F.relu(self.fc1(state))\n",
    "        #Applies the rectified linear unit function element-wise. max(0,x)\n",
    "        return self.fc2(x)"
   ]
  },
  {
   "cell_type": "markdown",
   "id": "f705878c",
   "metadata": {},
   "source": [
    "### 5. Define the Replay Buffer"
   ]
  },
  {
   "cell_type": "code",
   "execution_count": 5,
   "id": "a1a8520c",
   "metadata": {},
   "outputs": [],
   "source": [
    "class ReplayBuffer:\n",
    "    \"\"\"Fixed-size buffer to store experience tuples.\"\"\"\n",
    "\n",
    "    def __init__(self, action_size, buffer_size, batch_size):\n",
    "        \"\"\"Initialize a ReplayBuffer object.\n",
    "        Params\n",
    "        ======\n",
    "            action_size (int): dimension of each action\n",
    "            buffer_size (int): maximum size of buffer\n",
    "            how many samples stored in buffer\n",
    "            batch_size (int): size of each training batch\n",
    "        \"\"\"\n",
    "        self.action_size = action_size\n",
    "        self.memory = deque(maxlen=buffer_size)\n",
    "        # store [s,a,r,s',done] for each sample in buffer\n",
    "        self.batch_size = batch_size\n",
    "        self.experience = namedtuple(\"Experience\", field_names=[\"state\", \"action\", \"reward\", \"next_state\", \"done\"])\n",
    "    \n",
    "    def add(self, state, action, reward, next_state, done):\n",
    "        \"\"\"Add a new experience to memory.\"\"\"\n",
    "#         action = dict2array(action)\n",
    "#         print('transfored actions:',action)\n",
    "        e = self.experience(state, action, reward, next_state, done)\n",
    "        self.memory.append(e)\n",
    "    \n",
    "    def sample(self):\n",
    "        \"\"\"Randomly sample a batch of experiences from memory.\"\"\"\n",
    "        experiences = random.sample(self.memory, k=self.batch_size)\n",
    "#         for e in experiences:\n",
    "# #             print(e)\n",
    "# #             print(e.state.shape, e.next_state.shape)\n",
    "#             break\n",
    "        states = torch.from_numpy(np.vstack([e.state for e in experiences if e is not None])).float().to(device)\n",
    "        # vstack is add rows together as a single matrix\n",
    "        actions = torch.from_numpy(np.vstack([e.action for e in experiences if e is not None])).long().to(device)\n",
    "        rewards = torch.from_numpy(np.vstack([e.reward for e in experiences if e is not None])).float().to(device)\n",
    "        next_states = torch.from_numpy(np.vstack([e.next_state for e in experiences if e is not None])).float().to(device)\n",
    "        dones = torch.from_numpy(np.vstack([e.done for e in experiences if e is not None]).astype(np.uint8)).float().to(device)\n",
    "        #get all the states, actions, rewards, next_states, dones for all elements in this sample batch, each as a single matrix\n",
    "        #device here is cpu?\n",
    "        return (states, actions, rewards, next_states, dones)\n",
    "\n",
    "    def __len__(self):\n",
    "        \"\"\"Return the current size of internal memory.\"\"\"\n",
    "        return len(self.memory)"
   ]
  },
  {
   "cell_type": "markdown",
   "id": "72686c19",
   "metadata": {},
   "source": [
    "### 6. Define the Agent"
   ]
  },
  {
   "cell_type": "code",
   "execution_count": 6,
   "id": "ef9713bf",
   "metadata": {},
   "outputs": [],
   "source": [
    "BUFFER_SIZE = int(1e5)  # replay buffer size\n",
    "BATCH_SIZE = 64         # minibatch size\n",
    "GAMMA = 0.99            # discount factor\n",
    "TAU = 60                # for update of target network parameters\n",
    "LR = 1e-5               # learning rate \n",
    "UPDATE_EVERY = 4        # how often to update the network"
   ]
  },
  {
   "cell_type": "markdown",
   "id": "e502bc3e",
   "metadata": {},
   "source": [
    "### Reward function"
   ]
  },
  {
   "cell_type": "code",
   "execution_count": 7,
   "id": "a57175b6",
   "metadata": {},
   "outputs": [],
   "source": [
    "class Agent():\n",
    "    \"\"\"Interacts with and learns from the environment.\"\"\"\n",
    "\n",
    "    def __init__(self, state_size, action_size):\n",
    "        \"\"\"Initialize an Agent object.\n",
    "        Params\n",
    "        ======\n",
    "            state_size (int): dimension of each state\n",
    "            action_size (int): dimension of each action\n",
    "        \"\"\"\n",
    "        self.state_size = state_size\n",
    "        self.action_size = action_size\n",
    "\n",
    "        # Q-Network\n",
    "        self.qnetwork_local = QNetwork(state_size, action_size).to(device)\n",
    "        self.qnetwork_target = QNetwork(state_size, action_size).to(device)\n",
    "        self.optimizer = optim.Adam(self.qnetwork_local.parameters(), lr=LR)\n",
    "\n",
    "        # Replay memory\n",
    "        self.memory = ReplayBuffer(action_size, BUFFER_SIZE, BATCH_SIZE)\n",
    "        # Initialize time step (for updating every UPDATE_EVERY steps)\n",
    "        self.t_step = 0\n",
    "    \n",
    "    def step(self, state, action, reward, next_state, done):\n",
    "        # Save experience in replay memory\n",
    "        # add current (s,r,a,s') and sample a batch and learn if update_every\n",
    "        self.memory.add(state, action, reward, next_state, done)\n",
    "        \n",
    "        # Learn every UPDATE_EVERY time steps.\n",
    "        self.t_step += 1\n",
    "        if self.t_step%UPDATE_EVERY == 0:\n",
    "            # If enough samples are available in memory, get random subset and learn\n",
    "            if len(self.memory) > BATCH_SIZE:\n",
    "                experiences = self.memory.sample()\n",
    "                self.learn(experiences, GAMMA)\n",
    "\n",
    "    def act(self, state, eps=0.):\n",
    "        \"\"\"Returns actions for given state as per current policy.\n",
    "        Params\n",
    "        ======\n",
    "            state (array_like): current state\n",
    "            eps (float): epsilon, for epsilon-greedy action selection\n",
    "        \"\"\"\n",
    "        state = torch.from_numpy(state).float().unsqueeze(0).to(device)\n",
    "        self.qnetwork_local.eval()\n",
    "        with torch.no_grad():\n",
    "            action_values = self.qnetwork_local(state)\n",
    "        self.qnetwork_local.train()\n",
    "#         Epsilon-greedy action selection\n",
    "        if random.random() > eps:\n",
    "            return np.argmax(action_values.cpu().data.numpy())\n",
    "        # return the action index with the largest value\n",
    "        else:\n",
    "            return random.choice(np.arange(self.action_size))\n",
    "            #return one action randomly with possibility eps\n",
    "\n",
    "#         Epsilon-greedy action selection\n",
    "#         if random.random() > eps:\n",
    "#             return np.argmax(action_values.cpu().data.numpy())\n",
    "#         else:\n",
    "#             return random.choice(np.arange(self.action_size))\n",
    "# #         return action_values.cpu().data.numpy()\n",
    "\n",
    "\n",
    "    def learn(self, experiences, gamma):\n",
    "        \"\"\"Update value parameters using given batch of experience tuples.\n",
    "        Params\n",
    "        ======\n",
    "            experiences (Tuple[torch.Variable]): tuple of (s, a, r, s', done) tuples \n",
    "            gamma (float): discount factor\n",
    "        \"\"\"\n",
    "        states, actions, rewards, next_states, dones = experiences\n",
    "\n",
    "        # Get max predicted Q values (for next states) from target model\n",
    "        Q_targets_next = self.qnetwork_target(next_states).detach().max(1)[0].unsqueeze(1)\n",
    "        # detach for diemnsion correctness\n",
    "        # GET largest value of self.qnetwork_target(next_states)\n",
    "#         print(Q_targets_next)\n",
    "        # Compute Q targets for current states \n",
    "        Q_targets = rewards + (gamma * Q_targets_next * (1 - dones))\n",
    "        # 0 if done\n",
    "\n",
    "        # Get expected Q values from local model\n",
    "#         print('out',self.qnetwork_local(states).shape)\n",
    "        Q_expected = self.qnetwork_local(states).gather(1, actions)\n",
    "        #Why need to gather? actions are indexs?\n",
    "\n",
    "        # Compute loss\n",
    "        loss = F.mse_loss(Q_expected, Q_targets)\n",
    "        # Minimize the loss\n",
    "        self.optimizer.zero_grad()\n",
    "        loss.backward()\n",
    "        # after this, the parameter of local network will change based on gradient descent\n",
    "        for param in self.qnetwork_local.parameters():\n",
    "            param.grad.data.clamp_(-1, 1)\n",
    "        # stabilize traning to keep grad between (-1,1)\n",
    "        self.optimizer.step()\n",
    "        #固定用法, change learning rate\n",
    "\n",
    "        #Update target network weights every TAU learning steps (so every TAU*UPDATE_EVERY t_step)\n",
    "        if self.t_step%(TAU*UPDATE_EVERY)==0:\n",
    "            self.update_target_net(self.qnetwork_local, self.qnetwork_target)                     \n",
    "\n",
    "    def update_target_net(self, local_model, target_model):\n",
    "        \"\"\"Soft update model parameters.\n",
    "        Params\n",
    "        ======\n",
    "            local_model (PyTorch model): weights will be copied from\n",
    "            target_model (PyTorch model): weights will be copied to\n",
    "        \"\"\"\n",
    "        target_model.load_state_dict(local_model.state_dict())"
   ]
  },
  {
   "cell_type": "code",
   "execution_count": 8,
   "id": "729d9943",
   "metadata": {},
   "outputs": [],
   "source": [
    "def get_reward(state, action, next_state, done, k, action_number):\n",
    "    #if done, return Yield (topwt) - k*cost\n",
    "    if action_number > 3:\n",
    "        cost = 2000*(action_number-3) + action\n",
    "        # cost = punishment of actions + current action\n",
    "    else:\n",
    "        cost = action\n",
    "    if done:\n",
    "        return state[29]- k*action\n",
    "    #if done, return Yield (topwt) - k*cost\n",
    "    else:\n",
    "        return -k*(cost-next_state[25])\n",
    "    # otherwise, return -k*(cost+leaching)"
   ]
  },
  {
   "cell_type": "markdown",
   "id": "e171c08a",
   "metadata": {},
   "source": [
    "### DQN for nitrogen management"
   ]
  },
  {
   "cell_type": "code",
   "execution_count": 9,
   "id": "e8bd30bd",
   "metadata": {},
   "outputs": [],
   "source": [
    "agent = Agent(state_size=ram_dimensions, action_size=nb_actions)"
   ]
  },
  {
   "cell_type": "code",
   "execution_count": 10,
   "id": "ed7bd637",
   "metadata": {},
   "outputs": [],
   "source": [
    "def dqn(n_episodes=2000, max_t=500, eps_start=1.0, eps_end=0.01, eps_decay=0.997, solved=495, optimize = True):\n",
    "    \"\"\"Deep Q-Learning.\n",
    "    \n",
    "    Params\n",
    "    ======\n",
    "        n_episodes (int): maximum number of training episodes\n",
    "        max_t (int): maximum number of timesteps per episode\n",
    "        eps_start (float): starting value of epsilon, for epsilon-greedy action selection\n",
    "        eps_end (float): minimum value of epsilon\n",
    "        eps_decay (float): multiplicative factor (per episode) for decreasing epsilon\n",
    "    \"\"\"\n",
    "    start = time.time()                # Start time\n",
    "    scores = []                        # list containing scores from each episode\n",
    "    scores_window = deque(maxlen=100)  # last 100 scores\n",
    "    list_eps = []\n",
    "    eps = eps_start                    # initialize epsilon\n",
    "    action_list=[]\n",
    "    action_num_list=[]\n",
    "    action_num=0\n",
    "    for i_episode in range(1, n_episodes+1):\n",
    "        # Reset env and score at the beginning of episode\n",
    "        action_not_zero=0\n",
    "        state = env.reset() # reset the environment and get current state\n",
    "        state = dict2array(state)\n",
    "        score = 0 # initialize the score\n",
    "        for t in range(max_t):\n",
    "            action1 = agent.act(state, eps)*20 if optimize else 100\n",
    "            if action1 != 0:\n",
    "                action_num=action_num+1\n",
    "            if i_episode == 1000:\n",
    "                action_list.append(action1)\n",
    "            #action_n++\n",
    "            # for debug\n",
    "            action = {\n",
    "                    'anfer': action1,  # if mode == fertilization or mode == all ; nitrogen to fertilize in kg/ha\n",
    "                    'amir': 0,  # if mode == irrigation or mode == all ; water to irrigate in L/ha\n",
    "            }\n",
    "            next_state, reward, done, _ = env.step(action)      # send the action to the environment\\\n",
    "            if done:\n",
    "                next_state = state\n",
    "                reward = get_reward(state, action1, next_state, done, 0.5, action_num)\n",
    "                #set next_state as current state for type consistency\n",
    "                agent.step(state, action['anfer'], reward, next_state, done)\n",
    "                scores += reward\n",
    "                print('episode is %d .' % i_episode)\n",
    "                print('action_num is %d .' % action_num)\n",
    "                print('score is %d .' % score)\n",
    "                print('')\n",
    "                break\n",
    "            next_state=dict2array(next_state)\n",
    "            reward = get_reward(state, action1, next_state, done, 0.5, action_num)\n",
    "            agent.step(state, action['anfer'], reward, next_state, done)\n",
    "            state = next_state\n",
    "            score += reward\n",
    "        if i_episode == 1000:\n",
    "            print('action_num is %d .' % action_num)\n",
    "        scores_window.append(score)       # save most recent score\n",
    "        scores.append(score)              # save most recent score\n",
    "        list_eps.append(eps)\n",
    "        eps = max(eps_end, eps_decay*eps) # decrease epsilon\n",
    "        \n",
    "            \n",
    "        \n",
    "        if i_episode % 100 == 0:\n",
    "            print('\\rEpisode {}/{} \\tAverage Score: {:.2f}'.format(i_episode, n_episodes, np.mean(scores_window)))\n",
    "            print('Epsilon: {}'.format(eps))\n",
    "            \n",
    "        if np.mean(scores_window)>solved:\n",
    "            print('Game Solved after {} episodes'.format(i_episode))\n",
    "            break\n",
    "\n",
    "    time_elapsed = time.time() - start\n",
    "    print(\"Time Elapse: {:.2f} seconds\".format(time_elapsed))\n",
    "    \n",
    "    return scores, list_eps, action_list, action_num_list"
   ]
  },
  {
   "cell_type": "code",
   "execution_count": 19,
   "id": "94815aee",
   "metadata": {},
   "outputs": [
    {
     "name": "stdout",
     "output_type": "stream",
     "text": [
      "Qtarget is\n",
      "tensor([[-1.4944e+04],\n",
      "        [-1.7929e+04],\n",
      "        [-8.9450e+03],\n",
      "        [-5.1657e+04],\n",
      "        [-1.0971e+04],\n",
      "        [-2.7900e+04],\n",
      "        [-5.9589e+04],\n",
      "        [-4.1738e+04],\n",
      "        [-7.0171e+03],\n",
      "        [-3.8767e+04],\n",
      "        [-3.4767e+04],\n",
      "        [-2.2924e+04],\n",
      "        [-3.2782e+04],\n",
      "        [-5.4703e+04],\n",
      "        [-1.7761e+01],\n",
      "        [-4.0150e+03],\n",
      "        [-2.6884e+04],\n",
      "        [-4.5716e+04],\n",
      "        [-2.8796e+04],\n",
      "        [-2.0765e+03],\n",
      "        [-4.9734e+04],\n",
      "        [-5.7654e+04],\n",
      "        [-3.5836e+04],\n",
      "        [-3.3803e+04],\n",
      "        [-6.0646e+04],\n",
      "        [-2.9849e+04],\n",
      "        [-1.9889e+04],\n",
      "        [-1.3108e+01],\n",
      "        [-1.6922e+04],\n",
      "        [-3.0117e+03],\n",
      "        [-1.8941e+04],\n",
      "        [-5.2677e+04],\n",
      "        [-3.1776e+04],\n",
      "        [-1.0392e+03],\n",
      "        [-4.7691e+04],\n",
      "        [-2.0877e+04],\n",
      "        [-3.1836e+04],\n",
      "        [-5.0085e+03],\n",
      "        [-2.4915e+04],\n",
      "        [-4.0781e+04],\n",
      "        [-2.1893e+04],\n",
      "        [-2.3915e+04],\n",
      "        [-1.1974e+04],\n",
      "        [-5.3704e+04],\n",
      "        [-4.2796e+04],\n",
      "        [-3.7801e+04],\n",
      "        [-3.6809e+04],\n",
      "        [-3.4816e+04],\n",
      "        [-3.1761e+04],\n",
      "        [-3.9798e+04],\n",
      "        [-1.2931e+04],\n",
      "        [-5.6654e+04],\n",
      "        [-5.5682e+04],\n",
      "        [-4.6773e+04],\n",
      "        [-1.5706e+01],\n",
      "        [-5.0711e+04],\n",
      "        [-2.8826e+04],\n",
      "        [-5.9667e+03],\n",
      "        [-8.0167e+03],\n",
      "        [-1.3929e+04],\n",
      "        [-1.5981e+04],\n",
      "        [-4.4730e+04],\n",
      "        [-3.0824e+04],\n",
      "        [-4.3775e+04]])\n"
     ]
    },
    {
     "ename": "RuntimeError",
     "evalue": "index 80 is out of bounds for dimension 1 with size 11",
     "output_type": "error",
     "traceback": [
      "\u001b[0;31m---------------------------------------------------------------------------\u001b[0m",
      "\u001b[0;31mRuntimeError\u001b[0m                              Traceback (most recent call last)",
      "Input \u001b[0;32mIn [19]\u001b[0m, in \u001b[0;36m<cell line: 1>\u001b[0;34m()\u001b[0m\n\u001b[0;32m----> 1\u001b[0m scores, list_eps, action_list, action_num_list\u001b[38;5;241m=\u001b[39m \u001b[43mdqn\u001b[49m\u001b[43m(\u001b[49m\u001b[43mn_episodes\u001b[49m\u001b[38;5;241;43m=\u001b[39;49m\u001b[38;5;241;43m1000\u001b[39;49m\u001b[43m)\u001b[49m\n",
      "Input \u001b[0;32mIn [18]\u001b[0m, in \u001b[0;36mdqn\u001b[0;34m(n_episodes, max_t, eps_start, eps_end, eps_decay, solved, optimize)\u001b[0m\n\u001b[1;32m     50\u001b[0m next_state\u001b[38;5;241m=\u001b[39mdict2array(next_state)\n\u001b[1;32m     51\u001b[0m reward \u001b[38;5;241m=\u001b[39m get_reward(state, action1, next_state, done, \u001b[38;5;241m0.5\u001b[39m, action_num)\n\u001b[0;32m---> 52\u001b[0m \u001b[43magent\u001b[49m\u001b[38;5;241;43m.\u001b[39;49m\u001b[43mstep\u001b[49m\u001b[43m(\u001b[49m\u001b[43mstate\u001b[49m\u001b[43m,\u001b[49m\u001b[43m \u001b[49m\u001b[43maction\u001b[49m\u001b[43m[\u001b[49m\u001b[38;5;124;43m'\u001b[39;49m\u001b[38;5;124;43manfer\u001b[39;49m\u001b[38;5;124;43m'\u001b[39;49m\u001b[43m]\u001b[49m\u001b[43m,\u001b[49m\u001b[43m \u001b[49m\u001b[43mreward\u001b[49m\u001b[43m,\u001b[49m\u001b[43m \u001b[49m\u001b[43mnext_state\u001b[49m\u001b[43m,\u001b[49m\u001b[43m \u001b[49m\u001b[43mdone\u001b[49m\u001b[43m)\u001b[49m\n\u001b[1;32m     53\u001b[0m state \u001b[38;5;241m=\u001b[39m next_state\n\u001b[1;32m     54\u001b[0m score \u001b[38;5;241m+\u001b[39m\u001b[38;5;241m=\u001b[39m reward\n",
      "Input \u001b[0;32mIn [15]\u001b[0m, in \u001b[0;36mAgent.step\u001b[0;34m(self, state, action, reward, next_state, done)\u001b[0m\n\u001b[1;32m     33\u001b[0m \u001b[38;5;28;01mif\u001b[39;00m \u001b[38;5;28mlen\u001b[39m(\u001b[38;5;28mself\u001b[39m\u001b[38;5;241m.\u001b[39mmemory) \u001b[38;5;241m>\u001b[39m BATCH_SIZE:\n\u001b[1;32m     34\u001b[0m     experiences \u001b[38;5;241m=\u001b[39m \u001b[38;5;28mself\u001b[39m\u001b[38;5;241m.\u001b[39mmemory\u001b[38;5;241m.\u001b[39msample()\n\u001b[0;32m---> 35\u001b[0m     \u001b[38;5;28;43mself\u001b[39;49m\u001b[38;5;241;43m.\u001b[39;49m\u001b[43mlearn\u001b[49m\u001b[43m(\u001b[49m\u001b[43mexperiences\u001b[49m\u001b[43m,\u001b[49m\u001b[43m \u001b[49m\u001b[43mGAMMA\u001b[49m\u001b[43m)\u001b[49m\n",
      "Input \u001b[0;32mIn [15]\u001b[0m, in \u001b[0;36mAgent.learn\u001b[0;34m(self, experiences, gamma)\u001b[0m\n\u001b[1;32m     84\u001b[0m         \u001b[38;5;28mprint\u001b[39m(Q_targets)\n\u001b[1;32m     85\u001b[0m         \u001b[38;5;66;03m# Get expected Q values from local model\u001b[39;00m\n\u001b[1;32m     86\u001b[0m \u001b[38;5;66;03m#         print('out',self.qnetwork_local(states).shape)\u001b[39;00m\n\u001b[0;32m---> 87\u001b[0m         Q_expected \u001b[38;5;241m=\u001b[39m \u001b[38;5;28;43mself\u001b[39;49m\u001b[38;5;241;43m.\u001b[39;49m\u001b[43mqnetwork_local\u001b[49m\u001b[43m(\u001b[49m\u001b[43mstates\u001b[49m\u001b[43m)\u001b[49m\u001b[38;5;241;43m.\u001b[39;49m\u001b[43mgather\u001b[49m\u001b[43m(\u001b[49m\u001b[38;5;241;43m1\u001b[39;49m\u001b[43m,\u001b[49m\u001b[43mactions\u001b[49m\u001b[43m)\u001b[49m\n\u001b[1;32m     88\u001b[0m         \u001b[38;5;28mprint\u001b[39m(\u001b[38;5;124m'\u001b[39m\u001b[38;5;124mQ expected is\u001b[39m\u001b[38;5;124m'\u001b[39m)\n\u001b[1;32m     89\u001b[0m         \u001b[38;5;28mprint\u001b[39m(Q_expected)\n",
      "\u001b[0;31mRuntimeError\u001b[0m: index 80 is out of bounds for dimension 1 with size 11"
     ]
    }
   ],
   "source": [
    "scores, list_eps, action_list, action_num_list= dqn(n_episodes=1000)"
   ]
  },
  {
   "cell_type": "markdown",
   "id": "894bc9c8",
   "metadata": {},
   "source": [
    "### Given a constant input: reward = 19847"
   ]
  },
  {
   "cell_type": "code",
   "execution_count": 12,
   "id": "6a1562cf",
   "metadata": {},
   "outputs": [],
   "source": [
    "import matplotlib.pyplot as plt\n",
    "plt.figure()\n",
    "plt.plot(scores)\n",
    "plt.yscale('symlog')\n",
    "plt.title(\"Nitrogen Management\")\n",
    "plt.xlabel(\"Traing Steps\")\n",
    "plt.ylabel(\"Rewards\")\n",
    "plt.savefig(\"reward_0 water with exponential penalty learning_false.png\")"
   ]
  },
  {
   "cell_type": "code",
   "execution_count": 12,
   "id": "829d0250",
   "metadata": {},
   "outputs": [
    {
     "name": "stdout",
     "output_type": "stream",
     "text": [
      "[0, 0, 0, 0, 0, 0, 43, 0, 0, 0, 169, 0, 0, 0, 0, 0, 0, 0, 0, 78, 0, 0, 0, 0, 0, 0, 0, 0, 0, 0, 0, 0, 0, 198, 0, 0, 0, 0, 0, 0, 0, 0, 0, 0, 0, 0, 0, 0, 0, 0, 0, 0, 0, 0, 0, 0, 67, 0, 0, 68, 0, 0, 150, 0, 0, 0, 0, 0, 0, 0, 0, 0, 0, 0, 0, 0, 0, 0, 0, 0, 0, 0, 0, 0, 0, 0, 0, 0, 0, 0, 0, 0, 0, 0, 188, 0, 0, 0, 0, 0, 0, 0, 0, 0, 0, 0, 105, 0, 0, 0, 0, 0, 0, 0, 0, 0, 0, 0, 0, 0, 0, 0, 0, 0, 0, 119, 0, 0, 0, 0, 0, 0, 0, 0, 0, 0, 0, 0, 0, 127, 0, 0, 0, 0, 0, 0, 0, 0, 0, 0, 0, 0, 0, 0, 100]\n"
     ]
    }
   ],
   "source": [
    "plt.figure()\n",
    "print(action_list)\n",
    "plt.plot(action_list)\n",
    "plt.title(\"Naction of last episode\")\n",
    "plt.xlabel(\"Days\")\n",
    "plt.ylabel(\"Nitrogen input\")\n",
    "plt.savefig(\"action_20 water with linear penalty learning_false.png\")"
   ]
  },
  {
   "cell_type": "code",
   "execution_count": 16,
   "id": "990e7f0b",
   "metadata": {},
   "outputs": [
    {
     "name": "stdout",
     "output_type": "stream",
     "text": [
      "8.52\n"
     ]
    }
   ],
   "source": [
    "print(np.average(action_num_list))"
   ]
  },
  {
   "cell_type": "code",
   "execution_count": 28,
   "id": "2e616f4b",
   "metadata": {},
   "outputs": [],
   "source": [
    "score1=scores[-10:]\n",
    "plt.plot(score1)\n",
    "plt.title(\"Nitrogen Management\")\n",
    "plt.xlabel(\"Traing Steps\")\n",
    "plt.ylabel(\"Rewards\")\n",
    "plt.savefig(\"reward_partial_0 water with exponential penalty learning_false.png\")"
   ]
  },
  {
   "cell_type": "code",
   "execution_count": 33,
   "id": "0bea0408",
   "metadata": {},
   "outputs": [
    {
     "name": "stdout",
     "output_type": "stream",
     "text": [
      "[-11112234.922243932, -1136.1068184592432, -1084.0878253100661, -996.9282381844116, -1112060.2553732428, -1112161.5164292145, -112175.58849308883, -1066.5072541128247, -2118.796046328218, -12061.030217774274]\n"
     ]
    }
   ],
   "source": [
    "print(scores[-10:])"
   ]
  },
  {
   "cell_type": "code",
   "execution_count": null,
   "id": "e01c190f",
   "metadata": {},
   "outputs": [],
   "source": []
  }
 ],
 "metadata": {
  "kernelspec": {
   "display_name": "Python 3 (ipykernel)",
   "language": "python",
   "name": "python3"
  },
  "language_info": {
   "codemirror_mode": {
    "name": "ipython",
    "version": 3
   },
   "file_extension": ".py",
   "mimetype": "text/x-python",
   "name": "python",
   "nbconvert_exporter": "python",
   "pygments_lexer": "ipython3",
   "version": "3.8.10"
  }
 },
 "nbformat": 4,
 "nbformat_minor": 5
}
