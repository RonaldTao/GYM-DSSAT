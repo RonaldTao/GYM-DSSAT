{
 "cells": [
  {
   "cell_type": "code",
   "execution_count": 1,
   "id": "ec292518",
   "metadata": {},
   "outputs": [],
   "source": [
    "import numpy as np\n",
    "import pandas as pd\n",
    "import random\n",
    "from IPython import display\n",
    "from collections import namedtuple, deque\n",
    "import time\n",
    "from tqdm import tqdm\n",
    "import matplotlib.pyplot as plt\n",
    "%matplotlib inline\n",
    "\n",
    "\n",
    "import torch\n",
    "import torch.nn as nn\n",
    "import torch.nn.functional as F\n",
    "import torch.optim as optim\n",
    "device = torch.device(\"cpu\")\n",
    "# use cpu run\n",
    "import gym"
   ]
  },
  {
   "cell_type": "code",
   "execution_count": 3,
   "id": "6b4dde21",
   "metadata": {},
   "outputs": [
    {
     "ename": "FileNotFoundError",
     "evalue": "[Errno 2] No such file or directory: './logs/dssat-pdi.log'",
     "output_type": "error",
     "traceback": [
      "\u001b[0;31m---------------------------------------------------------------------------\u001b[0m",
      "\u001b[0;31mFileNotFoundError\u001b[0m                         Traceback (most recent call last)",
      "Input \u001b[0;32mIn [3]\u001b[0m, in \u001b[0;36m<cell line: 10>\u001b[0;34m()\u001b[0m\n\u001b[1;32m      1\u001b[0m env_args \u001b[38;5;241m=\u001b[39m {\n\u001b[1;32m      2\u001b[0m     \u001b[38;5;124m'\u001b[39m\u001b[38;5;124mrun_dssat_location\u001b[39m\u001b[38;5;124m'\u001b[39m: \u001b[38;5;124m'\u001b[39m\u001b[38;5;124m/opt/dssat_pdi/run_dssat\u001b[39m\u001b[38;5;124m'\u001b[39m,  \u001b[38;5;66;03m# assuming (modified) DSSAT has been installed in /opt/dssat_pdi\u001b[39;00m\n\u001b[1;32m      3\u001b[0m     \u001b[38;5;124m'\u001b[39m\u001b[38;5;124mlog_saving_path\u001b[39m\u001b[38;5;124m'\u001b[39m: \u001b[38;5;124m'\u001b[39m\u001b[38;5;124m./logs/dssat-pdi.log\u001b[39m\u001b[38;5;124m'\u001b[39m,  \u001b[38;5;66;03m# if you want to save DSSAT outputs for inspection\u001b[39;00m\n\u001b[0;32m   (...)\u001b[0m\n\u001b[1;32m      8\u001b[0m     \u001b[38;5;124m'\u001b[39m\u001b[38;5;124mrandom_weather\u001b[39m\u001b[38;5;124m'\u001b[39m: \u001b[38;5;28;01mFalse\u001b[39;00m,  \u001b[38;5;66;03m# if you want stochastic weather\u001b[39;00m\n\u001b[1;32m      9\u001b[0m }\n\u001b[0;32m---> 10\u001b[0m env \u001b[38;5;241m=\u001b[39m \u001b[43mgym\u001b[49m\u001b[38;5;241;43m.\u001b[39;49m\u001b[43mmake\u001b[49m\u001b[43m(\u001b[49m\u001b[38;5;124;43m'\u001b[39;49m\u001b[38;5;124;43mgym_dssat_pdi:GymDssatPdi-v0\u001b[39;49m\u001b[38;5;124;43m'\u001b[39;49m\u001b[43m,\u001b[49m\u001b[43m \u001b[49m\u001b[38;5;241;43m*\u001b[39;49m\u001b[38;5;241;43m*\u001b[39;49m\u001b[43menv_args\u001b[49m\u001b[43m)\u001b[49m\n\u001b[1;32m     11\u001b[0m \u001b[38;5;28mprint\u001b[39m(\u001b[38;5;124m'\u001b[39m\u001b[38;5;124mObservation:\u001b[39m\u001b[38;5;124m'\u001b[39m,env\u001b[38;5;241m.\u001b[39mobservation,)\n\u001b[1;32m     12\u001b[0m \u001b[38;5;28mprint\u001b[39m(\u001b[38;5;28mlen\u001b[39m(env\u001b[38;5;241m.\u001b[39mobservation),\u001b[38;5;28mlen\u001b[39m(env\u001b[38;5;241m.\u001b[39mobservation[\u001b[38;5;124m'\u001b[39m\u001b[38;5;124msw\u001b[39m\u001b[38;5;124m'\u001b[39m]))\n",
      "File \u001b[0;32m/opt/gym_dssat_pdi/lib/python3.8/site-packages/gym/envs/registration.py:145\u001b[0m, in \u001b[0;36mmake\u001b[0;34m(id, **kwargs)\u001b[0m\n\u001b[1;32m    144\u001b[0m \u001b[38;5;28;01mdef\u001b[39;00m \u001b[38;5;21mmake\u001b[39m(\u001b[38;5;28mid\u001b[39m, \u001b[38;5;241m*\u001b[39m\u001b[38;5;241m*\u001b[39mkwargs):\n\u001b[0;32m--> 145\u001b[0m     \u001b[38;5;28;01mreturn\u001b[39;00m \u001b[43mregistry\u001b[49m\u001b[38;5;241;43m.\u001b[39;49m\u001b[43mmake\u001b[49m\u001b[43m(\u001b[49m\u001b[38;5;28;43mid\u001b[39;49m\u001b[43m,\u001b[49m\u001b[43m \u001b[49m\u001b[38;5;241;43m*\u001b[39;49m\u001b[38;5;241;43m*\u001b[39;49m\u001b[43mkwargs\u001b[49m\u001b[43m)\u001b[49m\n",
      "File \u001b[0;32m/opt/gym_dssat_pdi/lib/python3.8/site-packages/gym/envs/registration.py:90\u001b[0m, in \u001b[0;36mEnvRegistry.make\u001b[0;34m(self, path, **kwargs)\u001b[0m\n\u001b[1;32m     88\u001b[0m     logger\u001b[38;5;241m.\u001b[39minfo(\u001b[38;5;124m'\u001b[39m\u001b[38;5;124mMaking new env: \u001b[39m\u001b[38;5;132;01m%s\u001b[39;00m\u001b[38;5;124m'\u001b[39m, path)\n\u001b[1;32m     89\u001b[0m spec \u001b[38;5;241m=\u001b[39m \u001b[38;5;28mself\u001b[39m\u001b[38;5;241m.\u001b[39mspec(path)\n\u001b[0;32m---> 90\u001b[0m env \u001b[38;5;241m=\u001b[39m \u001b[43mspec\u001b[49m\u001b[38;5;241;43m.\u001b[39;49m\u001b[43mmake\u001b[49m\u001b[43m(\u001b[49m\u001b[38;5;241;43m*\u001b[39;49m\u001b[38;5;241;43m*\u001b[39;49m\u001b[43mkwargs\u001b[49m\u001b[43m)\u001b[49m\n\u001b[1;32m     91\u001b[0m \u001b[38;5;66;03m# We used to have people override _reset/_step rather than\u001b[39;00m\n\u001b[1;32m     92\u001b[0m \u001b[38;5;66;03m# reset/step. Set _gym_disable_underscore_compat = True on\u001b[39;00m\n\u001b[1;32m     93\u001b[0m \u001b[38;5;66;03m# your environment if you use these methods and don't want\u001b[39;00m\n\u001b[1;32m     94\u001b[0m \u001b[38;5;66;03m# compatibility code to be invoked.\u001b[39;00m\n\u001b[1;32m     95\u001b[0m \u001b[38;5;28;01mif\u001b[39;00m \u001b[38;5;28mhasattr\u001b[39m(env, \u001b[38;5;124m\"\u001b[39m\u001b[38;5;124m_reset\u001b[39m\u001b[38;5;124m\"\u001b[39m) \u001b[38;5;129;01mand\u001b[39;00m \u001b[38;5;28mhasattr\u001b[39m(env, \u001b[38;5;124m\"\u001b[39m\u001b[38;5;124m_step\u001b[39m\u001b[38;5;124m\"\u001b[39m) \u001b[38;5;129;01mand\u001b[39;00m \u001b[38;5;129;01mnot\u001b[39;00m \u001b[38;5;28mgetattr\u001b[39m(env, \u001b[38;5;124m\"\u001b[39m\u001b[38;5;124m_gym_disable_underscore_compat\u001b[39m\u001b[38;5;124m\"\u001b[39m, \u001b[38;5;28;01mFalse\u001b[39;00m):\n",
      "File \u001b[0;32m/opt/gym_dssat_pdi/lib/python3.8/site-packages/gym/envs/registration.py:60\u001b[0m, in \u001b[0;36mEnvSpec.make\u001b[0;34m(self, **kwargs)\u001b[0m\n\u001b[1;32m     58\u001b[0m \u001b[38;5;28;01melse\u001b[39;00m:\n\u001b[1;32m     59\u001b[0m     \u001b[38;5;28mcls\u001b[39m \u001b[38;5;241m=\u001b[39m load(\u001b[38;5;28mself\u001b[39m\u001b[38;5;241m.\u001b[39mentry_point)\n\u001b[0;32m---> 60\u001b[0m     env \u001b[38;5;241m=\u001b[39m \u001b[38;5;28;43mcls\u001b[39;49m\u001b[43m(\u001b[49m\u001b[38;5;241;43m*\u001b[39;49m\u001b[38;5;241;43m*\u001b[39;49m\u001b[43m_kwargs\u001b[49m\u001b[43m)\u001b[49m\n\u001b[1;32m     62\u001b[0m \u001b[38;5;66;03m# Make the environment aware of which spec it came from.\u001b[39;00m\n\u001b[1;32m     63\u001b[0m spec \u001b[38;5;241m=\u001b[39m copy\u001b[38;5;241m.\u001b[39mdeepcopy(\u001b[38;5;28mself\u001b[39m)\n",
      "File \u001b[0;32m/opt/gym_dssat_pdi/lib/python3.8/site-packages/gym_dssat_pdi/envs/dssat_pdi.py:91\u001b[0m, in \u001b[0;36mDssatPdi.__init__\u001b[0;34m(self, run_dssat_location, log_saving_path, mode, auxiliary_file_paths, files_prefix, random_weather, seed, fileX_template_path, experiment_number)\u001b[0m\n\u001b[1;32m     89\u001b[0m \u001b[38;5;28mself\u001b[39m\u001b[38;5;241m.\u001b[39m_make_fileX_template()\n\u001b[1;32m     90\u001b[0m \u001b[38;5;28mself\u001b[39m\u001b[38;5;241m.\u001b[39m_write_fileX_template()\n\u001b[0;32m---> 91\u001b[0m \u001b[38;5;28;43mself\u001b[39;49m\u001b[38;5;241;43m.\u001b[39;49m\u001b[43m_get_sockets_\u001b[49m\u001b[43m(\u001b[49m\u001b[43m)\u001b[49m\n\u001b[1;32m     92\u001b[0m \u001b[38;5;28mself\u001b[39m\u001b[38;5;241m.\u001b[39mobservation, \u001b[38;5;28mself\u001b[39m\u001b[38;5;241m.\u001b[39m_state, \u001b[38;5;28mself\u001b[39m\u001b[38;5;241m.\u001b[39mdone, \u001b[38;5;28mself\u001b[39m\u001b[38;5;241m.\u001b[39mcontext \u001b[38;5;241m=\u001b[39m \u001b[38;5;28mself\u001b[39m\u001b[38;5;241m.\u001b[39m_get_state()\n",
      "File \u001b[0;32m/opt/gym_dssat_pdi/lib/python3.8/site-packages/gym_dssat_pdi/envs/dssat_pdi.py:279\u001b[0m, in \u001b[0;36mDssatPdi._get_sockets_\u001b[0;34m(self)\u001b[0m\n\u001b[1;32m    277\u001b[0m \u001b[38;5;28mself\u001b[39m\u001b[38;5;241m.\u001b[39m_launch_poller()\n\u001b[1;32m    278\u001b[0m \u001b[38;5;28mself\u001b[39m\u001b[38;5;241m.\u001b[39m_write_pdi_yaml()\n\u001b[0;32m--> 279\u001b[0m \u001b[38;5;28;43mself\u001b[39;49m\u001b[38;5;241;43m.\u001b[39;49m\u001b[43m_launch_client\u001b[49m\u001b[43m(\u001b[49m\u001b[43m)\u001b[49m\n",
      "File \u001b[0;32m/opt/gym_dssat_pdi/lib/python3.8/site-packages/gym_dssat_pdi/envs/dssat_pdi.py:205\u001b[0m, in \u001b[0;36mDssatPdi._launch_client\u001b[0;34m(self)\u001b[0m\n\u001b[1;32m    203\u001b[0m \u001b[38;5;28;01melse\u001b[39;00m:\n\u001b[1;32m    204\u001b[0m     file_path \u001b[38;5;241m=\u001b[39m os\u001b[38;5;241m.\u001b[39mdevnull\n\u001b[0;32m--> 205\u001b[0m \u001b[38;5;28mself\u001b[39m\u001b[38;5;241m.\u001b[39m_f_out \u001b[38;5;241m=\u001b[39m \u001b[38;5;28;43mopen\u001b[39;49m\u001b[43m(\u001b[49m\u001b[43mfile_path\u001b[49m\u001b[43m,\u001b[49m\u001b[43m \u001b[49m\u001b[38;5;124;43m'\u001b[39;49m\u001b[38;5;124;43ma+\u001b[39;49m\u001b[38;5;124;43m'\u001b[39;49m\u001b[43m)\u001b[49m\n\u001b[1;32m    206\u001b[0m \u001b[38;5;28;01mif\u001b[39;00m \u001b[38;5;28mself\u001b[39m\u001b[38;5;241m.\u001b[39mlog_saving_path \u001b[38;5;129;01mis\u001b[39;00m \u001b[38;5;129;01mnot\u001b[39;00m \u001b[38;5;28;01mNone\u001b[39;00m:\n\u001b[1;32m    207\u001b[0m     \u001b[38;5;28mself\u001b[39m\u001b[38;5;241m.\u001b[39m_f_out\u001b[38;5;241m.\u001b[39mwrite(\u001b[38;5;124m'\u001b[39m\u001b[38;5;130;01m\\n\u001b[39;00m\u001b[38;5;124m********************************\u001b[39m\u001b[38;5;130;01m\\n\u001b[39;00m\u001b[38;5;124m'\u001b[39m)\n",
      "\u001b[0;31mFileNotFoundError\u001b[0m: [Errno 2] No such file or directory: './logs/dssat-pdi.log'"
     ]
    }
   ],
   "source": [
    "env_args = {\n",
    "    'run_dssat_location': '/opt/dssat_pdi/run_dssat',  # assuming (modified) DSSAT has been installed in /opt/dssat_pdi\n",
    "    'log_saving_path': './logs/dssat-pdi.log',  # if you want to save DSSAT outputs for inspection\n",
    "    # 'mode': 'irrigation',  # you can choose one of those 3 modes\n",
    "    # 'mode': 'fertilization',\n",
    "    'mode': 'all',\n",
    "    'seed': 123456,\n",
    "    'random_weather': False,  # if you want stochastic weather\n",
    "}\n",
    "env = gym.make('gym_dssat_pdi:GymDssatPdi-v0', **env_args)\n",
    "print('Observation:',env.observation,)\n",
    "print(len(env.observation),len(env.observation['sw']))\n",
    "ram_dimensions = 35\n",
    "#ram_dimnetion = 9 if partial\n",
    "nb_actions = 25\n",
    "print('\\nRam information received from DASSAT will has %d dimensions.' % ram_dimensions)\n",
    "print('There are %d possible actions at each step.' % nb_actions)\n",
    "print('Discrete?',type(gym.spaces)== gym.spaces.Discrete)\n",
    "# observation has 27 elements, 9 values in soil water\n",
    "# state size = 27+8 dimension\n",
    "# how to defind nb_action? why is 200?"
   ]
  },
  {
   "cell_type": "code",
   "execution_count": 4,
   "id": "6030d8a9",
   "metadata": {
    "scrolled": true
   },
   "outputs": [
    {
     "ename": "NameError",
     "evalue": "name 'env' is not defined",
     "output_type": "error",
     "traceback": [
      "\u001b[0;31m---------------------------------------------------------------------------\u001b[0m",
      "\u001b[0;31mNameError\u001b[0m                                 Traceback (most recent call last)",
      "Input \u001b[0;32mIn [4]\u001b[0m, in \u001b[0;36m<cell line: 6>\u001b[0;34m()\u001b[0m\n\u001b[1;32m     11\u001b[0m v20_date \u001b[38;5;241m=\u001b[39m \u001b[38;5;241m0\u001b[39m\n\u001b[1;32m     12\u001b[0m v7_date \u001b[38;5;241m=\u001b[39m \u001b[38;5;241m0\u001b[39m\n\u001b[0;32m---> 13\u001b[0m \u001b[43menv\u001b[49m\u001b[38;5;241m.\u001b[39mreset()\n\u001b[1;32m     14\u001b[0m rain\u001b[38;5;241m=\u001b[39mrain\u001b[38;5;241m+\u001b[39menv\u001b[38;5;241m.\u001b[39mobservation[\u001b[38;5;124m'\u001b[39m\u001b[38;5;124mrain\u001b[39m\u001b[38;5;124m'\u001b[39m]\n\u001b[1;32m     15\u001b[0m W_input \u001b[38;5;241m=\u001b[39m \u001b[38;5;241m0\u001b[39m\n",
      "\u001b[0;31mNameError\u001b[0m: name 'env' is not defined"
     ]
    }
   ],
   "source": [
    "Action_list=[]\n",
    "Nleach_list = []\n",
    "Yield_list=[]\n",
    "reward_list=[]\n",
    "rain_list=[]\n",
    "for i in range(1):\n",
    "    #print('')\n",
    "    rain=0\n",
    "    date=0\n",
    "    v6_date = 0\n",
    "    v20_date = 0\n",
    "    v7_date = 0\n",
    "    env.reset()\n",
    "    rain=rain+env.observation['rain']\n",
    "    W_input = 0\n",
    "    #print(env.observation)\n",
    "    #date = 1\n",
    "    #print(date)\n",
    "    c1=1;\n",
    "    c2=1;\n",
    "    c3=1;\n",
    "    c4=1;\n",
    "    c5=1;\n",
    "    n_list=[]\n",
    "    w_list=[]\n",
    "    istage_list=[]\n",
    "    vstage_list=[]\n",
    "    while not env.done:\n",
    "        #print(observation)\n",
    "        #print(observation)\n",
    "        # observation_list = env.observation_dict_to_array(observation)\n",
    "        w_input=0\n",
    "        n_input=0\n",
    "        date = date+1\n",
    "        if env.observation['vstage']<6:\n",
    "            if date %10==1:\n",
    "                w_input = 12.7\n",
    "                print('water 1')\n",
    "        if env.observation['vstage'] == 6:\n",
    "            if c4==1:\n",
    "                v6_date = date\n",
    "                c4=c4-1\n",
    "        if env.observation['vstage'] >= 6:\n",
    "            if env.observation['vstage']<20:\n",
    "                if (date-v6_date)%7 ==0:\n",
    "                    w_input=12.7\n",
    "                    print('water 2')\n",
    "        if env.observation['vstage'] == 20:\n",
    "            if c5==1:\n",
    "                c5=c5-1\n",
    "                v20_date = date\n",
    "        if env.observation['vstage'] >= 20:\n",
    "            if env.observation['istage'] < 6:\n",
    "                if (date-v20_date)%3==0:\n",
    "                    w_input=12.7\n",
    "                    print('water 3')\n",
    "        if env.observation['istage'] == 7:\n",
    "            if c1 ==1:\n",
    "                n_input = 40\n",
    "                c1=c1-1\n",
    "                print('fert 1 = 40')\n",
    "        if env.observation['vstage'] == 5:\n",
    "            if c2 ==1:\n",
    "                n_input=40\n",
    "                c2=c2-1\n",
    "                print('fert 2 = 40')\n",
    "        if env.observation['vstage'] ==7:\n",
    "            if c3 ==1:\n",
    "                n_input =150\n",
    "                c3=c3-1\n",
    "                print('fert 3 = 150')\n",
    "                v7_date = date\n",
    "        if env.observation['vstage'] >= 7:\n",
    "            if date-v7_date == 28:\n",
    "                n_input= 130\n",
    "                print('fert 4 = 130')\n",
    "        action = {\n",
    "                    'anfer': n_input,  # if mode == fertilization or mode == all ; nitrogen to fertilize in kg/ha4\n",
    "                    'amir': w_input,  # if mode == irrigation or mode == all ; water to irrigate in L/ha\n",
    "            }\n",
    "        #print(date)\n",
    "        n_list.append(action['anfer'])\n",
    "        w_list.append(action['amir'])\n",
    "        istage_list.append(env.observation['istage'])\n",
    "        vstage_list.append(env.observation['vstage'])\n",
    "        rain=rain+env.observation['rain']\n",
    "        observation, reward, done, info = env.step(action)\n",
    "        #print(observation['yrdoy'])\n",
    "        #print('')\n",
    "        #print(observation)\n",
    "        #real_ob = add_fert(observation, action_dict['anfer'])\n",
    "        #print('real_ob is ', real_ob)\n",
    "        #env.observation = real_ob\n",
    "        #print('final ob is:', env.observation)\n",
    "        #real_s=get_real_state(env._state, action_dict['anfer'])\n",
    "        #env._state=real_s\n",
    "        #print('env_state', env._state)\n",
    "        #print(date)\n",
    "        #print(reward)\n",
    "        #print(done)\n",
    "        if done:\n",
    "            final_ob=env.observation\n",
    "            #print(final_ob)\n",
    "            N_input=final_ob['cumsumfert']\n",
    "            Nleach=final_ob['cleach']\n",
    "            Yield=final_ob['grnwt']\n",
    "            Action_list.append(N_input)\n",
    "            Nleach_list.append(Nleach)\n",
    "            Yield_list.append(Yield)\n",
    "            reward=Yield*0.158-0.79*N_input-1.1*W_input\n",
    "            reward_list.append(reward)\n",
    "            rain_list.append(rain)\n",
    "            #print(env.history['action'])\n",
    "            #print(env.history['reward'])\n",
    "#print(np.mean(rain_list))\n",
    "print('W amount is', w_input)\n",
    "print('N amount is', Action_list)\n",
    "#print('avergae N input is', np.mean(Action_list))\n",
    "#print('')\n",
    "print('N leaching is', Nleach_list)\n",
    "#print('avergae Leaching is', np.mean(Nleach_list))\n",
    "#print('')\n",
    "print('Yield is', Yield_list)\n",
    "#print('avergae Yield is', np.mean(Yield_list))\n",
    "#print('')\n",
    "print('Reward is', reward_list)\n",
    "#print('avergae reward is', np.mean(reward_list))\n",
    "import pandas\n",
    "df = pandas.DataFrame(n_list, columns=[\"colummn\"])\n",
    "df.to_csv('n_list.csv', index=False)\n",
    "df = pandas.DataFrame(w_list, columns=[\"colummn\"])\n",
    "df.to_csv('w_list.csv', index=False)\n",
    "df = pandas.DataFrame(istage_list, columns=[\"colummn\"])\n",
    "df.to_csv('istage_list.csv', index=False)\n",
    "df = pandas.DataFrame(vstage_list, columns=[\"colummn\"])\n",
    "df.to_csv('vstage_list.csv', index=False)"
   ]
  },
  {
   "cell_type": "code",
   "execution_count": 4,
   "id": "7326e28f",
   "metadata": {},
   "outputs": [
    {
     "name": "stdout",
     "output_type": "stream",
     "text": [
      "{'cleach': 0.0, 'cnox': 0.0, 'cumsumfert': 0.0, 'dap': 0, 'dtt': 0.0, 'es': 0.0, 'grnwt': 0.0, 'istage': 7, 'nstres': 0.0, 'pcngrn': 0.0, 'pltpop': 7.199999809265137, 'rain': 0.0, 'rtdep': 0.0, 'runoff': 0.0, 'srad': 13.300000190734863, 'sw': array([0.086     , 0.086     , 0.086     , 0.086     , 0.086     ,\n",
      "       0.076     , 0.076     , 0.13      , 0.25799999]), 'swfac': 0.0, 'tleachd': 0.0, 'tmax': 22.200000762939453, 'tmin': 3.299999952316284, 'tnoxd': 0.0, 'topwt': 0.0, 'trnu': 0.0, 'vstage': 0.0, 'wtdep': 0.0, 'wtnup': 0.0, 'xlai': 0.0}\n"
     ]
    }
   ],
   "source": [
    "env.reset()\n",
    "print(env.observation)"
   ]
  },
  {
   "cell_type": "code",
   "execution_count": 30,
   "id": "7a0f64dc",
   "metadata": {},
   "outputs": [
    {
     "data": {
      "text/plain": [
       "[10.648062705993652,\n",
       " 15.5799560546875,\n",
       " 12.338714599609375,\n",
       " 2.379901170730591,\n",
       " 22.064546585083008,\n",
       " 5.136173725128174,\n",
       " 32.15522766113281,\n",
       " 25.89251708984375,\n",
       " 1.1620451211929321,\n",
       " 14.372591018676758]"
      ]
     },
     "execution_count": 30,
     "metadata": {},
     "output_type": "execute_result"
    }
   ],
   "source": [
    "Nleach_list"
   ]
  },
  {
   "cell_type": "code",
   "execution_count": 8,
   "id": "69199c3f",
   "metadata": {},
   "outputs": [
    {
     "data": {
      "text/plain": [
       "[9600.956420898438,\n",
       " 4562.802429199219,\n",
       " 5943.7042236328125,\n",
       " 9623.003540039062,\n",
       " 13368.8037109375,\n",
       " 12950.1904296875,\n",
       " 9539.637451171875,\n",
       " 13334.02099609375,\n",
       " 4795.851135253906,\n",
       " 10534.593505859375]"
      ]
     },
     "execution_count": 8,
     "metadata": {},
     "output_type": "execute_result"
    }
   ],
   "source": [
    "Yield_list"
   ]
  },
  {
   "cell_type": "code",
   "execution_count": 9,
   "id": "2016c0d9",
   "metadata": {},
   "outputs": [
    {
     "data": {
      "text/plain": [
       "[942.2311254501343,\n",
       " 440.038681936264,\n",
       " 572.0489852905273,\n",
       " 945.7836225986481,\n",
       " 1316.0961780548096,\n",
       " 1276.2494220733643,\n",
       " 937.7455790758133,\n",
       " 1314.9191820144654,\n",
       " 457.27873306274415,\n",
       " 1036.522788619995]"
      ]
     },
     "execution_count": 9,
     "metadata": {},
     "output_type": "execute_result"
    }
   ],
   "source": [
    "reward_list"
   ]
  },
  {
   "cell_type": "code",
   "execution_count": null,
   "id": "378af9f0",
   "metadata": {},
   "outputs": [],
   "source": [
    "b=a[2]"
   ]
  },
  {
   "cell_type": "code",
   "execution_count": 9,
   "id": "d7803f8a",
   "metadata": {},
   "outputs": [],
   "source": [
    "i=1"
   ]
  },
  {
   "cell_type": "code",
   "execution_count": 11,
   "id": "657aeca3",
   "metadata": {},
   "outputs": [
    {
     "data": {
      "text/plain": [
       "'1happy.csv'"
      ]
     },
     "execution_count": 11,
     "metadata": {},
     "output_type": "execute_result"
    }
   ],
   "source": [
    "str(i)+'happy.csv'"
   ]
  },
  {
   "cell_type": "code",
   "execution_count": 4,
   "id": "1b083906",
   "metadata": {},
   "outputs": [],
   "source": [
    "penalty = -200"
   ]
  },
  {
   "cell_type": "code",
   "execution_count": 5,
   "id": "b622d689",
   "metadata": {},
   "outputs": [],
   "source": [
    "penalty = max(penalty,-100)"
   ]
  },
  {
   "cell_type": "code",
   "execution_count": 6,
   "id": "3fd67d88",
   "metadata": {},
   "outputs": [
    {
     "data": {
      "text/plain": [
       "-100"
      ]
     },
     "execution_count": 6,
     "metadata": {},
     "output_type": "execute_result"
    }
   ],
   "source": [
    "penalty"
   ]
  },
  {
   "cell_type": "code",
   "execution_count": null,
   "id": "3bee7d8c",
   "metadata": {},
   "outputs": [],
   "source": []
  }
 ],
 "metadata": {
  "kernelspec": {
   "display_name": "Python 3 (ipykernel)",
   "language": "python",
   "name": "python3"
  },
  "language_info": {
   "codemirror_mode": {
    "name": "ipython",
    "version": 3
   },
   "file_extension": ".py",
   "mimetype": "text/x-python",
   "name": "python",
   "nbconvert_exporter": "python",
   "pygments_lexer": "ipython3",
   "version": "3.8.10"
  }
 },
 "nbformat": 4,
 "nbformat_minor": 5
}
