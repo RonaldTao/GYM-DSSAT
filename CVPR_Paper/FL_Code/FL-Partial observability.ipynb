{
 "cells": [
  {
   "cell_type": "markdown",
   "id": "93dda018",
   "metadata": {},
   "source": [
    "### 1. Import packages"
   ]
  },
  {
   "cell_type": "code",
   "execution_count": 1,
   "id": "734f28fe",
   "metadata": {},
   "outputs": [
    {
     "name": "stderr",
     "output_type": "stream",
     "text": [
      "wandb: Currently logged in as: rant3. Use `wandb login --relogin` to force relogin\n"
     ]
    },
    {
     "data": {
      "text/plain": [
       "True"
      ]
     },
     "execution_count": 1,
     "metadata": {},
     "output_type": "execute_result"
    }
   ],
   "source": [
    "import wandb\n",
    "wandb.login()"
   ]
  },
  {
   "cell_type": "code",
   "execution_count": 2,
   "id": "6f1cfcf8",
   "metadata": {},
   "outputs": [],
   "source": [
    "import numpy as np\n",
    "import pandas as pd\n",
    "import random\n",
    "from IPython import display\n",
    "from collections import namedtuple, deque\n",
    "import time\n",
    "from tqdm import tqdm\n",
    "import matplotlib.pyplot as plt\n",
    "%matplotlib inline\n",
    "\"\"\n",
    "import torch\n",
    "import torch.nn as nn\n",
    "import torch.nn.functional as F\n",
    "import torch.optim as optim\n",
    "device = torch.device(\"cpu\")\n",
    "# use cpu run\n",
    "import gym"
   ]
  },
  {
   "cell_type": "markdown",
   "id": "23a8e0e3",
   "metadata": {},
   "source": [
    "### 2. Helper functions"
   ]
  },
  {
   "cell_type": "code",
   "execution_count": 3,
   "id": "a0d74676",
   "metadata": {},
   "outputs": [],
   "source": [
    "def dict2array(state):\n",
    "    new_state = []\n",
    "    for key  in state.keys():\n",
    "        if key != 'sw':\n",
    "            new_state.append(state[key])\n",
    "        else:\n",
    "            new_state += list(state['sw'])        \n",
    "    state = np.asarray(new_state)\n",
    "    return state"
   ]
  },
  {
   "cell_type": "code",
   "execution_count": 4,
   "id": "cc2b4f57",
   "metadata": {},
   "outputs": [],
   "source": [
    "def dict2array_partial(state):\n",
    "    new_state = []\n",
    "    num_observable_states = 0\n",
    "    for key  in state.keys():\n",
    "        if key != 'sw':\n",
    "            if key == 'cumsumfert':\n",
    "                new_state.append(state[key])\n",
    "            if key == 'dap':\n",
    "                new_state.append(state[key])\n",
    "            if key == 'dtt':\n",
    "                new_state.append(state[key])\n",
    "            if key == 'istage':\n",
    "                new_state.append(state[key])\n",
    "            if key == 'pltpop':\n",
    "                new_state.append(state[key])\n",
    "            if key == 'rain':\n",
    "                new_state.append(state[key])\n",
    "            if key == 'srad':\n",
    "                new_state.append(state[key])\n",
    "            if key == 'tmax':\n",
    "                new_state.append(state[key])\n",
    "            if key == 'tmin':\n",
    "                new_state.append(state[key])\n",
    "            if key == 'vstage':\n",
    "                new_state.append(state[key])\n",
    "            if key == 'xlai':\n",
    "                new_state.append(state[key])\n",
    "        else:\n",
    "            new_state += list(state['sw'])\n",
    "    state = np.asarray(new_state)\n",
    "    return state"
   ]
  },
  {
   "cell_type": "markdown",
   "id": "db8650bd",
   "metadata": {},
   "source": [
    "### 3. Initialize the environment"
   ]
  },
  {
   "cell_type": "code",
   "execution_count": 5,
   "id": "fe07f4eb",
   "metadata": {},
   "outputs": [
    {
     "name": "stdout",
     "output_type": "stream",
     "text": [
      "Observation: {'cleach': 0.0, 'cnox': 0.0, 'cumsumfert': 0.0, 'dap': 0, 'dtt': 0.0, 'es': 0.0, 'grnwt': 0.0, 'istage': 7, 'nstres': 0.0, 'pcngrn': 0.0, 'pltpop': 7.199999809265137, 'rain': 0.0, 'rtdep': 0.0, 'runoff': 0.0, 'srad': 13.300000190734863, 'sw': array([0.086     , 0.086     , 0.086     , 0.086     , 0.086     ,\n",
      "       0.076     , 0.076     , 0.13      , 0.25799999]), 'swfac': 0.0, 'tleachd': 0.0, 'tmax': 22.200000762939453, 'tmin': 3.299999952316284, 'tnoxd': 0.0, 'topwt': 0.0, 'trnu': 0.0, 'vstage': 0.0, 'wtdep': 0.0, 'wtnup': 0.0, 'xlai': 0.0}\n",
      "27 9\n",
      "\n",
      "Ram information received from DASSAT will has 20 dimensions.\n",
      "There are 25 possible actions at each step.\n",
      "Discrete? False\n"
     ]
    }
   ],
   "source": [
    "env_args = {\n",
    "    'run_dssat_location': '/opt/dssat_pdi/run_dssat',  # assuming (modified) DSSAT has been installed in /opt/dssat_pdi\n",
    "    'log_saving_path': './logs/dssat-pdi.log',  # if you want to save DSSAT outputs for inspection\n",
    "    # 'mode': 'irrigation',  # you can choose one of those 3 modes\n",
    "    # 'mode': 'fertilization',\n",
    "    'mode': 'all',\n",
    "    'seed': 123456,\n",
    "    'random_weather': False,  # if you want stochastic weather\n",
    "}\n",
    "env = gym.make('gym_dssat_pdi:GymDssatPdi-v0', **env_args)\n",
    "print('Observation:',env.observation,)\n",
    "print(len(env.observation),len(env.observation['sw']))\n",
    "ram_dimensions = 20\n",
    "nb_actions = 25\n",
    "print('\\nRam information received from DASSAT will has %d dimensions.' % ram_dimensions)\n",
    "print('There are %d possible actions at each step.' % nb_actions)\n",
    "print('Discrete?',type(gym.spaces)== gym.spaces.Discrete)\n",
    "# observation has 27 elements, 9 values in soil water\n",
    "# state size = 27+8 dimension\n",
    "# how to defind nb_action? why is 200?"
   ]
  },
  {
   "cell_type": "markdown",
   "id": "b4283d29",
   "metadata": {},
   "source": [
    "### 4. Define the network"
   ]
  },
  {
   "cell_type": "code",
   "execution_count": 6,
   "id": "a6021276",
   "metadata": {},
   "outputs": [],
   "source": [
    "class QNetwork(nn.Module):\n",
    "    \"\"\"Agent (Policy) Model.\"\"\"\n",
    "    # given a state of 35 dim, Qnetwork will return 200 values for each possible action  \n",
    "\n",
    "    def __init__(self, state_size, action_size, fc1_units=256, fc2_units=256,fc3_units=256):\n",
    "        \"\"\"Initialize parameters and build model.\n",
    "        Params\n",
    "        ======\n",
    "            state_size (int): Dimension of each state\n",
    "            action_size (int): Dimension of each action\n",
    "            fc1_units (int): Number of nodes in first hidden layer\n",
    "            why is it 256? randomly?\n",
    "        \"\"\"\n",
    "        super(QNetwork, self).__init__()\n",
    "        self.fc1 = nn.Linear(state_size, fc1_units)\n",
    "        self.fc2 = nn.Linear(fc1_units, fc2_units)\n",
    "        self.fc3 = nn.Linear(fc2_units, fc3_units)\n",
    "        self.fc4 = nn.Linear(fc3_units, action_size)\n",
    "        # set a nn with 1 layer\n",
    "        \n",
    "    def forward(self, state):\n",
    "        \"\"\"Build a network that maps state -> action values.\"\"\"\n",
    "        x = F.relu(self.fc1(state))\n",
    "        y = F.relu(self.fc2(x))\n",
    "        z = F.relu(self.fc3(y))\n",
    "        #Applies the rectified linear unit function element-wise. max(0,x)\n",
    "        return self.fc4(z)"
   ]
  },
  {
   "cell_type": "markdown",
   "id": "f705878c",
   "metadata": {},
   "source": [
    "### 5. Define the Replay Buffer"
   ]
  },
  {
   "cell_type": "code",
   "execution_count": 7,
   "id": "a1a8520c",
   "metadata": {},
   "outputs": [],
   "source": [
    "class ReplayBuffer:\n",
    "    \"\"\"Fixed-size buffer to store experience tuples.\"\"\"\n",
    "\n",
    "    def __init__(self, action_size, buffer_size, batch_size):\n",
    "        \"\"\"Initialize a ReplayBuffer object.\n",
    "        Params\n",
    "        ======\n",
    "            action_size (int): dimension of each action\n",
    "            buffer_size (int): maximum size of buffer\n",
    "            how many samples stored in buffer\n",
    "            batch_size (int): size of each training batch\n",
    "        \"\"\"\n",
    "        self.action_size = action_size\n",
    "        self.memory = deque(maxlen=buffer_size)\n",
    "        # store [s,a,r,s',done] for each sample in buffer\n",
    "        self.batch_size = batch_size\n",
    "        self.experience = namedtuple(\"Experience\", field_names=[\"state\", \"action\", \"reward\", \"next_state\", \"done\"])\n",
    "    \n",
    "    def add(self, state, action, reward, next_state, done):\n",
    "        \"\"\"Add a new experience to memory.\"\"\"\n",
    "#         action = dict2array(action)\n",
    "#         print('transfored actions:',action)\n",
    "        e = self.experience(state, action, reward, next_state, done)\n",
    "        self.memory.append(e)\n",
    "    \n",
    "    def sample(self):\n",
    "        \"\"\"Randomly sample a batch of experiences from memory.\"\"\"\n",
    "        experiences = random.sample(self.memory, k=self.batch_size)\n",
    "#         for e in experiences:\n",
    "# #             print(e)\n",
    "# #             print(e.state.shape, e.next_state.shape)\n",
    "#             break\n",
    "        states = torch.from_numpy(np.vstack([e.state for e in experiences if e is not None])).float().to(device)\n",
    "        # vstack is add rows together as a single matrix\n",
    "        actions = torch.from_numpy(np.vstack([e.action for e in experiences if e is not None])).long().to(device)\n",
    "        rewards = torch.from_numpy(np.vstack([e.reward for e in experiences if e is not None])).float().to(device)\n",
    "        next_states = torch.from_numpy(np.vstack([e.next_state for e in experiences if e is not None])).float().to(device)\n",
    "        dones = torch.from_numpy(np.vstack([e.done for e in experiences if e is not None]).astype(np.uint8)).float().to(device)\n",
    "        #get all the states, actions, rewards, next_states, dones for all elements in this sample batch, each as a single matrix\n",
    "        #device here is cpu?\n",
    "        return (states, actions, rewards, next_states, dones)\n",
    "\n",
    "    def __len__(self):\n",
    "        \"\"\"Return the current size of internal memory.\"\"\"\n",
    "        return len(self.memory)"
   ]
  },
  {
   "cell_type": "markdown",
   "id": "72686c19",
   "metadata": {},
   "source": [
    "### 6. Define the Agent"
   ]
  },
  {
   "cell_type": "code",
   "execution_count": 8,
   "id": "ef9713bf",
   "metadata": {},
   "outputs": [],
   "source": [
    "BUFFER_SIZE = 2*int(1e5)  # replay buffer size\n",
    "BATCH_SIZE = 640     # minibatch size\n",
    "GAMMA = 0.99            # discount factor\n",
    "TAU = 60                # for update of target network parameters\n",
    "LR = 1e-5               # learning rate \n",
    "UPDATE_EVERY = 4        # how often to update the network"
   ]
  },
  {
   "cell_type": "code",
   "execution_count": 9,
   "id": "ea8e9674",
   "metadata": {},
   "outputs": [],
   "source": [
    "class Agent():\n",
    "    \"\"\"Interacts with and learns from the environment.\"\"\"\n",
    "\n",
    "    def __init__(self, state_size, action_size):\n",
    "        \"\"\"Initialize an Agent object.\n",
    "        Params\n",
    "        ======\n",
    "            state_size (int): dimension of each state\n",
    "            action_size (int): dimension of each action\n",
    "        \"\"\"\n",
    "        self.state_size = state_size\n",
    "        self.action_size = action_size\n",
    "\n",
    "        # Q-Network\n",
    "        self.qnetwork_local = QNetwork(state_size, action_size).to(device)\n",
    "        self.qnetwork_target = QNetwork(state_size, action_size).to(device)\n",
    "        self.optimizer = optim.Adam(self.qnetwork_local.parameters(), lr=LR)\n",
    "\n",
    "        # Replay memory\n",
    "        self.memory = ReplayBuffer(action_size, BUFFER_SIZE, BATCH_SIZE)\n",
    "        # Initialize time step (for updating every UPDATE_EVERY steps)\n",
    "        self.t_step = 0\n",
    "    \n",
    "    def step(self, state, action, reward, next_state, done):\n",
    "        # Save experience in replay memory\n",
    "        # add current (s,r,a,s') and sample a batch and learn if update_every\n",
    "        self.memory.add(state, action, reward, next_state, done)\n",
    "        \n",
    "        # Learn every UPDATE_EVERY time steps.\n",
    "        self.t_step += 1\n",
    "        if self.t_step%UPDATE_EVERY == 0:\n",
    "            # If enough samples are available in memory, get random subset and learn\n",
    "            if len(self.memory) > BATCH_SIZE:\n",
    "                experiences = self.memory.sample()\n",
    "                self.learn(experiences, GAMMA)\n",
    "\n",
    "    def act(self, state, eps=0.):\n",
    "        \"\"\"Returns actions for given state as per current policy.\n",
    "        Params\n",
    "        ======\n",
    "            state (array_like): current state\n",
    "            eps (float): epsilon, for epsilon-greedy action selection\n",
    "        \"\"\"\n",
    "        state = torch.from_numpy(state).float().unsqueeze(0).to(device)\n",
    "        self.qnetwork_local.eval()\n",
    "        with torch.no_grad():\n",
    "            action_values = self.qnetwork_local(state)\n",
    "        self.qnetwork_local.train()\n",
    "#         Epsilon-greedy action selection\n",
    "        if random.random() > eps:\n",
    "            return np.argmax(action_values.cpu().data.numpy())\n",
    "        # return the action index with the largest value\n",
    "        else:\n",
    "            return random.choice(np.arange(self.action_size))\n",
    "            #return one action randomly with possibility eps\n",
    "\n",
    "#         Epsilon-greedy action selection\n",
    "#         if random.random() > eps:\n",
    "#             return np.argmax(action_values.cpu().data.numpy())\n",
    "#         else:\n",
    "#             return random.choice(np.arange(self.action_size))\n",
    "# #         return action_values.cpu().data.numpy()\n",
    "\n",
    "\n",
    "    def learn(self, experiences, gamma):\n",
    "        \"\"\"Update value parameters using given batch of experience tuples.\n",
    "        Params\n",
    "        ======\n",
    "            experiences (Tuple[torch.Variable]): tuple of (s, a, r, s', done) tuples \n",
    "            gamma (float): discount factor\n",
    "        \"\"\"\n",
    "        states, actions, rewards, next_states, dones = experiences\n",
    "        \n",
    "        # Get max predicted Q values (for next states) from target model\n",
    "        Q_targets_next = self.qnetwork_target(next_states).detach().max(1)[0].unsqueeze(1)\n",
    "        # detach for diemnsion correctness\n",
    "        # GET largest value of self.qnetwork_target(next_states)\n",
    "#         print(Q_targets_next)\n",
    "        # Compute Q targets for current states \n",
    "        Q_targets = rewards + (gamma * Q_targets_next * (1 - dones))\n",
    "        # 0 if done\n",
    "\n",
    "        # Get expected Q values from local model\n",
    "#         print('out',self.qnetwork_local(states).shape)\n",
    "        Q_expected = self.qnetwork_local(states).gather(1, actions)\n",
    "        #Why need to gather? actions are indexs?\n",
    "\n",
    "        # Compute loss\n",
    "        loss = F.mse_loss(Q_expected, Q_targets)\n",
    "        # Minimize the loss\n",
    "        self.optimizer.zero_grad()\n",
    "        loss.backward()\n",
    "        # after this, the parameter of local network will change based on gradient descent\n",
    "        for param in self.qnetwork_local.parameters():\n",
    "            param.grad.data.clamp_(-1, 1)\n",
    "        # stabilize traning to keep grad between (-1,1)\n",
    "        self.optimizer.step()\n",
    "        #固定用法, change learning rate\n",
    "\n",
    "        #Update target network weights every TAU learning steps (so every TAU*UPDATE_EVERY t_step)\n",
    "        if self.t_step%(TAU*UPDATE_EVERY)==0:\n",
    "            self.update_target_net(self.qnetwork_local, self.qnetwork_target)                     \n",
    "\n",
    "    def update_target_net(self, local_model, target_model):\n",
    "        \"\"\"Soft update model parameters.\n",
    "        Params\n",
    "        ======\n",
    "            local_model (PyTorch model): weights will be copied from\n",
    "            target_model (PyTorch model): weights will be copied to\n",
    "        \"\"\"\n",
    "        target_model.load_state_dict(local_model.state_dict())\n",
    "    def save(self,name):\n",
    "        torch.save(self.qnetwork_local.state_dict(),'/home/rant3/focal/model'+name+'.pth')"
   ]
  },
  {
   "cell_type": "code",
   "execution_count": 10,
   "id": "adf846e2",
   "metadata": {},
   "outputs": [],
   "source": [
    "def get_economic_reward(state, n_action, w_action, next_state, done, k1, k2, k3):\n",
    "    if done:\n",
    "        reward = k1*state[6] - k2*n_action - k3*w_action\n",
    "        return reward\n",
    "    #if done, return Yield (topwt) - k*cost\n",
    "    else:\n",
    "        reward = -k2*n_action - k3*w_action \n",
    "        return reward"
   ]
  },
  {
   "cell_type": "code",
   "execution_count": 11,
   "id": "924e6df9",
   "metadata": {},
   "outputs": [],
   "source": [
    "def get_reward(state, n_action, w_action, next_state, done, k1, k2, k3, k4):\n",
    "    if done:\n",
    "        reward = k1*state[6] - k2*n_action - k3*w_action- k4*state[25]\n",
    "        return reward\n",
    "    #if done, return Yield (topwt) - k*cost\n",
    "    else:\n",
    "        reward = -k2*n_action - k3*w_action - k4*state[25] \n",
    "        return reward\n",
    "    # otherwise, return -k*(action+leaching)"
   ]
  },
  {
   "cell_type": "markdown",
   "id": "e171c08a",
   "metadata": {},
   "source": [
    "### DQN for nitrogen management"
   ]
  },
  {
   "cell_type": "code",
   "execution_count": 12,
   "id": "e8bd30bd",
   "metadata": {},
   "outputs": [],
   "source": [
    "agent = Agent(state_size=ram_dimensions, action_size=nb_actions)"
   ]
  },
  {
   "cell_type": "code",
   "execution_count": 13,
   "id": "0c50293e",
   "metadata": {},
   "outputs": [],
   "source": [
    "def dqn_partial(n_episodes=2000, max_t=500, eps_start=1.0, eps_end=0., eps_decay=0.994, solved=5000, optimize = True,exp=1):\n",
    "    \"\"\"Deep Q-Learning.\n",
    "    \n",
    "    Params\n",
    "    ======\n",
    "        n_episodes (int): maximum number of training episodes\n",
    "        max_t (int): maximum number of timesteps per episode\n",
    "        eps_start (float): starting value of epsilon, for epsilon-greedy action selection\n",
    "        eps_end (float): minimum value of epsilon\n",
    "        eps_decay (float): multiplicative factor (per episode) for decreasing epsilon\n",
    "    \"\"\"\n",
    "    start = time.time()                # Start time\n",
    "    scores = []                        # list containing scores from each episode\n",
    "    scores_window = deque(maxlen=100)  # last 100 scores\n",
    "    list_eps = []\n",
    "    eps = eps_start                    # initialize epsilon\n",
    "    n_amount = 0\n",
    "    w_amount = 0\n",
    "    n_amount_list=[]\n",
    "    n_amount_window = deque(maxlen=100)\n",
    "    w_amount_list=[]\n",
    "    w_amount_window = deque(maxlen=100)\n",
    "    leaching_sum_list = []\n",
    "    leaching_sum_window = deque(maxlen=100)\n",
    "    yield_list=[]\n",
    "    yield_window=deque(maxlen=100)\n",
    "    y=0\n",
    "    k1=0.158\n",
    "    k2=0.79\n",
    "    k3=1.1\n",
    "    wandb.init(\n",
    "      # Set the project where this run will be logged\n",
    "      project=\"FL Partial economic\", \n",
    "      # We pass a run name (otherwise it’ll be randomly assigned, like sunshine-lollypop-10)\n",
    "      name=f\"experiment_{exp}\", config={'k1':k1,'k2':k2,'k3':k3,'Decay':eps_decay,'Gamma':GAMMA} )\n",
    "      # Track hyperparameters and run metadata)\n",
    "    for i_episode in range(1, n_episodes+1):\n",
    "        # Reset env and score at the beginning of episode\n",
    "        state = env.reset() # reset the environment and get current state\n",
    "        full_state = dict2array(state)\n",
    "        partial_state=dict2array_partial(state)\n",
    "        score = 0 # initialize the score\n",
    "        n_amount = 0\n",
    "        w_amount = 0\n",
    "        leaching_sum = 0\n",
    "        for t in range(max_t):\n",
    "            action1 = agent.act(partial_state, eps) if optimize else 12\n",
    "            action = {\n",
    "                    'anfer': (action1%5)*40,  # if mode == fertilization or mode == all ; nitrogen to fertilize in kg/ha\n",
    "                    'amir': int(action1/5)*6,  # if mode == irrigation or mode == all ; water to irrigate in L/ha\n",
    "            }\n",
    "            next_state, reward, done, _ = env.step(action)      # send the action to the environment\n",
    "            #reward = reward-\n",
    "            # add changes to reward to penalize multiple actions\n",
    "            # this step is different from agent step\n",
    "            if done:\n",
    "                y = full_state[6]\n",
    "                full_next_state = full_state\n",
    "                reward = get_economic_reward(full_state, action['anfer'], action['amir'],full_next_state, done, k1,k2,k3)\n",
    "                partial_next_state=partial_state\n",
    "                agent.step(partial_state, action1, reward, partial_next_state, done)\n",
    "                score += reward\n",
    "                n_amount_list.append(n_amount)\n",
    "                w_amount_list.append(w_amount)\n",
    "                leaching_sum=env.observation['cleach']\n",
    "                leaching_sum_list.append(leaching_sum)\n",
    "                #print('Episode is ', i_episode, 'Yield is',state[29])\n",
    "                n_amount_window.append(n_amount)\n",
    "                w_amount_window.append(w_amount)\n",
    "                leaching_sum_window.append(leaching_sum)\n",
    "                yield_list.append(y)\n",
    "                yield_window.append(y)\n",
    "                break\n",
    "            n_amount += action['anfer']\n",
    "            w_amount += action['amir']\n",
    "            full_next_state = dict2array(next_state)\n",
    "            partial_next_state = dict2array_partial(next_state)\n",
    "            reward = get_economic_reward(full_state, action['anfer'], action['amir'],full_next_state, done, k1,k2,k3)\n",
    "            agent.step(partial_state, action1, reward, partial_next_state, done)\n",
    "            full_state = full_next_state\n",
    "            partial_state = partial_next_state\n",
    "            score += reward\n",
    "            #append\n",
    "\n",
    "        scores_window.append(score)       # save most recent score\n",
    "        scores.append(score)              # save most recent score\n",
    "        list_eps.append(eps)\n",
    "        eps = max(eps_end, eps_decay*eps) # decrease epsilon\n",
    "        if score > 1350:\n",
    "            agent.save(str(i_episode))\n",
    "            print('save')\n",
    "        \n",
    "        if i_episode % 100 == 0:\n",
    "            print('\\rEpisode {}/{} \\tAverage Score: {:.2f}'.format(i_episode, n_episodes, np.mean(scores_window)))\n",
    "            print('Epsilon: {}'.format(eps))\n",
    "            print('Average nitrogen amount is', np.mean(n_amount_window))\n",
    "            print('Average irrigation amount is', np.mean(w_amount_window))\n",
    "            print('Average leaching sum is', np.mean(leaching_sum_window))\n",
    "            print('Average yield is', np.mean(yield_window))\n",
    "            \n",
    "        if np.mean(scores_window)>solved:\n",
    "            print('Game Solved after {} episodes'.format(i_episode))\n",
    "            break\n",
    "        wandb.log({\"reward\": score, \"N_amount\": n_amount,\"W_amount\":w_amount,\"leaching\":leaching_sum,'yield':y})\n",
    "        time_elapsed = time.time() - start\n",
    "    print(\"Time Elapse: {:.2f} seconds\".format(time_elapsed))\n",
    "    \n",
    "    return scores, list_eps, n_amount_list, w_amount_list, leaching_sum_list"
   ]
  },
  {
   "cell_type": "code",
   "execution_count": 14,
   "id": "2f0e55e9",
   "metadata": {
    "scrolled": true
   },
   "outputs": [
    {
     "data": {
      "text/html": [
       "wandb version 0.12.21 is available!  To upgrade, please run:\n",
       " $ pip install wandb --upgrade"
      ],
      "text/plain": [
       "<IPython.core.display.HTML object>"
      ]
     },
     "metadata": {},
     "output_type": "display_data"
    },
    {
     "data": {
      "text/html": [
       "Tracking run with wandb version 0.12.16"
      ],
      "text/plain": [
       "<IPython.core.display.HTML object>"
      ]
     },
     "metadata": {},
     "output_type": "display_data"
    },
    {
     "data": {
      "text/html": [
       "Run data is saved locally in <code>/home/rant3/focal/wandb/run-20220729_190201-33z8v4wy</code>"
      ],
      "text/plain": [
       "<IPython.core.display.HTML object>"
      ]
     },
     "metadata": {},
     "output_type": "display_data"
    },
    {
     "data": {
      "text/html": [
       "Syncing run <strong><a href=\"https://wandb.ai/rant3/FL%20Partial%20economic/runs/33z8v4wy\" target=\"_blank\">experiment_1</a></strong> to <a href=\"https://wandb.ai/rant3/FL%20Partial%20economic\" target=\"_blank\">Weights & Biases</a> (<a href=\"https://wandb.me/run\" target=\"_blank\">docs</a>)<br/>"
      ],
      "text/plain": [
       "<IPython.core.display.HTML object>"
      ]
     },
     "metadata": {},
     "output_type": "display_data"
    },
    {
     "name": "stdout",
     "output_type": "stream",
     "text": [
      "Episode 100/2000 \tAverage Score: -7151.81\n",
      "Epsilon: 0.5478207015323072\n",
      "Average nitrogen amount is 9263.2\n",
      "Average irrigation amount is 1416.3\n",
      "Average leaching sum is 7109.368852539063\n",
      "Average yield is 11260.041480275215\n",
      "Episode 200/2000 \tAverage Score: -3286.68\n",
      "Epsilon: 0.3001075210273491\n",
      "Average nitrogen amount is 5057.2\n",
      "Average irrigation amount is 761.16\n",
      "Average leaching sum is 3378.9815930175782\n",
      "Average yield is 10035.888272652928\n",
      "Episode 300/2000 \tAverage Score: -1554.83\n",
      "Epsilon: 0.164405112704324\n",
      "Average nitrogen amount is 2803.2\n",
      "Average irrigation amount is 408.42\n",
      "Average leaching sum is 1465.6338543701172\n",
      "Average yield is 7156.894984967571\n",
      "Episode 400/2000 \tAverage Score: -613.05\n",
      "Epsilon: 0.09006452417718083\n",
      "Average nitrogen amount is 1530.0\n",
      "Average irrigation amount is 224.16\n",
      "Average leaching sum is 630.3849559783936\n",
      "Average yield is 5384.899503650145\n",
      "Episode 500/2000 \tAverage Score: -230.62\n",
      "Epsilon: 0.04933921081791662\n",
      "Average nitrogen amount is 798.4\n",
      "Average irrigation amount is 121.86\n",
      "Average leaching sum is 278.0396790313721\n",
      "Average yield is 3433.776347710915\n",
      "Episode 600/2000 \tAverage Score: -37.54\n",
      "Epsilon: 0.0270290410833215\n",
      "Average nitrogen amount is 428.0\n",
      "Average irrigation amount is 66.24\n",
      "Average leaching sum is 150.5105535507202\n",
      "Average yield is 2382.1352223106155\n",
      "Episode 700/2000 \tAverage Score: 44.75\n",
      "Epsilon: 0.014807068248010726\n",
      "Average nitrogen amount is 238.0\n",
      "Average irrigation amount is 64.38\n",
      "Average leaching sum is 88.89507532119751\n",
      "Average yield is 1924.678696800901\n",
      "Episode 800/2000 \tAverage Score: 43.39\n",
      "Epsilon: 0.00811161851526199\n",
      "Average nitrogen amount is 130.0\n",
      "Average irrigation amount is 82.02\n",
      "Average leaching sum is 69.55027019500733\n",
      "Average yield is 1499.665116675028\n",
      "Episode 900/2000 \tAverage Score: 79.53\n",
      "Epsilon: 0.004443712545593273\n",
      "Average nitrogen amount is 79.2\n",
      "Average irrigation amount is 43.86\n",
      "Average leaching sum is 50.5675887298584\n",
      "Average yield is 1204.719401679584\n",
      "Episode 1000/2000 \tAverage Score: 130.05\n",
      "Epsilon: 0.00243435772413482\n",
      "Average nitrogen amount is 33.6\n",
      "Average irrigation amount is 25.44\n",
      "Average leaching sum is 45.23071022033692\n",
      "Average yield is 1176.650399737612\n",
      "Episode 1100/2000 \tAverage Score: 133.47\n",
      "Epsilon: 0.001333591556216128\n",
      "Average nitrogen amount is 24.0\n",
      "Average irrigation amount is 3.12\n",
      "Average leaching sum is 39.22023502349853\n",
      "Average yield is 986.4463574587934\n",
      "Episode 1200/2000 \tAverage Score: 130.89\n",
      "Epsilon: 0.0007305690618838809\n",
      "Average nitrogen amount is 11.2\n",
      "Average irrigation amount is 1.98\n",
      "Average leaching sum is 37.00816421508789\n",
      "Average yield is 904.6169955365655\n",
      "Episode 1300/2000 \tAverage Score: 137.65\n",
      "Epsilon: 0.00040022085599902683\n",
      "Average nitrogen amount is 2.4\n",
      "Average irrigation amount is 0.78\n",
      "Average leaching sum is 34.78157981872559\n",
      "Average yield is 888.6147244608472\n",
      "Episode 1400/2000 \tAverage Score: 139.07\n",
      "Epsilon: 0.0002192492701012474\n",
      "Average nitrogen amount is 4.8\n",
      "Average irrigation amount is 0.54\n",
      "Average leaching sum is 34.952468376159665\n",
      "Average yield is 907.94474393779\n",
      "Episode 1500/2000 \tAverage Score: 139.01\n",
      "Epsilon: 0.00012010928895731162\n",
      "Average nitrogen amount is 0.8\n",
      "Average irrigation amount is 0.06\n",
      "Average leaching sum is 33.976556854248045\n",
      "Average yield is 884.2005909718247\n",
      "Episode 1600/2000 \tAverage Score: 137.90\n",
      "Epsilon: 6.579835493714105e-05\n",
      "Average nitrogen amount is 0.4\n",
      "Average irrigation amount is 0.24\n",
      "Average leaching sum is 34.16877632141113\n",
      "Average yield is 876.4709409843298\n",
      "Episode 1700/2000 \tAverage Score: 136.72\n",
      "Epsilon: 3.604570096133634e-05\n",
      "Average nitrogen amount is 0.0\n",
      "Average irrigation amount is 1.5\n",
      "Average leaching sum is 34.00307216644287\n",
      "Average yield is 875.7834763266379\n",
      "Episode 1800/2000 \tAverage Score: 137.05\n",
      "Epsilon: 1.9746581187863024e-05\n",
      "Average nitrogen amount is 0.0\n",
      "Average irrigation amount is 1.2\n",
      "Average leaching sum is 33.999023361206056\n",
      "Average yield is 875.7862002492952\n",
      "Episode 1900/2000 \tAverage Score: 138.35\n",
      "Epsilon: 1.0817585959199783e-05\n",
      "Average nitrogen amount is 0.0\n",
      "Average irrigation amount is 0.0\n",
      "Average leaching sum is 33.973045349121094\n",
      "Average yield is 875.6517330897716\n",
      "Episode 2000/2000 \tAverage Score: 138.35\n",
      "Epsilon: 5.926097529054863e-06\n",
      "Average nitrogen amount is 0.0\n",
      "Average irrigation amount is 0.0\n",
      "Average leaching sum is 33.973045349121094\n",
      "Average yield is 875.6517330897716\n",
      "Time Elapse: 2028.75 seconds\n"
     ]
    }
   ],
   "source": [
    "scores, list_eps, action_amount_list, action_list, leaching_sum_list = dqn_partial(n_episodes=2000,exp=1)"
   ]
  },
  {
   "cell_type": "code",
   "execution_count": null,
   "id": "00e578df",
   "metadata": {},
   "outputs": [],
   "source": [
    "import pandas as pd\n",
    "#print(len(scores))\n",
    "#action_list=action_list/100\n",
    "a = pd.DataFrame(scores)\n",
    "a.to_csv('3_Partial Reward.csv', index=False, header=False)\n",
    "#b = pd.DataFrame(action_list)\n",
    "#b.to_csv('Action with constant k2=0.5.csv', index=False, header=False)"
   ]
  },
  {
   "cell_type": "code",
   "execution_count": null,
   "id": "fdef4d4c",
   "metadata": {},
   "outputs": [],
   "source": []
  },
  {
   "cell_type": "markdown",
   "id": "894bc9c8",
   "metadata": {},
   "source": [
    "### Given a constant input: reward = 19847"
   ]
  },
  {
   "cell_type": "code",
   "execution_count": 15,
   "id": "6a1562cf",
   "metadata": {},
   "outputs": [],
   "source": [
    "import matplotlib.pyplot as plt\n",
    "\n",
    "plt.plot(scores)\n",
    "plt.title(\"Partial Nitrogen Management\")\n",
    "plt.xlabel(\"Traing Steps\")\n",
    "plt.ylabel(\"Cumulative Rewards\")\n",
    "plt.savefig(\"Partial Cumulative reward with constant k2=0.1.png\")"
   ]
  },
  {
   "cell_type": "markdown",
   "id": "52272ab2",
   "metadata": {},
   "source": [
    "# "
   ]
  },
  {
   "cell_type": "code",
   "execution_count": 20,
   "id": "e4a9dca2",
   "metadata": {},
   "outputs": [
    {
     "name": "stdout",
     "output_type": "stream",
     "text": [
      "479.7642289510514\n"
     ]
    }
   ],
   "source": [
    "plt.figure()\n",
    "print(np.mean(scores[-90:]))\n",
    "plt.plot(scores[-90:])\n",
    "plt.savefig(\"Reward with constant k2=0.5.png\")"
   ]
  },
  {
   "cell_type": "code",
   "execution_count": null,
   "id": "7a82616d",
   "metadata": {},
   "outputs": [],
   "source": []
  }
 ],
 "metadata": {
  "kernelspec": {
   "display_name": "Python 3 (ipykernel)",
   "language": "python",
   "name": "python3"
  },
  "language_info": {
   "codemirror_mode": {
    "name": "ipython",
    "version": 3
   },
   "file_extension": ".py",
   "mimetype": "text/x-python",
   "name": "python",
   "nbconvert_exporter": "python",
   "pygments_lexer": "ipython3",
   "version": "3.8.10"
  }
 },
 "nbformat": 4,
 "nbformat_minor": 5
}
