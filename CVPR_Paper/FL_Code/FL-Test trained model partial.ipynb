{
 "cells": [
  {
   "cell_type": "markdown",
   "id": "93dda018",
   "metadata": {},
   "source": [
    "### 1. Import packages"
   ]
  },
  {
   "cell_type": "code",
   "execution_count": 1,
   "id": "6f1cfcf8",
   "metadata": {},
   "outputs": [],
   "source": [
    "import numpy as np\n",
    "import pandas as pd\n",
    "import random\n",
    "from IPython import display\n",
    "from collections import namedtuple, deque\n",
    "import time\n",
    "from tqdm import tqdm\n",
    "import matplotlib.pyplot as plt\n",
    "%matplotlib inline\n",
    "\n",
    "import torch\n",
    "import torch.nn as nn\n",
    "import torch.nn.functional as F\n",
    "import torch.optim as optim\n",
    "device = torch.device(\"cpu\")\n",
    "\n",
    "import gym"
   ]
  },
  {
   "cell_type": "markdown",
   "id": "23a8e0e3",
   "metadata": {},
   "source": [
    "### 2. Helper functions"
   ]
  },
  {
   "cell_type": "code",
   "execution_count": 2,
   "id": "a0d74676",
   "metadata": {},
   "outputs": [],
   "source": [
    "def dict2array(state):\n",
    "    new_state = []\n",
    "    for key  in state.keys():\n",
    "        if key != 'sw':\n",
    "            new_state.append(state[key])\n",
    "        else:\n",
    "            new_state += list(state['sw'])        \n",
    "    state = np.asarray(new_state)\n",
    "    \n",
    "    return state\n"
   ]
  },
  {
   "cell_type": "code",
   "execution_count": 3,
   "id": "5142acfc",
   "metadata": {},
   "outputs": [],
   "source": [
    "def dict2array_partial(state):\n",
    "    new_state = []\n",
    "    num_observable_states = 0\n",
    "    for key  in state.keys():\n",
    "        if key != 'sw':\n",
    "            if key == 'cumsumfert':\n",
    "                new_state.append(state[key])\n",
    "            if key == 'dap':\n",
    "                new_state.append(state[key])\n",
    "            if key == 'dtt':\n",
    "                new_state.append(state[key])\n",
    "            if key == 'istage':\n",
    "                new_state.append(state[key])\n",
    "            if key == 'pltpop':\n",
    "                new_state.append(state[key])\n",
    "            if key == 'rain':\n",
    "                new_state.append(state[key])\n",
    "            if key == 'srad':\n",
    "                new_state.append(state[key])\n",
    "            if key == 'tmax':\n",
    "                new_state.append(state[key])\n",
    "            if key == 'tmin':\n",
    "                new_state.append(state[key])\n",
    "            if key == 'vstage':\n",
    "                new_state.append(state[key])\n",
    "            if key == 'xlai':\n",
    "                new_state.append(state[key])\n",
    "        else:\n",
    "            new_state += list(state['sw'])\n",
    "    state = np.asarray(new_state)\n",
    "    return state"
   ]
  },
  {
   "cell_type": "markdown",
   "id": "db8650bd",
   "metadata": {},
   "source": [
    "### 3. Initialize the environment"
   ]
  },
  {
   "cell_type": "code",
   "execution_count": 4,
   "id": "fe07f4eb",
   "metadata": {},
   "outputs": [
    {
     "name": "stdout",
     "output_type": "stream",
     "text": [
      "Observation: {'cleach': 0.0, 'cnox': 0.0, 'cumsumfert': 0.0, 'dap': 0, 'dtt': 0.0, 'es': 0.0, 'grnwt': 0.0, 'istage': 7, 'nstres': 0.0, 'pcngrn': 0.0, 'pltpop': 7.199999809265137, 'rain': 0.0, 'rtdep': 0.0, 'runoff': 0.0, 'srad': 13.300000190734863, 'sw': array([0.086     , 0.086     , 0.086     , 0.086     , 0.086     ,\n",
      "       0.076     , 0.076     , 0.13      , 0.25799999]), 'swfac': 0.0, 'tleachd': 0.0, 'tmax': 22.200000762939453, 'tmin': 3.299999952316284, 'tnoxd': 0.0, 'topwt': 0.0, 'trnu': 0.0, 'vstage': 0.0, 'wtdep': 0.0, 'wtnup': 0.0, 'xlai': 0.0}\n",
      "27 9\n",
      "\n",
      "Ram information received from DASSAT will has 20 dimensions.\n",
      "There are 2 possible actions at each step.\n",
      "Discrete? False\n"
     ]
    }
   ],
   "source": [
    "env_args = {\n",
    "    'run_dssat_location': '/opt/dssat_pdi/run_dssat',  # assuming (modified) DSSAT has been installed in /opt/dssat_pdi\n",
    "    'log_saving_path': './logs/dssat-pdi.log',  # if you want to save DSSAT outputs for inspection\n",
    "    # 'mode': 'irrigation',  # you can choose one of those 3 modes\n",
    "    # 'mode': 'fertilization',\n",
    "    'mode': 'all',\n",
    "    'seed': 123456,\n",
    "    'random_weather': False,  # if you want stochastic weather\n",
    "    #'fileX_template_path':'./IUAF9901.MZX',\n",
    "    #'experiment_number':1\n",
    "}\n",
    "env = gym.make('gym_dssat_pdi:GymDssatPdi-v0', **env_args)\n",
    "print('Observation:',env.observation,)\n",
    "print(len(env.observation),len(env.observation['sw']))\n",
    "ram_dimensions = 20\n",
    "nb_actions = 2\n",
    "print('\\nRam information received from DASSAT will has %d dimensions.' % ram_dimensions)\n",
    "print('There are %d possible actions at each step.' % nb_actions)\n",
    "print('Discrete?',type(gym.spaces)== gym.spaces.Discrete)"
   ]
  },
  {
   "cell_type": "markdown",
   "id": "b4283d29",
   "metadata": {},
   "source": [
    "### 4. Define the network"
   ]
  },
  {
   "cell_type": "code",
   "execution_count": 5,
   "id": "a6021276",
   "metadata": {},
   "outputs": [],
   "source": [
    "class QNetwork(nn.Module):\n",
    "    \"\"\"Agent (Policy) Model.\"\"\"\n",
    "    # given a state of 35 dim, Qnetwork will return 200 values for each possible action  \n",
    "\n",
    "    def __init__(self, state_size, action_size, fc1_units=128*2, fc2_units=128*2,fc3_units=128*2):\n",
    "        \"\"\"Initialize parameters and build model.\n",
    "        Params\n",
    "        ======\n",
    "            state_size (int): Dimension of each state\n",
    "            action_size (int): Dimension of each action\n",
    "            fc1_units (int): Number of nodes in first hidden layer\n",
    "            why is it 256? randomly?\n",
    "        \"\"\"\n",
    "        super(QNetwork, self).__init__()\n",
    "        self.fc1 = nn.Linear(state_size, fc1_units)\n",
    "        self.fc2 = nn.Linear(fc1_units, fc2_units)\n",
    "\n",
    "        self.fc3 = nn.Linear(fc2_units, fc3_units)\n",
    "        self.fc4 = nn.Linear(fc3_units, action_size)\n",
    "        # set a nn with 1 layer\n",
    "        \n",
    "    def forward(self, state):\n",
    "        \"\"\"Build a network that maps state -> action values.\"\"\"\n",
    "        x = F.relu(self.fc1(state))\n",
    "        y = F.relu(self.fc2(x))\n",
    "        z = F.relu(self.fc3(y))\n",
    "        #Applies the rectified linear unit function element-wise. max(0,x)\n",
    "        return self.fc4(z)"
   ]
  },
  {
   "cell_type": "code",
   "execution_count": 6,
   "id": "ac5045ae",
   "metadata": {},
   "outputs": [],
   "source": [
    "class Partial_QNetwork(nn.Module):\n",
    "    \"\"\"Agent (Policy) Model.\"\"\"\n",
    "    # given a state of 35 dim, Qnetwork will return 200 values for each possible action  \n",
    "\n",
    "    def __init__(self, state_size, action_size, fc1_units=128*2,fc2_units=128*2,fc3_units=128*2):\n",
    "        \"\"\"Initialize parameters and build model.\n",
    "        Params\n",
    "        ======\n",
    "            state_size (int): Dimension of each state\n",
    "            action_size (int): Dimension of each action\n",
    "            fc1_units (int): Number of nodes in first hidden layer\n",
    "            why is it 256? randomly?\n",
    "        \"\"\"\n",
    "        super(Partial_QNetwork, self).__init__()\n",
    "        self.fc1 = nn.Linear(state_size, fc1_units)\n",
    "        self.fc2 = nn.Linear(fc1_units, fc2_units)\n",
    "        self.fc3 = nn.Linear(fc2_units, fc3_units)\n",
    "        self.fc4 = nn.Linear(fc3_units, action_size)\n",
    "        # set a nn with 1 layer\n",
    "        \n",
    "    def forward(self, state):\n",
    "        \"\"\"Build a network that maps state -> action values.\"\"\"\n",
    "        x = F.relu(self.fc1(state))\n",
    "        y = F.relu(self.fc2(x))\n",
    "        z = F.relu(self.fc3(y))\n",
    "        #Applies the rectified linear unit function element-wise. max(0,x)\n",
    "        return 4*torch.sigmoid(self.fc4(z))*torch.tensor([[float(40),float(6)]])"
   ]
  },
  {
   "cell_type": "code",
   "execution_count": 7,
   "id": "55a9c6b0",
   "metadata": {},
   "outputs": [
    {
     "data": {
      "text/plain": [
       "<All keys matched successfully>"
      ]
     },
     "execution_count": 7,
     "metadata": {},
     "output_type": "execute_result"
    }
   ],
   "source": [
    "trained_model = QNetwork(20, 2)\n",
    "trained_model.load_state_dict(torch.load('/home/rant3/focal/Model/FL Partial Eco/1.pth'))"
   ]
  },
  {
   "cell_type": "markdown",
   "id": "f705878c",
   "metadata": {},
   "source": [
    "### 5. Define the Replay Buffer"
   ]
  },
  {
   "cell_type": "code",
   "execution_count": 8,
   "id": "a1a8520c",
   "metadata": {},
   "outputs": [],
   "source": [
    "class ReplayBuffer:\n",
    "    \"\"\"Fixed-size buffer to store experience tuples.\"\"\"\n",
    "\n",
    "    def __init__(self, action_size, buffer_size, batch_size):\n",
    "        \"\"\"Initialize a ReplayBuffer object.\n",
    "        Params\n",
    "        ======\n",
    "            action_size (int): dimension of each action\n",
    "            buffer_size (int): maximum size of buffer\n",
    "            batch_size (int): size of each training batch\n",
    "        \"\"\"\n",
    "        self.action_size = action_size\n",
    "        self.memory = deque(maxlen=buffer_size)  \n",
    "        self.batch_size = batch_size\n",
    "        self.experience = namedtuple(\"Experience\", field_names=[\"state\", \"action\", \"reward\", \"next_state\", \"done\"])\n",
    "    \n",
    "    def add(self, state, action, reward, next_state, done):\n",
    "        \"\"\"Add a new experience to memory.\"\"\"\n",
    "#         action = dict2array(action)\n",
    "#         print('transfored actions:',action)\n",
    "        e = self.experience(state, action, reward, next_state, done)\n",
    "        self.memory.append(e)\n",
    "    \n",
    "    def sample(self):\n",
    "        \"\"\"Randomly sample a batch of experiences from memory.\"\"\"\n",
    "        experiences = random.sample(self.memory, k=self.batch_size)\n",
    "#         for e in experiences:\n",
    "# #             print(e)\n",
    "# #             print(e.state.shape, e.next_state.shape)\n",
    "#             break\n",
    "        states = torch.from_numpy(np.vstack([e.state for e in experiences if e is not None])).float().to(device)\n",
    "        actions = torch.from_numpy(np.vstack([e.action for e in experiences if e is not None])).long().to(device)\n",
    "        rewards = torch.from_numpy(np.vstack([e.reward for e in experiences if e is not None])).float().to(device)\n",
    "        next_states = torch.from_numpy(np.vstack([e.next_state for e in experiences if e is not None])).float().to(device)\n",
    "        dones = torch.from_numpy(np.vstack([e.done for e in experiences if e is not None]).astype(np.uint8)).float().to(device)\n",
    "  \n",
    "        return (states, actions, rewards, next_states, dones)\n",
    "\n",
    "    def __len__(self):\n",
    "        \"\"\"Return the current size of internal memory.\"\"\"\n",
    "        return len(self.memory)"
   ]
  },
  {
   "cell_type": "markdown",
   "id": "72686c19",
   "metadata": {},
   "source": [
    "### 6. Define the Agent"
   ]
  },
  {
   "cell_type": "code",
   "execution_count": 9,
   "id": "ef9713bf",
   "metadata": {},
   "outputs": [],
   "source": [
    "BUFFER_SIZE = int(1e5)  # replay buffer size\n",
    "BATCH_SIZE = 640         # minibatch size\n",
    "GAMMA = 0.99            # discount factor\n",
    "TAU = 60                # for update of target network parameters\n",
    "LR = 1e-5               # learning rate \n",
    "UPDATE_EVERY = 4        # how often to update the network"
   ]
  },
  {
   "cell_type": "code",
   "execution_count": 10,
   "id": "ea8e9674",
   "metadata": {},
   "outputs": [],
   "source": [
    "class Agent():\n",
    "    \"\"\"Interacts with and learns from the environment.\"\"\"\n",
    "\n",
    "    def __init__(self, state_size, action_size, trained_model):\n",
    "        \"\"\"Initialize an Agent object.\n",
    "        Params\n",
    "        ======\n",
    "            state_size (int): dimension of each state\n",
    "            action_size (int): dimension of each action\n",
    "        \"\"\"\n",
    "        self.state_size = state_size\n",
    "        self.action_size = action_size\n",
    "        # Q-Network\n",
    "        self.qnetwork_local = trained_model\n",
    "        #self.qnetwork_local = QNetwork(state_size, action_size).to(device)\n",
    "        self.qnetwork_target = QNetwork(state_size, action_size).to(device)\n",
    "        self.optimizer = optim.Adam(self.qnetwork_local.parameters(), lr=LR)\n",
    "\n",
    "        # Replay memory\n",
    "        self.memory = ReplayBuffer(action_size, BUFFER_SIZE, BATCH_SIZE)\n",
    "        # Initialize time step (for updating every UPDATE_EVERY steps)\n",
    "        self.t_step = 0\n",
    "    \n",
    "    def step(self, state, action, reward, next_state, done):\n",
    "        # Save experience in replay memory\n",
    "        self.memory.add(state, action, reward, next_state, done)\n",
    "        \n",
    "        # Learn every UPDATE_EVERY time steps.\n",
    "        self.t_step += 1\n",
    "        if self.t_step%UPDATE_EVERY == 0:\n",
    "            # If enough samples are available in memory, get random subset and learn\n",
    "            if len(self.memory) > BATCH_SIZE:\n",
    "                experiences = self.memory.sample()\n",
    "                self.learn(experiences, GAMMA)\n",
    "\n",
    "    def act(self, state, eps=0.):\n",
    "        \"\"\"Returns actions for given state as per current policy.\n",
    "        Params\n",
    "        ======\n",
    "            state (array_like): current state\n",
    "            eps (float): epsilon, for epsilon-greedy action selection\n",
    "        \"\"\"\n",
    "        state = torch.from_numpy(state).float().unsqueeze(0).to(device)\n",
    "        self.qnetwork_local.eval()\n",
    "        with torch.no_grad():\n",
    "            action_values = self.qnetwork_local(state)\n",
    "        self.qnetwork_local.train()\n",
    "\n",
    "#         Epsilon-greedy action selection\n",
    "        if random.random() > eps:\n",
    "            return np.argmax(action_values.cpu().data.numpy())\n",
    "        else:\n",
    "            return random.choice(np.arange(self.action_size))\n",
    "\n",
    "#         Epsilon-greedy action selection\n",
    "#         if random.random() > eps:\n",
    "#             return np.argmax(action_values.cpu().data.numpy())\n",
    "#         else:\n",
    "#             return random.choice(np.arange(self.action_size))\n",
    "# #         return action_values.cpu().data.numpy()\n",
    "\n",
    "\n",
    "    def learn(self, experiences, gamma):\n",
    "        \"\"\"Update value parameters using given batch of experience tuples.\n",
    "        Params\n",
    "        ======\n",
    "            experiences (Tuple[torch.Variable]): tuple of (s, a, r, s', done) tuples \n",
    "            gamma (float): discount factor\n",
    "        \"\"\"\n",
    "        states, actions, rewards, next_states, dones = experiences\n",
    "\n",
    "        # Get max predicted Q values (for next states) from target model\n",
    "        Q_targets_next = self.qnetwork_target(next_states).detach().max(1)[0].unsqueeze(1)\n",
    "#         print(Q_targets_next)\n",
    "        # Compute Q targets for current states \n",
    "        Q_targets = rewards + (gamma * Q_targets_next * (1 - dones))\n",
    "\n",
    "        # Get expected Q values from local model\n",
    "#         print('out',self.qnetwork_local(states).shape)\n",
    "        Q_expected = self.qnetwork_local(states).gather(1, actions)\n",
    "\n",
    "        # Compute loss\n",
    "        loss = F.mse_loss(Q_expected, Q_targets)\n",
    "        # Minimize the loss\n",
    "        self.optimizer.zero_grad()\n",
    "        loss.backward()\n",
    "        for param in self.qnetwork_local.parameters():\n",
    "            param.grad.data.clamp_(-1, 1)\n",
    "        self.optimizer.step()\n",
    "\n",
    "        #Update target network weights every TAU learning steps (so every TAU*UPDATE_EVERY t_step)\n",
    "        if self.t_step%(TAU*UPDATE_EVERY)==0:\n",
    "            self.update_target_net(self.qnetwork_local, self.qnetwork_target)                     \n",
    "\n",
    "    def update_target_net(self, local_model, target_model):\n",
    "        \"\"\"Soft update model parameters.\n",
    "        Params\n",
    "        ======\n",
    "            local_model (PyTorch model): weights will be copied from\n",
    "            target_model (PyTorch model): weights will be copied to\n",
    "        \"\"\"\n",
    "        target_model.load_state_dict(local_model.state_dict())"
   ]
  },
  {
   "cell_type": "markdown",
   "id": "e171c08a",
   "metadata": {},
   "source": [
    "### DQN for nitrogen management"
   ]
  },
  {
   "cell_type": "code",
   "execution_count": 11,
   "id": "e8bd30bd",
   "metadata": {},
   "outputs": [],
   "source": [
    "agent = Agent(state_size=ram_dimensions, action_size=nb_actions, trained_model=trained_model)"
   ]
  },
  {
   "cell_type": "code",
   "execution_count": 18,
   "id": "91db208f",
   "metadata": {},
   "outputs": [
    {
     "name": "stdout",
     "output_type": "stream",
     "text": [
      "\n",
      "N amount is [tensor(-17.1043, grad_fn=<SelectBackward0>), tensor(-17.0717, grad_fn=<SelectBackward0>), tensor(-18.0847, grad_fn=<SelectBackward0>), tensor(-17.7386, grad_fn=<SelectBackward0>), tensor(-21.3973, grad_fn=<SelectBackward0>), tensor(-53.1688, grad_fn=<SelectBackward0>), tensor(-18.2655, grad_fn=<SelectBackward0>), tensor(-20.2529, grad_fn=<SelectBackward0>), tensor(-22.2768, grad_fn=<SelectBackward0>), tensor(-18.1087, grad_fn=<SelectBackward0>), tensor(-16.6449, grad_fn=<SelectBackward0>), tensor(-20.8840, grad_fn=<SelectBackward0>), tensor(-22.4667, grad_fn=<SelectBackward0>), tensor(-16.1394, grad_fn=<SelectBackward0>), tensor(-18.3850, grad_fn=<SelectBackward0>), tensor(-40.0912, grad_fn=<SelectBackward0>), tensor(-19.0022, grad_fn=<SelectBackward0>), tensor(-18.5803, grad_fn=<SelectBackward0>), tensor(-103.9970, grad_fn=<SelectBackward0>), tensor(-32.5654, grad_fn=<SelectBackward0>), tensor(-18.4747, grad_fn=<SelectBackward0>), tensor(-17.7922, grad_fn=<SelectBackward0>), tensor(-18.3589, grad_fn=<SelectBackward0>), tensor(-17.8907, grad_fn=<SelectBackward0>), tensor(-17.2633, grad_fn=<SelectBackward0>), tensor(-19.9922, grad_fn=<SelectBackward0>), tensor(-20.2354, grad_fn=<SelectBackward0>), tensor(-18.1154, grad_fn=<SelectBackward0>), tensor(-23.1332, grad_fn=<SelectBackward0>), tensor(-18.9957, grad_fn=<SelectBackward0>), tensor(-22.2231, grad_fn=<SelectBackward0>), tensor(-14.2503, grad_fn=<SelectBackward0>), tensor(-18.8151, grad_fn=<SelectBackward0>), tensor(-18.2440, grad_fn=<SelectBackward0>), tensor(-19.4526, grad_fn=<SelectBackward0>), tensor(-33.1851, grad_fn=<SelectBackward0>), tensor(-62.6082, grad_fn=<SelectBackward0>), tensor(-36.6108, grad_fn=<SelectBackward0>), tensor(-15.0724, grad_fn=<SelectBackward0>), tensor(-13.2873, grad_fn=<SelectBackward0>), tensor(-15.3226, grad_fn=<SelectBackward0>), tensor(-15.9711, grad_fn=<SelectBackward0>), tensor(-16.7118, grad_fn=<SelectBackward0>), tensor(-16.9072, grad_fn=<SelectBackward0>), tensor(-19.3874, grad_fn=<SelectBackward0>), tensor(-18.1574, grad_fn=<SelectBackward0>), tensor(-17.8370, grad_fn=<SelectBackward0>), tensor(-16.2687, grad_fn=<SelectBackward0>), tensor(-18.0021, grad_fn=<SelectBackward0>), tensor(-19.4428, grad_fn=<SelectBackward0>), tensor(-16.6261, grad_fn=<SelectBackward0>), tensor(-15.6035, grad_fn=<SelectBackward0>), tensor(-17.1853, grad_fn=<SelectBackward0>), tensor(-24.8843, grad_fn=<SelectBackward0>), tensor(-23.6005, grad_fn=<SelectBackward0>), tensor(-46.3774, grad_fn=<SelectBackward0>), tensor(-9.6107, grad_fn=<SelectBackward0>), tensor(-7.7490, grad_fn=<SelectBackward0>), tensor(-22.6868, grad_fn=<SelectBackward0>), tensor(-43.1253, grad_fn=<SelectBackward0>), tensor(-1.1343, grad_fn=<SelectBackward0>), tensor(-5.3558, grad_fn=<SelectBackward0>), tensor(-3.9999, grad_fn=<SelectBackward0>), tensor(-2.0700, grad_fn=<SelectBackward0>), tensor(-12.2210, grad_fn=<SelectBackward0>), tensor(-2.6589, grad_fn=<SelectBackward0>), tensor(-5.0507, grad_fn=<SelectBackward0>), tensor(-0.6797, grad_fn=<SelectBackward0>), tensor(-2.8655, grad_fn=<SelectBackward0>), tensor(-76.1923, grad_fn=<SelectBackward0>), tensor(-137.0081, grad_fn=<SelectBackward0>), tensor(-20.7253, grad_fn=<SelectBackward0>), tensor(-61.1584, grad_fn=<SelectBackward0>), tensor(-3.9540, grad_fn=<SelectBackward0>), tensor(-4.4225, grad_fn=<SelectBackward0>), tensor(-3.2540, grad_fn=<SelectBackward0>), tensor(-7.7352, grad_fn=<SelectBackward0>), tensor(-4.7460, grad_fn=<SelectBackward0>), tensor(-5.3747, grad_fn=<SelectBackward0>), tensor(-6.9649, grad_fn=<SelectBackward0>), tensor(-5.0470, grad_fn=<SelectBackward0>), tensor(-5.6952, grad_fn=<SelectBackward0>), tensor(-3.6836, grad_fn=<SelectBackward0>), tensor(-4.0435, grad_fn=<SelectBackward0>), tensor(-17.4909, grad_fn=<SelectBackward0>), tensor(-15.9328, grad_fn=<SelectBackward0>), tensor(-21.0561, grad_fn=<SelectBackward0>), tensor(-42.3063, grad_fn=<SelectBackward0>), tensor(-6.1856, grad_fn=<SelectBackward0>), tensor(-6.5571, grad_fn=<SelectBackward0>), tensor(-9.7693, grad_fn=<SelectBackward0>), tensor(-8.1992, grad_fn=<SelectBackward0>), tensor(-10.1164, grad_fn=<SelectBackward0>), tensor(-9.5310, grad_fn=<SelectBackward0>), tensor(-8.7482, grad_fn=<SelectBackward0>), tensor(-8.4594, grad_fn=<SelectBackward0>), tensor(-7.9318, grad_fn=<SelectBackward0>), tensor(-10.1860, grad_fn=<SelectBackward0>), tensor(-9.6132, grad_fn=<SelectBackward0>), tensor(-13.0083, grad_fn=<SelectBackward0>), tensor(-7.9326, grad_fn=<SelectBackward0>), tensor(-8.5984, grad_fn=<SelectBackward0>), tensor(-10.2364, grad_fn=<SelectBackward0>), tensor(-10.8598, grad_fn=<SelectBackward0>), tensor(-10.8706, grad_fn=<SelectBackward0>), tensor(-9.8975, grad_fn=<SelectBackward0>), tensor(-11.3090, grad_fn=<SelectBackward0>), tensor(-12.4082, grad_fn=<SelectBackward0>), tensor(-12.6853, grad_fn=<SelectBackward0>), tensor(-13.2906, grad_fn=<SelectBackward0>), tensor(-12.9559, grad_fn=<SelectBackward0>), tensor(-13.4095, grad_fn=<SelectBackward0>), tensor(-13.6816, grad_fn=<SelectBackward0>), tensor(-19.3934, grad_fn=<SelectBackward0>), tensor(-60.7558, grad_fn=<SelectBackward0>), tensor(-18.1869, grad_fn=<SelectBackward0>), tensor(-18.2715, grad_fn=<SelectBackward0>), tensor(-21.0071, grad_fn=<SelectBackward0>), tensor(-18.0563, grad_fn=<SelectBackward0>), tensor(-19.4063, grad_fn=<SelectBackward0>), tensor(-18.1740, grad_fn=<SelectBackward0>), tensor(-32.4906, grad_fn=<SelectBackward0>), tensor(-47.1378, grad_fn=<SelectBackward0>), tensor(-31.8426, grad_fn=<SelectBackward0>), tensor(-15.5530, grad_fn=<SelectBackward0>), tensor(-23.3781, grad_fn=<SelectBackward0>), tensor(-18.1884, grad_fn=<SelectBackward0>), tensor(-17.3260, grad_fn=<SelectBackward0>), tensor(-15.9735, grad_fn=<SelectBackward0>), tensor(-15.9628, grad_fn=<SelectBackward0>), tensor(-16.8378, grad_fn=<SelectBackward0>), tensor(-18.0657, grad_fn=<SelectBackward0>), tensor(-17.5258, grad_fn=<SelectBackward0>), tensor(-19.2284, grad_fn=<SelectBackward0>), tensor(-80.3251, grad_fn=<SelectBackward0>), tensor(-21.3255, grad_fn=<SelectBackward0>), tensor(-19.0057, grad_fn=<SelectBackward0>), tensor(-20.5930, grad_fn=<SelectBackward0>), tensor(-19.2973, grad_fn=<SelectBackward0>), tensor(-39.4453, grad_fn=<SelectBackward0>), tensor(-105.1930, grad_fn=<SelectBackward0>), tensor(-21.1622, grad_fn=<SelectBackward0>), tensor(-20.3918, grad_fn=<SelectBackward0>), tensor(-26.3014, grad_fn=<SelectBackward0>), tensor(-26.9031, grad_fn=<SelectBackward0>), tensor(-53.4107, grad_fn=<SelectBackward0>), tensor(-30.9575, grad_fn=<SelectBackward0>), tensor(-32.5594, grad_fn=<SelectBackward0>), tensor(-52.3492, grad_fn=<SelectBackward0>), tensor(-24.6468, grad_fn=<SelectBackward0>), tensor(-23.5460, grad_fn=<SelectBackward0>), tensor(-23.7447, grad_fn=<SelectBackward0>), tensor(-30.8211, grad_fn=<SelectBackward0>), tensor(-25.3183, grad_fn=<SelectBackward0>), tensor(-28.9413, grad_fn=<SelectBackward0>)]\n",
      "\n",
      "water amount is [tensor(-9.2404, grad_fn=<SelectBackward0>), tensor(-4.3619, grad_fn=<SelectBackward0>), tensor(-1.1154, grad_fn=<SelectBackward0>), tensor(-3.3482, grad_fn=<SelectBackward0>), tensor(-5.5882, grad_fn=<SelectBackward0>), tensor(-31.0020, grad_fn=<SelectBackward0>), tensor(-3.6248, grad_fn=<SelectBackward0>), tensor(-4.2678, grad_fn=<SelectBackward0>), tensor(-6.4693, grad_fn=<SelectBackward0>), tensor(-3.6470, grad_fn=<SelectBackward0>), tensor(-3.6131, grad_fn=<SelectBackward0>), tensor(-5.1691, grad_fn=<SelectBackward0>), tensor(-7.5042, grad_fn=<SelectBackward0>), tensor(-5.2988, grad_fn=<SelectBackward0>), tensor(-4.5198, grad_fn=<SelectBackward0>), tensor(-22.9988, grad_fn=<SelectBackward0>), tensor(-8.9241, grad_fn=<SelectBackward0>), tensor(-3.2084, grad_fn=<SelectBackward0>), tensor(-74.0755, grad_fn=<SelectBackward0>), tensor(-14.3412, grad_fn=<SelectBackward0>), tensor(-5.8128, grad_fn=<SelectBackward0>), tensor(-4.3614, grad_fn=<SelectBackward0>), tensor(-6.5347, grad_fn=<SelectBackward0>), tensor(-6.9183, grad_fn=<SelectBackward0>), tensor(-8.8020, grad_fn=<SelectBackward0>), tensor(-13.3600, grad_fn=<SelectBackward0>), tensor(-11.3382, grad_fn=<SelectBackward0>), tensor(-4.3616, grad_fn=<SelectBackward0>), tensor(-10.0110, grad_fn=<SelectBackward0>), tensor(-7.7815, grad_fn=<SelectBackward0>), tensor(-10.6266, grad_fn=<SelectBackward0>), tensor(-7.6937, grad_fn=<SelectBackward0>), tensor(-13.8226, grad_fn=<SelectBackward0>), tensor(-10.7282, grad_fn=<SelectBackward0>), tensor(-9.5491, grad_fn=<SelectBackward0>), tensor(-17.8557, grad_fn=<SelectBackward0>), tensor(-42.2665, grad_fn=<SelectBackward0>), tensor(-21.9746, grad_fn=<SelectBackward0>), tensor(-14.2581, grad_fn=<SelectBackward0>), tensor(-9.6119, grad_fn=<SelectBackward0>), tensor(-7.0669, grad_fn=<SelectBackward0>), tensor(-7.6649, grad_fn=<SelectBackward0>), tensor(-8.4004, grad_fn=<SelectBackward0>), tensor(-8.0416, grad_fn=<SelectBackward0>), tensor(-9.0190, grad_fn=<SelectBackward0>), tensor(-8.6460, grad_fn=<SelectBackward0>), tensor(-8.3283, grad_fn=<SelectBackward0>), tensor(-7.8959, grad_fn=<SelectBackward0>), tensor(-8.5467, grad_fn=<SelectBackward0>), tensor(-9.6356, grad_fn=<SelectBackward0>), tensor(-8.2989, grad_fn=<SelectBackward0>), tensor(-7.4460, grad_fn=<SelectBackward0>), tensor(-8.6670, grad_fn=<SelectBackward0>), tensor(-14.1602, grad_fn=<SelectBackward0>), tensor(-12.8299, grad_fn=<SelectBackward0>), tensor(-30.0631, grad_fn=<SelectBackward0>), tensor(-5.6087, grad_fn=<SelectBackward0>), tensor(-5.9145, grad_fn=<SelectBackward0>), tensor(-13.6780, grad_fn=<SelectBackward0>), tensor(-28.4930, grad_fn=<SelectBackward0>), tensor(-1.0792, grad_fn=<SelectBackward0>), tensor(-3.1770, grad_fn=<SelectBackward0>), tensor(-2.5684, grad_fn=<SelectBackward0>), tensor(-1.4389, grad_fn=<SelectBackward0>), tensor(-7.2888, grad_fn=<SelectBackward0>), tensor(-3.3354, grad_fn=<SelectBackward0>), tensor(-3.6097, grad_fn=<SelectBackward0>), tensor(-1.2162, grad_fn=<SelectBackward0>), tensor(-5.4563, grad_fn=<SelectBackward0>), tensor(-52.7953, grad_fn=<SelectBackward0>), tensor(-103.3778, grad_fn=<SelectBackward0>), tensor(-12.9656, grad_fn=<SelectBackward0>), tensor(-45.3505, grad_fn=<SelectBackward0>), tensor(-6.2304, grad_fn=<SelectBackward0>), tensor(-4.2043, grad_fn=<SelectBackward0>), tensor(-3.1357, grad_fn=<SelectBackward0>), tensor(-5.5275, grad_fn=<SelectBackward0>), tensor(-3.3026, grad_fn=<SelectBackward0>), tensor(-3.6352, grad_fn=<SelectBackward0>), tensor(-4.7917, grad_fn=<SelectBackward0>), tensor(-4.3484, grad_fn=<SelectBackward0>), tensor(-4.1320, grad_fn=<SelectBackward0>), tensor(-3.1980, grad_fn=<SelectBackward0>), tensor(-3.5000, grad_fn=<SelectBackward0>), tensor(-11.3473, grad_fn=<SelectBackward0>), tensor(-11.7968, grad_fn=<SelectBackward0>), tensor(-13.7932, grad_fn=<SelectBackward0>), tensor(-26.3666, grad_fn=<SelectBackward0>), tensor(-5.9400, grad_fn=<SelectBackward0>), tensor(-6.7444, grad_fn=<SelectBackward0>), tensor(-8.4671, grad_fn=<SelectBackward0>), tensor(-7.6332, grad_fn=<SelectBackward0>), tensor(-8.6763, grad_fn=<SelectBackward0>), tensor(-8.5288, grad_fn=<SelectBackward0>), tensor(-8.1370, grad_fn=<SelectBackward0>), tensor(-8.5577, grad_fn=<SelectBackward0>), tensor(-8.1597, grad_fn=<SelectBackward0>), tensor(-9.8807, grad_fn=<SelectBackward0>), tensor(-9.7516, grad_fn=<SelectBackward0>), tensor(-10.2757, grad_fn=<SelectBackward0>), tensor(-8.3615, grad_fn=<SelectBackward0>), tensor(-9.1735, grad_fn=<SelectBackward0>), tensor(-10.5150, grad_fn=<SelectBackward0>), tensor(-10.2933, grad_fn=<SelectBackward0>), tensor(-10.5832, grad_fn=<SelectBackward0>), tensor(-10.3015, grad_fn=<SelectBackward0>), tensor(-10.4042, grad_fn=<SelectBackward0>), tensor(-10.9375, grad_fn=<SelectBackward0>), tensor(-11.2343, grad_fn=<SelectBackward0>), tensor(-11.6052, grad_fn=<SelectBackward0>), tensor(-11.6046, grad_fn=<SelectBackward0>), tensor(-11.9343, grad_fn=<SelectBackward0>), tensor(-12.1236, grad_fn=<SelectBackward0>), tensor(-14.9580, grad_fn=<SelectBackward0>), tensor(-38.0063, grad_fn=<SelectBackward0>), tensor(-14.2861, grad_fn=<SelectBackward0>), tensor(-14.2555, grad_fn=<SelectBackward0>), tensor(-15.8234, grad_fn=<SelectBackward0>), tensor(-14.2577, grad_fn=<SelectBackward0>), tensor(-14.9765, grad_fn=<SelectBackward0>), tensor(-14.1265, grad_fn=<SelectBackward0>), tensor(-21.9158, grad_fn=<SelectBackward0>), tensor(-30.4194, grad_fn=<SelectBackward0>), tensor(-21.9742, grad_fn=<SelectBackward0>), tensor(-13.5888, grad_fn=<SelectBackward0>), tensor(-17.3025, grad_fn=<SelectBackward0>), tensor(-14.7760, grad_fn=<SelectBackward0>), tensor(-15.0144, grad_fn=<SelectBackward0>), tensor(-14.4304, grad_fn=<SelectBackward0>), tensor(-14.5814, grad_fn=<SelectBackward0>), tensor(-15.2645, grad_fn=<SelectBackward0>), tensor(-15.5396, grad_fn=<SelectBackward0>), tensor(-15.0645, grad_fn=<SelectBackward0>), tensor(-16.2649, grad_fn=<SelectBackward0>), tensor(-52.1372, grad_fn=<SelectBackward0>), tensor(-17.4638, grad_fn=<SelectBackward0>), tensor(-16.8387, grad_fn=<SelectBackward0>), tensor(-17.2573, grad_fn=<SelectBackward0>), tensor(-16.4132, grad_fn=<SelectBackward0>), tensor(-27.2758, grad_fn=<SelectBackward0>), tensor(-70.9925, grad_fn=<SelectBackward0>), tensor(-18.1185, grad_fn=<SelectBackward0>), tensor(-17.5748, grad_fn=<SelectBackward0>), tensor(-20.9116, grad_fn=<SelectBackward0>), tensor(-21.3496, grad_fn=<SelectBackward0>), tensor(-35.6909, grad_fn=<SelectBackward0>), tensor(-23.4669, grad_fn=<SelectBackward0>), tensor(-24.5319, grad_fn=<SelectBackward0>), tensor(-34.8700, grad_fn=<SelectBackward0>), tensor(-20.5757, grad_fn=<SelectBackward0>), tensor(-19.9709, grad_fn=<SelectBackward0>), tensor(-20.0467, grad_fn=<SelectBackward0>), tensor(-23.7534, grad_fn=<SelectBackward0>), tensor(-21.0956, grad_fn=<SelectBackward0>), tensor(-22.8424, grad_fn=<SelectBackward0>)]\n",
      "\n",
      "N leaching is 33.973045349121094\n",
      "\n",
      "Yield is 875.6517330897714\n",
      "\n",
      "Reward is tensor(2537.6597, grad_fn=<RsubBackward1>)\n"
     ]
    }
   ],
   "source": [
    "for i in range(1):\n",
    "    #print('')\n",
    "    env.reset()\n",
    "    n_list=[]\n",
    "    w_list=[]\n",
    "    n_amount=0\n",
    "    w_amount=0\n",
    "    #print(env.observation)\n",
    "    #date = 1\n",
    "    #print(date)\n",
    "    while not env.done:\n",
    "        #print(observation)\n",
    "        #print(observation)\n",
    "        # observation_list = env.observation_dict_to_array(observation)\n",
    "        state=env.observation\n",
    "        full_state = dict2array(state)\n",
    "        partial_state = dict2array_partial(state)\n",
    "        par_state = torch.from_numpy(partial_state).float().unsqueeze(0).to(device)\n",
    "        action1=trained_model(par_state)\n",
    "        #print(action1)\n",
    "        #print(action1)\n",
    "        action = {\n",
    "                    'anfer': action1[0][0],  # if mode == fertilization or mode == all ; nitrogen to fertilize in kg/ha\n",
    "                    'amir': action1[0][1],  # if mode == irrigation or mode == all ; water to irrigate in L/ha\n",
    "            }\n",
    "        n_amount += action['anfer']\n",
    "        w_amount += action['amir']\n",
    "        n_list.append(action['anfer'])\n",
    "        w_list.append(action['amir'])\n",
    "        observation, reward, done, info = env.step(action)\n",
    "        #print('observation is', observation)\n",
    "        #real_ob = add_fert(observation, action_dict['anfer'])\n",
    "        #print('real_ob is ', real_ob)\n",
    "        #env.observation = real_ob\n",
    "        #print('final ob is:', env.observation)\n",
    "        #real_s=get_real_state(env._state, action_dict['anfer'])\n",
    "        #env._state=real_s\n",
    "        #print('env_state', env._state)\n",
    "        #print(date)\n",
    "        #print(reward)\n",
    "        #print(done)\n",
    "        if done:\n",
    "            final_ob=env.observation\n",
    "            #print(final_ob)\n",
    "            n_amount=final_ob['cumsumfert']\n",
    "            Nleach=final_ob['cleach']\n",
    "            Yield=final_ob['grnwt']\n",
    "            reward=Yield*0.158-0.79*n_amount-1.1*w_amount\n",
    "            reward_list.append(reward)\n",
    "            #print(env.observation)\n",
    "            #print(env.history['action'])\n",
    "            #print(env.history['reward'])\n",
    "print('')\n",
    "print('N amount is', n_list)\n",
    "#print('avergae N input is', np.mean(Action_list))\n",
    "print('')\n",
    "print('water amount is', w_list)\n",
    "#print('avergae water amount is', np.mean(water_list))\n",
    "print('')\n",
    "print('N leaching is', Nleach)\n",
    "#print('avergae Leaching is', np.mean(Nleach_list))\n",
    "print('')\n",
    "print('Yield is', Yield)\n",
    "#print('avergae Yield is', np.mean(Yield_list))\n",
    "print('')\n",
    "print('Reward is', reward)\n",
    "#print('avergae reward is', np.mean(reward_list))"
   ]
  },
  {
   "cell_type": "code",
   "execution_count": 447,
   "id": "135de7ca",
   "metadata": {},
   "outputs": [
    {
     "ename": "NameError",
     "evalue": "name 'topwt' is not defined",
     "output_type": "error",
     "traceback": [
      "\u001b[0;31m---------------------------------------------------------------------------\u001b[0m",
      "\u001b[0;31mNameError\u001b[0m                                 Traceback (most recent call last)",
      "Input \u001b[0;32mIn [447]\u001b[0m, in \u001b[0;36m<cell line: 3>\u001b[0;34m()\u001b[0m\n\u001b[1;32m      1\u001b[0m \u001b[38;5;28;01mimport\u001b[39;00m \u001b[38;5;21;01mmatplotlib\u001b[39;00m\u001b[38;5;21;01m.\u001b[39;00m\u001b[38;5;21;01mpyplot\u001b[39;00m \u001b[38;5;28;01mas\u001b[39;00m \u001b[38;5;21;01mplt\u001b[39;00m\n\u001b[1;32m      2\u001b[0m plt\u001b[38;5;241m.\u001b[39mfigure()\n\u001b[0;32m----> 3\u001b[0m plt\u001b[38;5;241m.\u001b[39mplot(\u001b[43mtopwt\u001b[49m)\n\u001b[1;32m      4\u001b[0m plt\u001b[38;5;241m.\u001b[39mtitle(\u001b[38;5;124m\"\u001b[39m\u001b[38;5;124mTopwt IOWA 280\u001b[39m\u001b[38;5;124m\"\u001b[39m)\n\u001b[1;32m      5\u001b[0m plt\u001b[38;5;241m.\u001b[39msavefig(\u001b[38;5;124m\"\u001b[39m\u001b[38;5;124mtopwt IOWA 280.png\u001b[39m\u001b[38;5;124m\"\u001b[39m)\n",
      "\u001b[0;31mNameError\u001b[0m: name 'topwt' is not defined"
     ]
    },
    {
     "data": {
      "text/plain": [
       "<Figure size 432x288 with 0 Axes>"
      ]
     },
     "metadata": {},
     "output_type": "display_data"
    }
   ],
   "source": [
    "import matplotlib.pyplot as plt\n",
    "plt.figure()\n",
    "plt.plot(topwt)\n",
    "plt.title(\"Topwt IOWA 280\")\n",
    "plt.savefig(\"topwt IOWA 280.png\")\n",
    "plt.figure()\n",
    "plt.plot(nitrogen_uptake)\n",
    "plt.title(\"Nitrogen uptake IOWA 280\")\n",
    "plt.savefig(\"Nitrogen uptake IOWA 280.png\")\n",
    "plt.figure()\n",
    "plt.plot(leaching)\n",
    "plt.title(\"Nitrate leaching IOWA 280\")\n",
    "plt.savefig(\"Nitrate leaching IOWA 280.png\")\n",
    "plt.figure()\n",
    "plt.plot(action_list)\n",
    "plt.title(\"action IOWA 280\")\n",
    "plt.savefig(\"action IOWA 280.png\")"
   ]
  },
  {
   "cell_type": "code",
   "execution_count": null,
   "id": "c86f8c98",
   "metadata": {},
   "outputs": [],
   "source": []
  },
  {
   "cell_type": "code",
   "execution_count": null,
   "id": "fd10e713",
   "metadata": {},
   "outputs": [],
   "source": [
    "import pandas as pd\n",
    "a = pd.DataFrame(topwt)\n",
    "a.to_csv('topwt IOWA 280.csv', index=False, header=False)\n",
    "b = pd.DataFrame(nitrogen_uptake)\n",
    "b.to_csv('Nitrogen uptake IOWA 280.csv', index=False, header=False)\n",
    "c = pd.DataFrame(leaching)\n",
    "c.to_csv('Nitrate leaching IOWA 280.csv', index=False, header=False)\n",
    "c = pd.DataFrame(action_list)\n",
    "c.to_csv('Action IOWA 280.csv', index=False, header=False)"
   ]
  },
  {
   "cell_type": "code",
   "execution_count": null,
   "id": "97182cfc",
   "metadata": {},
   "outputs": [],
   "source": [
    "import matplotlib.pyplot as plt\n",
    "plt.figure()\n",
    "plt.plot(topwt)\n",
    "plt.title(\"topwt paper method k=0.1 act 40\")\n",
    "plt.savefig(\"topwt paper method k=0.1 act 40.png\")\n",
    "plt.figure()\n",
    "plt.plot(nitrogen_uptake)\n",
    "plt.title(\"Nitrogen uptake paper method k=0.1 act 40\")\n",
    "plt.savefig(\"Nitrogen uptake paper method k=0.1 act 40.png\")\n",
    "plt.figure()\n",
    "plt.plot(leaching)\n",
    "plt.title(\"Nitrate leaching paper method k=0.1 act 40\")\n",
    "plt.savefig(\"Nitrate leaching paper method k=0.1 act 40.png\")\n",
    "plt.figure()\n",
    "plt.plot(action_list)\n",
    "plt.title(\"action paper method k=0.1 act 40\")\n",
    "plt.savefig(\"action paper method k=0.1 act 40.png\")"
   ]
  },
  {
   "cell_type": "code",
   "execution_count": 14,
   "id": "99d4c931",
   "metadata": {},
   "outputs": [],
   "source": [
    "import pandas as pd\n",
    "a = pd.DataFrame(topwt)\n",
    "a.to_csv('topwt paper method k=0.1 act 40.csv', index=False, header=False)\n",
    "b = pd.DataFrame(nitrogen_uptake)\n",
    "b.to_csv('Nitrogen uptake paper method k=0.1 act 40.csv', index=False, header=False)\n",
    "c = pd.DataFrame(leaching)\n",
    "c.to_csv('Nitrate leaching paper method k=0.1 act 40.csv', index=False, header=False)\n",
    "c = pd.DataFrame(action_list)\n",
    "c.to_csv('Action paper method k=0.1 act 40.csv', index=False, header=False)"
   ]
  },
  {
   "cell_type": "code",
   "execution_count": 15,
   "id": "1edba494",
   "metadata": {},
   "outputs": [
    {
     "data": {
      "text/plain": [
       "2097.3241743206454"
      ]
     },
     "execution_count": 15,
     "metadata": {},
     "output_type": "execute_result"
    }
   ],
   "source": [
    "score"
   ]
  },
  {
   "cell_type": "code",
   "execution_count": 12,
   "id": "c9aa952d",
   "metadata": {},
   "outputs": [],
   "source": [
    "import matplotlib.pyplot as plt\n",
    "plt.figure()\n",
    "plt.plot(action_list)\n",
    "plt.title(\"action k=0.1 act every 14 days\")\n",
    "plt.savefig(\"action k=0.1 act every 14 days.png\")"
   ]
  },
  {
   "cell_type": "code",
   "execution_count": null,
   "id": "42bead67",
   "metadata": {},
   "outputs": [],
   "source": []
  }
 ],
 "metadata": {
  "kernelspec": {
   "display_name": "Python 3 (ipykernel)",
   "language": "python",
   "name": "python3"
  },
  "language_info": {
   "codemirror_mode": {
    "name": "ipython",
    "version": 3
   },
   "file_extension": ".py",
   "mimetype": "text/x-python",
   "name": "python",
   "nbconvert_exporter": "python",
   "pygments_lexer": "ipython3",
   "version": "3.8.10"
  }
 },
 "nbformat": 4,
 "nbformat_minor": 5
}
