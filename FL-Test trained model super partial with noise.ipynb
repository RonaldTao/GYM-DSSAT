{
 "cells": [
  {
   "cell_type": "markdown",
   "id": "93dda018",
   "metadata": {},
   "source": [
    "### 1. Import packages"
   ]
  },
  {
   "cell_type": "code",
   "execution_count": 1,
   "id": "6f1cfcf8",
   "metadata": {},
   "outputs": [],
   "source": [
    "import numpy as np\n",
    "import pandas as pd\n",
    "import random\n",
    "from IPython import display\n",
    "from collections import namedtuple, deque\n",
    "import time\n",
    "from tqdm import tqdm\n",
    "import matplotlib.pyplot as plt\n",
    "%matplotlib inline\n",
    "\n",
    "import torch\n",
    "import torch.nn as nn\n",
    "import torch.nn.functional as F\n",
    "import torch.optim as optim\n",
    "device = torch.device(\"cpu\")\n",
    "\n",
    "import gym"
   ]
  },
  {
   "cell_type": "markdown",
   "id": "23a8e0e3",
   "metadata": {},
   "source": [
    "### 2. Helper functions"
   ]
  },
  {
   "cell_type": "code",
   "execution_count": 2,
   "id": "a0d74676",
   "metadata": {},
   "outputs": [],
   "source": [
    "def dict2array(state):\n",
    "    new_state = []\n",
    "    for key  in state.keys():\n",
    "        if key != 'sw':\n",
    "            new_state.append(state[key])\n",
    "        else:\n",
    "            new_state += list(state['sw'])        \n",
    "    state = np.asarray(new_state)\n",
    "    \n",
    "    return state\n"
   ]
  },
  {
   "cell_type": "code",
   "execution_count": 3,
   "id": "5142acfc",
   "metadata": {},
   "outputs": [],
   "source": [
    "def dict2array_partial(state):\n",
    "    new_state = []\n",
    "    num_observable_states = 0\n",
    "    for key  in state.keys():\n",
    "        if key != 'sw':\n",
    "            if key == 'cumsumfert':\n",
    "                new_state.append(state[key])\n",
    "            if key == 'dap':\n",
    "                new_state.append(state[key])\n",
    "            if key == 'dtt':\n",
    "                new_state.append(state[key])\n",
    "            if key == 'istage':\n",
    "                new_state.append(state[key])\n",
    "            if key == 'pltpop':\n",
    "                new_state.append(state[key])\n",
    "            if key == 'rain':\n",
    "                new_state.append(state[key])\n",
    "            if key == 'srad':\n",
    "                new_state.append(state[key])\n",
    "            if key == 'tmax':\n",
    "                new_state.append(state[key])\n",
    "            if key == 'tmin':\n",
    "                new_state.append(state[key])\n",
    "            if key == 'vstage':\n",
    "                new_state.append(state[key])\n",
    "            if key == 'xlai':\n",
    "                new_state.append(state[key])\n",
    "        else:\n",
    "            new_state += list(state['sw'])\n",
    "    state = np.asarray(new_state)\n",
    "    return state"
   ]
  },
  {
   "cell_type": "markdown",
   "id": "db8650bd",
   "metadata": {},
   "source": [
    "### 3. Initialize the environment"
   ]
  },
  {
   "cell_type": "code",
   "execution_count": 4,
   "id": "fe07f4eb",
   "metadata": {},
   "outputs": [
    {
     "name": "stdout",
     "output_type": "stream",
     "text": [
      "Observation: {'cleach': 0.0, 'cnox': 0.0, 'cumsumfert': 0.0, 'dap': 0, 'dtt': 0.0, 'es': 0.0, 'grnwt': 0.0, 'istage': 7, 'nstres': 0.0, 'pcngrn': 0.0, 'pltpop': 7.199999809265137, 'rain': 0.0, 'rtdep': 0.0, 'runoff': 0.0, 'srad': 13.300000190734863, 'sw': array([0.086     , 0.086     , 0.086     , 0.086     , 0.086     ,\n",
      "       0.076     , 0.076     , 0.13      , 0.25799999]), 'swfac': 0.0, 'tleachd': 0.0, 'tmax': 22.200000762939453, 'tmin': 3.299999952316284, 'tnoxd': 0.0, 'topwt': 0.0, 'trnu': 0.0, 'vstage': 0.0, 'wtdep': 0.0, 'wtnup': 0.0, 'xlai': 0.0}\n",
      "27 9\n",
      "\n",
      "Ram information received from DASSAT will has 20 dimensions.\n",
      "There are 2 possible actions at each step.\n",
      "Discrete? False\n"
     ]
    }
   ],
   "source": [
    "env_args = {\n",
    "    'run_dssat_location': '/opt/dssat_pdi/run_dssat',  # assuming (modified) DSSAT has been installed in /opt/dssat_pdi\n",
    "    'log_saving_path': './logs/dssat-pdi.log',  # if you want to save DSSAT outputs for inspection\n",
    "    # 'mode': 'irrigation',  # you can choose one of those 3 modes\n",
    "    # 'mode': 'fertilization',\n",
    "    'mode': 'all',\n",
    "    'seed': 123456,\n",
    "    'random_weather': False,  # if you want stochastic weather\n",
    "    #'fileX_template_path':'./IUAF9901.MZX',\n",
    "    #'experiment_number':1\n",
    "}\n",
    "env = gym.make('gym_dssat_pdi:GymDssatPdi-v0', **env_args)\n",
    "print('Observation:',env.observation,)\n",
    "print(len(env.observation),len(env.observation['sw']))\n",
    "ram_dimensions = 20\n",
    "nb_actions = 2\n",
    "print('\\nRam information received from DASSAT will has %d dimensions.' % ram_dimensions)\n",
    "print('There are %d possible actions at each step.' % nb_actions)\n",
    "print('Discrete?',type(gym.spaces)== gym.spaces.Discrete)"
   ]
  },
  {
   "cell_type": "markdown",
   "id": "b4283d29",
   "metadata": {},
   "source": [
    "### 4. Define the network"
   ]
  },
  {
   "cell_type": "code",
   "execution_count": 5,
   "id": "a6021276",
   "metadata": {},
   "outputs": [],
   "source": [
    "class Partial_QNetwork(nn.Module):\n",
    "    \"\"\"Agent (Policy) Model.\"\"\"\n",
    "    # given a state of 35 dim, Qnetwork will return 200 values for each possible action  \n",
    "\n",
    "    def __init__(self, state_size, action_size, fc1_units=128*2,fc2_units=128*2,fc3_units=128*2):\n",
    "        \"\"\"Initialize parameters and build model.\n",
    "        Params\n",
    "        ======\n",
    "            state_size (int): Dimension of each state\n",
    "            action_size (int): Dimension of each action\n",
    "            fc1_units (int): Number of nodes in first hidden layer\n",
    "            why is it 256? randomly?\n",
    "        \"\"\"\n",
    "        super(Partial_QNetwork, self).__init__()\n",
    "        self.fc1 = nn.Linear(state_size, fc1_units)\n",
    "        self.fc2 = nn.Linear(fc1_units, fc2_units)\n",
    "        self.fc3 = nn.Linear(fc2_units, fc3_units)\n",
    "        self.fc4 = nn.Linear(fc3_units, action_size)\n",
    "        # set a nn with 1 layer\n",
    "        \n",
    "    def forward(self, state):\n",
    "        \"\"\"Build a network that maps state -> action values.\"\"\"\n",
    "        x = F.relu(self.fc1(state))\n",
    "        y = F.relu(self.fc2(x))\n",
    "        z = F.relu(self.fc3(y))\n",
    "        #Applies the rectified linear unit function element-wise. max(0,x)\n",
    "        return 4*torch.sigmoid(self.fc4(z))*torch.tensor([[float(40),float(6)]])"
   ]
  },
  {
   "cell_type": "markdown",
   "id": "f705878c",
   "metadata": {},
   "source": [
    "### 5. Define the Replay Buffer"
   ]
  },
  {
   "cell_type": "code",
   "execution_count": 6,
   "id": "a1a8520c",
   "metadata": {},
   "outputs": [],
   "source": [
    "class ReplayBuffer:\n",
    "    \"\"\"Fixed-size buffer to store experience tuples.\"\"\"\n",
    "\n",
    "    def __init__(self, action_size, buffer_size, batch_size):\n",
    "        \"\"\"Initialize a ReplayBuffer object.\n",
    "        Params\n",
    "        ======\n",
    "            action_size (int): dimension of each action\n",
    "            buffer_size (int): maximum size of buffer\n",
    "            batch_size (int): size of each training batch\n",
    "        \"\"\"\n",
    "        self.action_size = action_size\n",
    "        self.memory = deque(maxlen=buffer_size)  \n",
    "        self.batch_size = batch_size\n",
    "        self.experience = namedtuple(\"Experience\", field_names=[\"state\", \"action\", \"reward\", \"next_state\", \"done\"])\n",
    "    \n",
    "    def add(self, state, action, reward, next_state, done):\n",
    "        \"\"\"Add a new experience to memory.\"\"\"\n",
    "#         action = dict2array(action)\n",
    "#         print('transfored actions:',action)\n",
    "        e = self.experience(state, action, reward, next_state, done)\n",
    "        self.memory.append(e)\n",
    "    \n",
    "    def sample(self):\n",
    "        \"\"\"Randomly sample a batch of experiences from memory.\"\"\"\n",
    "        experiences = random.sample(self.memory, k=self.batch_size)\n",
    "#         for e in experiences:\n",
    "# #             print(e)\n",
    "# #             print(e.state.shape, e.next_state.shape)\n",
    "#             break\n",
    "        states = torch.from_numpy(np.vstack([e.state for e in experiences if e is not None])).float().to(device)\n",
    "        actions = torch.from_numpy(np.vstack([e.action for e in experiences if e is not None])).long().to(device)\n",
    "        rewards = torch.from_numpy(np.vstack([e.reward for e in experiences if e is not None])).float().to(device)\n",
    "        next_states = torch.from_numpy(np.vstack([e.next_state for e in experiences if e is not None])).float().to(device)\n",
    "        dones = torch.from_numpy(np.vstack([e.done for e in experiences if e is not None]).astype(np.uint8)).float().to(device)\n",
    "  \n",
    "        return (states, actions, rewards, next_states, dones)\n",
    "\n",
    "    def __len__(self):\n",
    "        \"\"\"Return the current size of internal memory.\"\"\"\n",
    "        return len(self.memory)"
   ]
  },
  {
   "cell_type": "markdown",
   "id": "72686c19",
   "metadata": {},
   "source": [
    "### 6. Define the Agent"
   ]
  },
  {
   "cell_type": "code",
   "execution_count": 7,
   "id": "ef9713bf",
   "metadata": {},
   "outputs": [],
   "source": [
    "BUFFER_SIZE = int(1e5)  # replay buffer size\n",
    "BATCH_SIZE = 640         # minibatch size\n",
    "GAMMA = 0.99            # discount factor\n",
    "TAU = 60                # for update of target network parameters\n",
    "LR = 1e-5               # learning rate \n",
    "UPDATE_EVERY = 4        # how often to update the network"
   ]
  },
  {
   "cell_type": "code",
   "execution_count": 8,
   "id": "ea8e9674",
   "metadata": {},
   "outputs": [],
   "source": [
    "class Agent():\n",
    "    \"\"\"Interacts with and learns from the environment.\"\"\"\n",
    "\n",
    "    def __init__(self, state_size, action_size, trained_model):\n",
    "        \"\"\"Initialize an Agent object.\n",
    "        Params\n",
    "        ======\n",
    "            state_size (int): dimension of each state\n",
    "            action_size (int): dimension of each action\n",
    "        \"\"\"\n",
    "        self.state_size = state_size\n",
    "        self.action_size = action_size\n",
    "        # Q-Network\n",
    "        self.qnetwork_local = trained_model\n",
    "        #self.qnetwork_local = QNetwork(state_size, action_size).to(device)\n",
    "        self.qnetwork_target = QNetwork(state_size, action_size).to(device)\n",
    "        self.optimizer = optim.Adam(self.qnetwork_local.parameters(), lr=LR)\n",
    "\n",
    "        # Replay memory\n",
    "        self.memory = ReplayBuffer(action_size, BUFFER_SIZE, BATCH_SIZE)\n",
    "        # Initialize time step (for updating every UPDATE_EVERY steps)\n",
    "        self.t_step = 0\n",
    "    \n",
    "    def step(self, state, action, reward, next_state, done):\n",
    "        # Save experience in replay memory\n",
    "        self.memory.add(state, action, reward, next_state, done)\n",
    "        \n",
    "        # Learn every UPDATE_EVERY time steps.\n",
    "        self.t_step += 1\n",
    "        if self.t_step%UPDATE_EVERY == 0:\n",
    "            # If enough samples are available in memory, get random subset and learn\n",
    "            if len(self.memory) > BATCH_SIZE:\n",
    "                experiences = self.memory.sample()\n",
    "                self.learn(experiences, GAMMA)\n",
    "\n",
    "    def act(self, state, eps=0.):\n",
    "        \"\"\"Returns actions for given state as per current policy.\n",
    "        Params\n",
    "        ======\n",
    "            state (array_like): current state\n",
    "            eps (float): epsilon, for epsilon-greedy action selection\n",
    "        \"\"\"\n",
    "        state = torch.from_numpy(state).float().unsqueeze(0).to(device)\n",
    "        self.qnetwork_local.eval()\n",
    "        with torch.no_grad():\n",
    "            action_values = self.qnetwork_local(state)\n",
    "        self.qnetwork_local.train()\n",
    "\n",
    "#         Epsilon-greedy action selection\n",
    "        if random.random() > eps:\n",
    "            return np.argmax(action_values.cpu().data.numpy())\n",
    "        else:\n",
    "            return random.choice(np.arange(self.action_size))\n",
    "\n",
    "#         Epsilon-greedy action selection\n",
    "#         if random.random() > eps:\n",
    "#             return np.argmax(action_values.cpu().data.numpy())\n",
    "#         else:\n",
    "#             return random.choice(np.arange(self.action_size))\n",
    "# #         return action_values.cpu().data.numpy()\n",
    "\n",
    "\n",
    "    def learn(self, experiences, gamma):\n",
    "        \"\"\"Update value parameters using given batch of experience tuples.\n",
    "        Params\n",
    "        ======\n",
    "            experiences (Tuple[torch.Variable]): tuple of (s, a, r, s', done) tuples \n",
    "            gamma (float): discount factor\n",
    "        \"\"\"\n",
    "        states, actions, rewards, next_states, dones = experiences\n",
    "\n",
    "        # Get max predicted Q values (for next states) from target model\n",
    "        Q_targets_next = self.qnetwork_target(next_states).detach().max(1)[0].unsqueeze(1)\n",
    "#         print(Q_targets_next)\n",
    "        # Compute Q targets for current states \n",
    "        Q_targets = rewards + (gamma * Q_targets_next * (1 - dones))\n",
    "\n",
    "        # Get expected Q values from local model\n",
    "#         print('out',self.qnetwork_local(states).shape)\n",
    "        Q_expected = self.qnetwork_local(states).gather(1, actions)\n",
    "\n",
    "        # Compute loss\n",
    "        loss = F.mse_loss(Q_expected, Q_targets)\n",
    "        # Minimize the loss\n",
    "        self.optimizer.zero_grad()\n",
    "        loss.backward()\n",
    "        for param in self.qnetwork_local.parameters():\n",
    "            param.grad.data.clamp_(-1, 1)\n",
    "        self.optimizer.step()\n",
    "\n",
    "        #Update target network weights every TAU learning steps (so every TAU*UPDATE_EVERY t_step)\n",
    "        if self.t_step%(TAU*UPDATE_EVERY)==0:\n",
    "            self.update_target_net(self.qnetwork_local, self.qnetwork_target)                     \n",
    "\n",
    "    def update_target_net(self, local_model, target_model):\n",
    "        \"\"\"Soft update model parameters.\n",
    "        Params\n",
    "        ======\n",
    "            local_model (PyTorch model): weights will be copied from\n",
    "            target_model (PyTorch model): weights will be copied to\n",
    "        \"\"\"\n",
    "        target_model.load_state_dict(local_model.state_dict())"
   ]
  },
  {
   "cell_type": "markdown",
   "id": "e171c08a",
   "metadata": {},
   "source": [
    "### DQN for nitrogen management"
   ]
  },
  {
   "cell_type": "code",
   "execution_count": 9,
   "id": "1612c370",
   "metadata": {},
   "outputs": [],
   "source": [
    "def get_W(water):\n",
    "    return round(water/6)*6"
   ]
  },
  {
   "cell_type": "code",
   "execution_count": 10,
   "id": "37920310",
   "metadata": {},
   "outputs": [],
   "source": [
    "def get_N(nitrogen):\n",
    "    return round(nitrogen/40)*40"
   ]
  },
  {
   "cell_type": "code",
   "execution_count": 11,
   "id": "2c3f877c",
   "metadata": {},
   "outputs": [
    {
     "name": "stdout",
     "output_type": "stream",
     "text": [
      "{'cleach': 0.0, 'cnox': 0.0, 'cumsumfert': 0.0, 'dap': 0, 'dtt': 0.0, 'es': 0.0, 'grnwt': 0.0, 'istage': 7, 'nstres': 0.0, 'pcngrn': 0.0, 'pltpop': 7.199999809265137, 'rain': 0.0, 'rtdep': 0.0, 'runoff': 0.0, 'srad': 13.300000190734863, 'sw': array([0.086     , 0.086     , 0.086     , 0.086     , 0.086     ,\n",
      "       0.076     , 0.076     , 0.13      , 0.25799999]), 'swfac': 0.0, 'tleachd': 0.0, 'tmax': 22.200000762939453, 'tmin': 3.299999952316284, 'tnoxd': 0.0, 'topwt': 0.0, 'trnu': 0.0, 'vstage': 0.0, 'wtdep': 0.0, 'wtnup': 0.0, 'xlai': 0.0}\n",
      "[ 0.          0.          0.          7.          7.19999981  0.\n",
      " 13.30000019  0.086       0.086       0.086       0.086       0.086\n",
      "  0.076       0.076       0.13        0.25799999 22.20000076  3.29999995\n",
      "  0.          0.        ]\n"
     ]
    }
   ],
   "source": [
    "state=env.observation\n",
    "print(state)\n",
    "partial_state = dict2array_partial(state)\n",
    "print(partial_state)"
   ]
  },
  {
   "cell_type": "code",
   "execution_count": 12,
   "id": "a1798445",
   "metadata": {},
   "outputs": [],
   "source": [
    "def get_state_w_noise(state):\n",
    "    new_state=state.copy()\n",
    "    for i in range(2):\n",
    "        noise=np.random.normal(0,1)\n",
    "        new_state[i+5]=new_state[i+5]*(1+noise*0.01)\n",
    "    for i in range(9):\n",
    "        noise=np.random.normal(0,1)\n",
    "        new_state[i+7]=new_state[i+7]*(1+noise*0.01)\n",
    "    for i in range(2):\n",
    "        noise=np.random.normal(0,1)\n",
    "        new_state[i+16]=new_state[i+16]*(1+noise*0.01)\n",
    "    return new_state"
   ]
  },
  {
   "cell_type": "code",
   "execution_count": 13,
   "id": "48810321",
   "metadata": {},
   "outputs": [],
   "source": [
    "def get_state_w_sw_noise(state,l1,l2):\n",
    "    new_state=state.copy()\n",
    "    for i in range(9):\n",
    "        noise=np.random.uniform(l1,l2)*random.choice((-1, 1))\n",
    "        new_state[i+7]=new_state[i+7]+noise\n",
    "    return new_state"
   ]
  },
  {
   "cell_type": "code",
   "execution_count": 14,
   "id": "0b76fb39",
   "metadata": {},
   "outputs": [],
   "source": [
    "def get_state_w_T_noise(state,level):\n",
    "    new_state=state.copy()\n",
    "    for i in range(2):\n",
    "        noise=np.random.uniform(-1*level,1*level)\n",
    "        new_state[i+16]=new_state[i+16]+noise\n",
    "    if new_state[2] !=0:\n",
    "        new_state[2]=(new_state[16]+new_state[17])/2-8\n",
    "    return new_state"
   ]
  },
  {
   "cell_type": "code",
   "execution_count": 15,
   "id": "fb9d4e99",
   "metadata": {},
   "outputs": [],
   "source": [
    "def get_state_w_srad_noise(state,level):\n",
    "    new_state=state.copy()\n",
    "    for i in range(1):\n",
    "        noise=np.random.uniform(-1*level,1*level)\n",
    "        new_state[i+6]=new_state[i+6]*(1+noise)\n",
    "    return new_state"
   ]
  },
  {
   "cell_type": "code",
   "execution_count": 16,
   "id": "5bc83f67",
   "metadata": {},
   "outputs": [],
   "source": [
    "def get_state_w_xlai_noise(state,level):\n",
    "    new_state=state.copy()\n",
    "    for i in range(1):\n",
    "        noise=np.random.uniform(-1*level,1*level)\n",
    "        new_state[i+19]=new_state[i+19]*(1+noise)\n",
    "    return new_state"
   ]
  },
  {
   "cell_type": "code",
   "execution_count": 17,
   "id": "85633b2c",
   "metadata": {},
   "outputs": [],
   "source": [
    "def get_state_w_rain_noise(state,level1,l2):\n",
    "    new_state=state.copy()\n",
    "    if new_state[5]>5:\n",
    "        p=np.random.uniform(0,1)\n",
    "        if p > level1:\n",
    "            new_state[5]=0\n",
    "        else:\n",
    "            new_state[5]=new_state[5]*(1+np.random.uniform(-l2,l2))\n",
    "    elif new_state[5]!= 0:\n",
    "        new_state[5]=new_state[5]*(1+np.random.uniform(-l2,l2))\n",
    "    else:\n",
    "        p=np.random.uniform(0,1)\n",
    "        if p > level1:\n",
    "            new_state[5]=np.random.uniform(0,5)\n",
    "    return new_state"
   ]
  },
  {
   "cell_type": "code",
   "execution_count": 18,
   "id": "6ec9e674",
   "metadata": {},
   "outputs": [
    {
     "name": "stdout",
     "output_type": "stream",
     "text": [
      "[ 0.          0.          0.          7.          7.19999981  0.\n",
      " 13.30000019  0.086       0.086       0.086       0.086       0.086\n",
      "  0.076       0.076       0.13        0.25799999 22.20000076  3.29999995\n",
      "  0.          0.        ]\n",
      "[ 0.          0.          0.          7.          7.19999981  0.\n",
      " 13.30000019  0.086       0.086       0.086       0.086       0.086\n",
      "  0.076       0.076       0.13        0.25799999 22.20000076  3.29999995\n",
      "  0.          0.        ]\n"
     ]
    }
   ],
   "source": [
    "env.reset()\n",
    "state=env.observation\n",
    "\n",
    "partial_state = dict2array_partial(state)\n",
    "print(partial_state)\n",
    "partial_w_noise_state=get_state_w_xlai_noise(partial_state,1)\n",
    "print(partial_w_noise_state)"
   ]
  },
  {
   "cell_type": "code",
   "execution_count": 19,
   "id": "e5e94ce5",
   "metadata": {},
   "outputs": [
    {
     "name": "stdout",
     "output_type": "stream",
     "text": [
      "[ 0.          0.          0.          7.          7.19999981  0.\n",
      " 13.30000019  0.086       0.086       0.086       0.086       0.086\n",
      "  0.076       0.076       0.13        0.25799999 22.20000076  3.29999995\n",
      "  0.          0.        ]\n",
      "[ 0.          0.          0.          7.          7.19999981  0.\n",
      " 13.43213907  0.086       0.086       0.086       0.086       0.086\n",
      "  0.076       0.076       0.13        0.25799999 22.20000076  3.29999995\n",
      "  0.          0.        ]\n"
     ]
    }
   ],
   "source": [
    "env.reset()\n",
    "state=env.observation\n",
    "partial_state = dict2array_partial(state)\n",
    "print(partial_state)\n",
    "#partial_state = dict2array_partial(state)\n",
    "#partial_w_noise_state=get_state_w_sw_noise(partial_state,-0.02,0.02)\n",
    "#print(partial_w_noise_state)\n",
    "#partial_w_noise_state=get_state_w_T_noise(partial_w_noise_state,2)\n",
    "partial_w_noise_state=get_state_w_srad_noise(partial_w_noise_state,0.02)\n",
    "partial_w_noise_state=get_state_w_rain_noise(partial_w_noise_state,0.9,0.0)\n",
    "print(partial_w_noise_state)"
   ]
  },
  {
   "cell_type": "code",
   "execution_count": 20,
   "id": "c9a91e83",
   "metadata": {},
   "outputs": [
    {
     "data": {
      "text/plain": [
       "<All keys matched successfully>"
      ]
     },
     "execution_count": 20,
     "metadata": {},
     "output_type": "execute_result"
    }
   ],
   "source": [
    "trained_model = Partial_QNetwork(20, 2)\n",
    "trained_model.load_state_dict(torch.load('/home/rant3/focal/IAAI/Trained_Policies/FL_Super_Partial_Eco/new1.pth'))\n",
    "#trained_model.load_state_dict(torch.load('/home/rant3/focal/IAAI/Trained_Policies/FL_Super_Partial_Eco/new1.pth'))"
   ]
  },
  {
   "cell_type": "code",
   "execution_count": 28,
   "id": "100b2a49",
   "metadata": {},
   "outputs": [
    {
     "name": "stdout",
     "output_type": "stream",
     "text": [
      "Average averaged N is  157.1\n",
      "Average averaged W is  117.12\n",
      "Average averaged leaching is  37.021488447189334\n",
      "Average averaged yield is  8886.263987559629\n",
      "Average averaged reward is  1151.0887100344216\n",
      "STd of averaged reward is  464.07594894016273\n"
     ]
    }
   ],
   "source": [
    "action_list=[]\n",
    "water_list=[]\n",
    "leaching_list=[]\n",
    "yield_list=[]\n",
    "reward_list=[]\n",
    "for j in range(400):\n",
    "    env.reset()\n",
    "    n_amount=0\n",
    "    w_amount=0\n",
    "    #print(env.observation)\n",
    "    #date = 1\n",
    "    #print(date)\n",
    "    while not env.done:\n",
    "        state=env.observation\n",
    "        full_state = dict2array(state)\n",
    "        partial_state = dict2array_partial(state)\n",
    "        #partial_w_noise_state=get_state_w_rain_noise(partial_state,0.8,0.02)\n",
    "        partial_w_noise_state=get_state_w_sw_noise(partial_state,-0.05,0.05)\n",
    "        partial_w_noise_state=get_state_w_T_noise(partial_w_noise_state,2)\n",
    "        partial_w_noise_state=get_state_w_srad_noise(partial_w_noise_state,0.02)\n",
    "        partial_w_noise_state=get_state_w_rain_noise(partial_w_noise_state,0.8,0.1)\n",
    "        partial_w_noise_state=get_state_w_xlai_noise(partial_w_noise_state,0.2)\n",
    "        #print(partial_w_noise_state[5])\n",
    "        partial_state = torch.from_numpy(partial_state).float().unsqueeze(0).to(device)   \n",
    "        partial_w_noise_state = torch.from_numpy(partial_w_noise_state).float().unsqueeze(0).to(device)\n",
    "        action1=trained_model(partial_w_noise_state)\n",
    "        \n",
    "        #print(action1[0][0].item())\n",
    "        N1=(action1[0][0].item())\n",
    "        W1=(action1[0][1].item())\n",
    "        N2=get_N(action1[0][0].item())\n",
    "        W2=get_W(action1[0][1].item())\n",
    "        action = {\n",
    "                    'anfer': N2,# if mode == fertilization or mode == all ; nitrogen to fertilize in kg/ha\n",
    "                    'amir': W2, # if mode == irrigation or mode == all ; water to irrigate in L/ha\n",
    "            }\n",
    "        observation, reward, done, info = env.step(action)\n",
    "        if done:\n",
    "            final_ob=env.observation\n",
    "            #print(final_ob)\n",
    "            Nleach=final_ob['cleach']\n",
    "            Yield=final_ob['grnwt']\n",
    "            reward=Yield*0.158-0.79*n_amount-1.1*w_amount-0*Nleach\n",
    "            action_list.append(final_ob['cumsumfert'])\n",
    "            water_list.append(w_amount)\n",
    "            leaching_list.append(Nleach)\n",
    "            yield_list.append(Yield)\n",
    "            #print(env.observation)\n",
    "            reward_list.append(reward)\n",
    "            #print(env.history['action'])\n",
    "            #print(env.history['reward'])\n",
    "            if final_ob['cumsumfert'] != n_amount:\n",
    "                print('wrong')\n",
    "        n_amount += N2\n",
    "        w_amount += W2 \n",
    "\n",
    "print('Average averaged N is ', np.mean(action_list))\n",
    "print('Average averaged W is ', np.mean(water_list))\n",
    "print('Average averaged leaching is ', np.mean(leaching_list))\n",
    "print('Average averaged yield is ', np.mean(yield_list))\n",
    "print('Average averaged reward is ', np.mean(reward_list))\n",
    "print('STd of averaged reward is ', np.std(reward_list))\n",
    "#print('avergae reward is', np.mean(reward_list))"
   ]
  },
  {
   "cell_type": "code",
   "execution_count": 26,
   "id": "91db208f",
   "metadata": {},
   "outputs": [
    {
     "name": "stdout",
     "output_type": "stream",
     "text": [
      "Averge N is  [200.0, 200.0, 200.0, 200.0, 200.0, 200.0, 200.0, 200.0, 200.0, 200.0, 200.0, 200.0, 200.0, 200.0, 200.0, 200.0, 200.0, 200.0, 200.0, 200.0]\n",
      "\n",
      "Averge water is  [144.9, 145.5, 145.2, 145.5, 146.1, 145.5, 145.5, 144.3, 144.9, 144.9, 144.9, 144.3, 144.9, 144.9, 144.9, 145.2, 144.9, 144.6, 144.9, 144.9]\n",
      "\n",
      "Averge leaching is  [41.01431732177734, 41.13739776611328, 41.07585754394531, 41.13739776611328, 41.26047821044922, 41.160889625549316, 41.13739776611328, 40.89123687744141, 41.01431732177734, 41.01431732177734, 41.01431732177734, 40.89123687744141, 41.01431732177734, 41.01431732177734, 41.01431732177734, 41.099349403381346, 41.01431732177734, 40.95277709960938, 41.01431732177734, 41.01431732177734]\n",
      "\n",
      "Average yield is [10786.962073862225, 10789.121876051104, 10788.041974956664, 10789.121876051104, 10791.281678239982, 10790.045716358662, 10789.121876051104, 10784.802271673347, 10786.962073862225, 10786.962073862225, 10786.962073862225, 10784.802271673347, 10786.962073862225, 10786.962073862225, 10786.962073862225, 10788.965815264222, 10786.962073862225, 10785.882172767786, 10786.962073862225, 10786.962073862225]\n",
      "\n",
      "Average reward is [1607.4208281635583, 1606.6373863796543, 1607.0291072716063, 1606.6373863796543, 1605.8539445957504, 1606.7046951439856, 1606.6373863796543, 1608.2042699474623, 1607.4208281635583, 1607.4208281635583, 1607.4208281635583, 1608.2042699474623, 1607.4208281635583, 1607.4208281635583, 1607.4208281635583, 1607.0964160359376, 1607.4208281635583, 1607.8125490555103, 1607.4208281635583, 1607.4208281635583]\n",
      "Average averaged N is  200.0\n",
      "Average averaged W is  145.03500000000003\n",
      "Average averaged leaching is  41.04435960769653\n",
      "Average averaged yield is  10787.54041338548\n",
      "Average averaged reward is  1607.251284638613\n",
      "STd of averaged reward is  0.541946001301585\n"
     ]
    }
   ],
   "source": [
    "a_list=[]\n",
    "w_list=[]\n",
    "l_list=[]\n",
    "y_list=[]\n",
    "r_list=[]\n",
    "for j in range(20):\n",
    "    action_list=[]\n",
    "    water_list=[]\n",
    "    leaching_list=[]\n",
    "    yield_list=[]\n",
    "    reward_list=[]\n",
    "    for i in range(20):\n",
    "        #print('')\n",
    "        env.reset()\n",
    "        n_amount=0\n",
    "        w_amount=0\n",
    "        #print(env.observation)\n",
    "        #date = 1\n",
    "        #print(date)\n",
    "        while not env.done:\n",
    "            state=env.observation\n",
    "            full_state = dict2array(state)\n",
    "            partial_state = dict2array_partial(state)\n",
    "            partial_w_noise_state=get_state_w_noise_3(partial_state,1)\n",
    "            partial_state = torch.from_numpy(partial_state).float().unsqueeze(0).to(device)         \n",
    "            partial_w_noise_state = torch.from_numpy(partial_w_noise_state).float().unsqueeze(0).to(device)\n",
    "            action1=trained_model(partial_w_noise_state)\n",
    "            #print(action1[0][0].item())\n",
    "            N1=(action1[0][0].item())\n",
    "            W1=(action1[0][1].item())\n",
    "            N2=get_N(action1[0][0].item())\n",
    "            W2=get_W(action1[0][1].item())\n",
    "            action = {\n",
    "                        'anfer': N2,# if mode == fertilization or mode == all ; nitrogen to fertilize in kg/ha\n",
    "                        'amir': W2, # if mode == irrigation or mode == all ; water to irrigate in L/ha\n",
    "                }\n",
    "            observation, reward, done, info = env.step(action)\n",
    "            if done:\n",
    "                final_ob=env.observation\n",
    "                #print(final_ob)\n",
    "                Nleach=final_ob['cleach']\n",
    "                Yield=final_ob['grnwt']\n",
    "                reward=Yield*0.2-n_amount-1*w_amount-5*Nleach\n",
    "                action_list.append(final_ob['cumsumfert'])\n",
    "                water_list.append(w_amount)\n",
    "                leaching_list.append(Nleach)\n",
    "                yield_list.append(Yield)\n",
    "                #print(env.observation)\n",
    "                reward_list.append(reward)\n",
    "                #print(env.history['action'])\n",
    "                #print(env.history['reward'])\n",
    "                if final_ob['cumsumfert'] != n_amount:\n",
    "                    print('wrong')\n",
    "            n_amount += N2\n",
    "            w_amount += W2\n",
    "    a_list.append(np.mean(action_list))\n",
    "    w_list.append(np.mean(water_list))\n",
    "    l_list.append(np.mean(leaching_list))\n",
    "    y_list.append(np.mean(yield_list))\n",
    "    r_list.append(np.mean(reward_list))\n",
    "    \n",
    "#print(final_ob)\n",
    "#print('N amount is', action_list)\n",
    "print('Averge N is ', a_list)\n",
    "#print(Action_list)\n",
    "#print('avergae N input is', np.mean(Action_list))\n",
    "print('')\n",
    "#print('water amount is', water_list)\n",
    "print('Averge water is ', w_list)\n",
    "#print(water_list)\n",
    "#print('avergae water amount is', np.mean(water_list))\n",
    "print('')\n",
    "#print('N leaching is', leaching_list)\n",
    "print('Averge leaching is ', l_list)\n",
    "#print('avergae Leaching is', np.mean(Nleach_list))\n",
    "print('')\n",
    "#print('Yield is', yield_list)\n",
    "print('Average yield is', y_list)\n",
    "#print('avergae Yield is', np.mean(Yield_list))\n",
    "print('')\n",
    "#print('Reward is', reward_list)\n",
    "print('Average reward is', r_list)\n",
    "r_list=np.array(r_list)\n",
    "print('Average averaged N is ', np.mean(a_list))\n",
    "print('Average averaged W is ', np.mean(w_list))\n",
    "print('Average averaged leaching is ', np.mean(l_list))\n",
    "print('Average averaged yield is ', np.mean(y_list))\n",
    "print('Average averaged reward is ', np.mean(r_list))\n",
    "print('STd of averaged reward is ', np.std(r_list))\n",
    "#print('avergae reward is', np.mean(reward_list))\n"
   ]
  },
  {
   "cell_type": "code",
   "execution_count": 22,
   "id": "a919e2b2",
   "metadata": {},
   "outputs": [
    {
     "name": "stdout",
     "output_type": "stream",
     "text": [
      "Average averaged N is  187.6\n",
      "Average averaged W is  127.35000000000002\n",
      "Average averaged leaching is  40.00296449661256\n",
      "Average averaged yield is  8774.284732351172\n",
      "Average averaged reward is  1239.8921239871718\n",
      "STd of averaged reward is  163.61650572963813\n"
     ]
    }
   ],
   "source": [
    "print('Average averaged N is ', np.mean(a_list))\n",
    "print('Average averaged W is ', np.mean(w_list))\n",
    "print('Average averaged leaching is ', np.mean(l_list))\n",
    "print('Average averaged yield is ', np.mean(y_list))\n",
    "print('Average averaged reward is ', np.mean(r_list))\n",
    "print('STd of averaged reward is ', np.std(r_list))"
   ]
  },
  {
   "cell_type": "code",
   "execution_count": 28,
   "id": "a8cafac3",
   "metadata": {},
   "outputs": [
    {
     "data": {
      "text/plain": [
       "0.9469254261323538"
      ]
     },
     "execution_count": 28,
     "metadata": {},
     "output_type": "execute_result"
    }
   ],
   "source": [
    "np.random.normal(0,1)"
   ]
  },
  {
   "cell_type": "code",
   "execution_count": null,
   "id": "26ecd87e",
   "metadata": {},
   "outputs": [],
   "source": []
  },
  {
   "cell_type": "code",
   "execution_count": 15,
   "id": "fd10e713",
   "metadata": {},
   "outputs": [],
   "source": [
    "import pandas as pd\n",
    "a = pd.DataFrame(Action_list)\n",
    "a.to_csv('Action.csv', index=False, header=False)\n",
    "b = pd.DataFrame(water_list)\n",
    "b.to_csv('water.csv', index=False, header=False)"
   ]
  },
  {
   "cell_type": "code",
   "execution_count": null,
   "id": "97182cfc",
   "metadata": {},
   "outputs": [],
   "source": [
    "import matplotlib.pyplot as plt\n",
    "plt.figure()\n",
    "plt.plot(topwt)\n",
    "plt.title(\"topwt paper method k=0.1 act 40\")\n",
    "plt.savefig(\"topwt paper method k=0.1 act 40.png\")\n",
    "plt.figure()\n",
    "plt.plot(nitrogen_uptake)\n",
    "plt.title(\"Nitrogen uptake paper method k=0.1 act 40\")\n",
    "plt.savefig(\"Nitrogen uptake paper method k=0.1 act 40.png\")\n",
    "plt.figure()\n",
    "plt.plot(leaching)\n",
    "plt.title(\"Nitrate leaching paper method k=0.1 act 40\")\n",
    "plt.savefig(\"Nitrate leaching paper method k=0.1 act 40.png\")\n",
    "plt.figure()\n",
    "plt.plot(action_list)\n",
    "plt.title(\"action paper method k=0.1 act 40\")\n",
    "plt.savefig(\"action paper method k=0.1 act 40.png\")"
   ]
  },
  {
   "cell_type": "code",
   "execution_count": 14,
   "id": "99d4c931",
   "metadata": {},
   "outputs": [],
   "source": [
    "import pandas as pd\n",
    "a = pd.DataFrame(topwt)\n",
    "a.to_csv('topwt paper method k=0.1 act 40.csv', index=False, header=False)\n",
    "b = pd.DataFrame(nitrogen_uptake)\n",
    "b.to_csv('Nitrogen uptake paper method k=0.1 act 40.csv', index=False, header=False)\n",
    "c = pd.DataFrame(leaching)\n",
    "c.to_csv('Nitrate leaching paper method k=0.1 act 40.csv', index=False, header=False)\n",
    "c = pd.DataFrame(action_list)\n",
    "c.to_csv('Action paper method k=0.1 act 40.csv', index=False, header=False)"
   ]
  },
  {
   "cell_type": "code",
   "execution_count": 15,
   "id": "1edba494",
   "metadata": {},
   "outputs": [
    {
     "data": {
      "text/plain": [
       "2097.3241743206454"
      ]
     },
     "execution_count": 15,
     "metadata": {},
     "output_type": "execute_result"
    }
   ],
   "source": [
    "score"
   ]
  },
  {
   "cell_type": "code",
   "execution_count": 12,
   "id": "c9aa952d",
   "metadata": {},
   "outputs": [],
   "source": [
    "import matplotlib.pyplot as plt\n",
    "plt.figure()\n",
    "plt.plot(action_list)\n",
    "plt.title(\"action k=0.1 act every 14 days\")\n",
    "plt.savefig(\"action k=0.1 act every 14 days.png\")"
   ]
  },
  {
   "cell_type": "code",
   "execution_count": null,
   "id": "42bead67",
   "metadata": {},
   "outputs": [],
   "source": []
  }
 ],
 "metadata": {
  "kernelspec": {
   "display_name": "Python 3 (ipykernel)",
   "language": "python",
   "name": "python3"
  },
  "language_info": {
   "codemirror_mode": {
    "name": "ipython",
    "version": 3
   },
   "file_extension": ".py",
   "mimetype": "text/x-python",
   "name": "python",
   "nbconvert_exporter": "python",
   "pygments_lexer": "ipython3",
   "version": "3.8.10"
  }
 },
 "nbformat": 4,
 "nbformat_minor": 5
}
