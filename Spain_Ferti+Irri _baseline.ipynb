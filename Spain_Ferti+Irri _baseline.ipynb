{
 "cells": [
  {
   "cell_type": "code",
   "execution_count": 2,
   "id": "ec292518",
   "metadata": {},
   "outputs": [],
   "source": [
    "import numpy as np\n",
    "import pandas as pd\n",
    "import random\n",
    "from IPython import display\n",
    "from collections import namedtuple, deque\n",
    "import time\n",
    "from tqdm import tqdm\n",
    "import matplotlib.pyplot as plt\n",
    "%matplotlib inline\n",
    "\n",
    "\n",
    "import torch\n",
    "import torch.nn as nn\n",
    "import torch.nn.functional as F\n",
    "import torch.optim as optim\n",
    "device = torch.device(\"cpu\")\n",
    "# use cpu run\n",
    "import gym"
   ]
  },
  {
   "cell_type": "code",
   "execution_count": 3,
   "id": "6b4dde21",
   "metadata": {},
   "outputs": [
    {
     "name": "stdout",
     "output_type": "stream",
     "text": [
      "Observation: {'cleach': 0.0, 'cnox': 0.0, 'cumsumfert': 0.0, 'dap': 0, 'dtt': 0.0, 'es': 0.0, 'grnwt': 0.0, 'istage': 7, 'nstres': 0.0, 'pcngrn': 0.0, 'pltpop': 8.0, 'rain': 1.2000000476837158, 'rtdep': 0.0, 'runoff': 0.0, 'srad': 19.799999237060547, 'sw': array([0.20299999, 0.20299999, 0.20299999, 0.28200001, 0.28200001,\n",
      "       0.223     , 0.223     ]), 'swfac': 0.0, 'tleachd': 0.0, 'tmax': 24.600000381469727, 'tmin': 12.199999809265137, 'tnoxd': 0.0, 'topwt': 0.0, 'trnu': 0.0, 'vstage': 0.0, 'wtdep': 0.0, 'wtnup': 0.0, 'xlai': 0.0}\n",
      "27 7\n",
      "\n",
      "Ram information received from DASSAT will has 33 dimensions.\n",
      "There are 25 possible actions at each step.\n",
      "Discrete? False\n"
     ]
    }
   ],
   "source": [
    "env_args = {\n",
    "    'run_dssat_location': '/opt/dssat_pdi/run_dssat',  # assuming (modified) DSSAT has been installed in /opt/dssat_pdi\n",
    "    'log_saving_path': './logs/dssat-pdi.log',  # if you want to save DSSAT outputs for inspection\n",
    "    # 'mode': 'irrigation',  # you can choose one of those 3 modes\n",
    "    # 'mode': 'fertilization',\n",
    "    'mode': 'all',\n",
    "    'seed': 123456,\n",
    "    'random_weather': False,  # if you want stochastic weather\n",
    "    #'fileX_template_path':'./IUAF9901.MZX',\n",
    "    'fileX_template_path':'./SIAZ9501.MZX',\n",
    "    #'experiment_number':1\n",
    "}\n",
    "env = gym.make('gym_dssat_pdi:GymDssatPdi-v0', **env_args)\n",
    "print('Observation:',env.observation,)\n",
    "print(len(env.observation),len(env.observation['sw']))\n",
    "ram_dimensions = len(env.observation)+len(env.observation['sw'])-1\n",
    "#ram_dimnetion = 9 if partial\n",
    "nb_actions = 25\n",
    "print('\\nRam information received from DASSAT will has %d dimensions.' % ram_dimensions)\n",
    "print('There are %d possible actions at each step.' % nb_actions)\n",
    "print('Discrete?',type(gym.spaces)== gym.spaces.Discrete)\n",
    "# observation has 27 elements, 9 values in soil water\n",
    "# state size = 27+8 dimension\n",
    "# how to defind nb_action? why is 200?"
   ]
  },
  {
   "cell_type": "code",
   "execution_count": 11,
   "id": "6030d8a9",
   "metadata": {
    "scrolled": true
   },
   "outputs": [
    {
     "name": "stdout",
     "output_type": "stream",
     "text": [
      "{'cleach': 4.092536926269531, 'cnox': 0.012328286655247211, 'cumsumfert': 250.00003051757812, 'dap': 140, 'dtt': 11.75, 'es': 0.49474215507507324, 'grnwt': 10989.937744140625, 'istage': 6, 'nstres': 0.3285132050514221, 'pcngrn': 0.015422229766845702, 'pltpop': 8.0, 'rain': 0.0, 'rtdep': 80.0011978149414, 'runoff': 0.0, 'srad': 13.399999618530273, 'sw': array([0.27751601, 0.277482  , 0.27211601, 0.27595201, 0.27311799,\n",
      "       0.26772499, 0.26773199]), 'swfac': 0.0, 'tleachd': 0.13787662982940674, 'tmax': 27.5, 'tmin': 12.0, 'tnoxd': 0.0, 'topwt': 2655.3046875, 'trnu': 0.22487860172986984, 'vstage': 22.0, 'wtdep': 80.0011978149414, 'wtnup': 319.49575424194336, 'xlai': 2.604471445083618}\n",
      "irrigation time is  47\n",
      "N amount is 250.00003051757812\n",
      "N action is [50, 0, 0, 0, 0, 0, 0, 0, 0, 0, 0, 0, 0, 0, 0, 0, 0, 0, 0, 0, 0, 0, 0, 0, 0, 0, 0, 0, 0, 100, 0, 0, 0, 0, 0, 0, 0, 0, 0, 0, 0, 0, 0, 0, 0, 0, 0, 0, 0, 0, 0, 0, 0, 0, 100, 0, 0, 0, 0, 0, 0, 0, 0, 0, 0, 0, 0, 0, 0, 0, 0, 0, 0, 0, 0, 0, 0, 0, 0, 0, 0, 0, 0, 0, 0, 0, 0, 0, 0, 0, 0, 0, 0, 0, 0, 0, 0, 0, 0, 0, 0, 0, 0, 0, 0, 0, 0, 0, 0, 0, 0, 0, 0, 0, 0, 0, 0, 0, 0, 0, 0, 0, 0, 0, 0, 0, 0, 0, 0, 0, 0, 0, 0, 0, 0, 0, 0, 0, 0, 0, 0, 0]\n",
      "W amount is 752\n",
      "W action is [0, 0, 16, 0, 0, 16, 0, 0, 16, 0, 0, 16, 0, 0, 16, 0, 0, 16, 0, 0, 16, 0, 0, 16, 0, 0, 16, 0, 0, 16, 0, 0, 16, 0, 0, 16, 0, 0, 16, 0, 0, 16, 0, 0, 16, 0, 0, 16, 0, 0, 16, 0, 0, 16, 0, 0, 16, 0, 0, 16, 0, 0, 16, 0, 0, 16, 0, 0, 16, 0, 0, 16, 0, 0, 16, 0, 0, 16, 0, 0, 16, 0, 0, 16, 0, 0, 16, 0, 0, 16, 0, 0, 16, 0, 0, 16, 0, 0, 16, 0, 0, 16, 0, 0, 16, 0, 0, 16, 0, 0, 16, 0, 0, 16, 0, 0, 16, 0, 0, 16, 0, 0, 16, 0, 0, 16, 0, 0, 16, 0, 0, 16, 0, 0, 16, 0, 0, 16, 0, 0, 16, 0]\n",
      "N leaching is 4.092536926269531\n",
      "Yield is 10989.937744140625\n",
      "Reward is 711.7101394653321\n"
     ]
    }
   ],
   "source": [
    "for i in range(1):\n",
    "    #print('')\n",
    "    rain=0\n",
    "    date=1\n",
    "    n_date=0\n",
    "    env.reset()\n",
    "    c1=1;\n",
    "    c2=0\n",
    "    rain=rain+env.observation['rain']\n",
    "    #print(env.observation)\n",
    "    #date = 1\n",
    "    n_list=[]\n",
    "    w_list=[]\n",
    "    istage_list=[]\n",
    "    vstage_list=[]\n",
    "    w_amount=0\n",
    "    while not env.done:\n",
    "        #print(observation)\n",
    "        #print(observation)\n",
    "        # observation_list = env.observation_dict_to_array(observation)\n",
    "        w_input=0\n",
    "        n_input=0\n",
    "        if c1!=0:\n",
    "            n_input=50\n",
    "            c1=c1-1\n",
    "            #print('n 50')\n",
    "        if date==166-136:\n",
    "            n_input = 100\n",
    "            #print('n 100')\n",
    "        if date == 191-136:\n",
    "            n_input = 100\n",
    "            #print('n 100')\n",
    "        if date%3==0:\n",
    "            w_input=16\n",
    "            #print(w_input)\n",
    "            c2=c2+1\n",
    "        action = {\n",
    "                    'anfer': n_input,  # if mode == fertilization or mode == all ; nitrogen to fertilize in kg/ha4\n",
    "                    'amir': w_input,  # if mode == irrigation or mode == all ; water to irrigate in L/ha\n",
    "            }\n",
    "        #print(date)\n",
    "        observation, reward, done, info = env.step(action)\n",
    "        date = date+1\n",
    "        #print(observation['yrdoy'])\n",
    "        #print('')\n",
    "        #print(observation)\n",
    "        #real_ob = add_fert(observation, action_dict['anfer'])\n",
    "        #print('real_ob is ', real_ob)\n",
    "        #env.observation = real_ob\n",
    "        #print('final ob is:', env.observation)\n",
    "        #real_s=get_real_state(env._state, action_dict['anfer'])\n",
    "        #env._state=real_s\n",
    "        #print('env_state', env._state)\n",
    "        #print(date)\n",
    "        #print(reward)\n",
    "        #print(done)\n",
    "        if done:\n",
    "            final_ob=env.observation\n",
    "            print(final_ob)\n",
    "            N_input=final_ob['cumsumfert']\n",
    "            Nleach=final_ob['cleach']\n",
    "            Yield=final_ob['grnwt']\n",
    "            reward=Yield*0.158-0.79*N_input-1.1*w_amount\n",
    "            print('irrigation time is ', c2)\n",
    "            #print(env.history['action'])\n",
    "            #print(env.history['reward'])\n",
    "            break\n",
    "        w_amount = w_amount+w_input\n",
    "        n_list.append(action['anfer'])\n",
    "        w_list.append(action['amir'])\n",
    "        istage_list.append(env.observation['istage'])\n",
    "        vstage_list.append(env.observation['vstage'])\n",
    "        rain=rain+env.observation['rain']\n",
    "#print(np.mean(rain_list))\n",
    "print('N amount is', N_input)\n",
    "print('N action is', n_list)\n",
    "print('W amount is', w_amount)\n",
    "print('W action is', w_list)\n",
    "#print('avergae N input is', np.mean(Action_list))\n",
    "#print('')\n",
    "print('N leaching is', Nleach)\n",
    "#print('avergae Leaching is', np.mean(Nleach_list))\n",
    "#print('')\n",
    "print('Yield is', Yield)\n",
    "#print('avergae Yield is', np.mean(Yield_list))\n",
    "#print('')\n",
    "print('Reward is', reward)\n",
    "#print('avergae reward is', np.mean(reward_list))\n",
    "# import pandas\n",
    "# df = pandas.DataFrame(n_list, columns=[\"colummn\"])\n",
    "# df.to_csv('n_list.csv', index=False)\n",
    "# df = pandas.DataFrame(w_list, columns=[\"colummn\"])\n",
    "# df.to_csv('w_list.csv', index=False)\n",
    "# df = pandas.DataFrame(istage_list, columns=[\"colummn\"])\n",
    "# df.to_csv('istage_list.csv', index=False)\n",
    "# df = pandas.DataFrame(vstage_list, columns=[\"colummn\"])\n",
    "# df.to_csv('vstage_list.csv', index=False)"
   ]
  },
  {
   "cell_type": "code",
   "execution_count": 4,
   "id": "7326e28f",
   "metadata": {},
   "outputs": [
    {
     "name": "stdout",
     "output_type": "stream",
     "text": [
      "{'cleach': 0.0, 'cnox': 0.0, 'cumsumfert': 0.0, 'dap': 0, 'dtt': 0.0, 'es': 0.0, 'grnwt': 0.0, 'istage': 7, 'nstres': 0.0, 'pcngrn': 0.0, 'pltpop': 7.199999809265137, 'rain': 0.0, 'rtdep': 0.0, 'runoff': 0.0, 'srad': 13.300000190734863, 'sw': array([0.086     , 0.086     , 0.086     , 0.086     , 0.086     ,\n",
      "       0.076     , 0.076     , 0.13      , 0.25799999]), 'swfac': 0.0, 'tleachd': 0.0, 'tmax': 22.200000762939453, 'tmin': 3.299999952316284, 'tnoxd': 0.0, 'topwt': 0.0, 'trnu': 0.0, 'vstage': 0.0, 'wtdep': 0.0, 'wtnup': 0.0, 'xlai': 0.0}\n"
     ]
    }
   ],
   "source": [
    "env.reset()\n",
    "print(env.observation)"
   ]
  },
  {
   "cell_type": "code",
   "execution_count": 5,
   "id": "7a0f64dc",
   "metadata": {},
   "outputs": [
    {
     "data": {
      "text/plain": [
       "[212.58120727539062]"
      ]
     },
     "execution_count": 5,
     "metadata": {},
     "output_type": "execute_result"
    }
   ],
   "source": []
  },
  {
   "cell_type": "code",
   "execution_count": 6,
   "id": "69199c3f",
   "metadata": {},
   "outputs": [
    {
     "data": {
      "text/plain": [
       "[10771.492390434141]"
      ]
     },
     "execution_count": 6,
     "metadata": {},
     "output_type": "execute_result"
    }
   ],
   "source": []
  },
  {
   "cell_type": "code",
   "execution_count": 7,
   "id": "2016c0d9",
   "metadata": {},
   "outputs": [
    {
     "data": {
      "text/plain": [
       "[984.4257976885943]"
      ]
     },
     "execution_count": 7,
     "metadata": {},
     "output_type": "execute_result"
    }
   ],
   "source": []
  },
  {
   "cell_type": "code",
   "execution_count": null,
   "id": "378af9f0",
   "metadata": {},
   "outputs": [],
   "source": []
  },
  {
   "cell_type": "code",
   "execution_count": 9,
   "id": "d7803f8a",
   "metadata": {},
   "outputs": [],
   "source": []
  },
  {
   "cell_type": "code",
   "execution_count": 11,
   "id": "657aeca3",
   "metadata": {},
   "outputs": [
    {
     "data": {
      "text/plain": [
       "'1happy.csv'"
      ]
     },
     "execution_count": 11,
     "metadata": {},
     "output_type": "execute_result"
    }
   ],
   "source": []
  },
  {
   "cell_type": "code",
   "execution_count": 4,
   "id": "1b083906",
   "metadata": {},
   "outputs": [],
   "source": []
  },
  {
   "cell_type": "code",
   "execution_count": 5,
   "id": "b622d689",
   "metadata": {},
   "outputs": [],
   "source": []
  },
  {
   "cell_type": "code",
   "execution_count": 6,
   "id": "3fd67d88",
   "metadata": {},
   "outputs": [
    {
     "data": {
      "text/plain": [
       "-100"
      ]
     },
     "execution_count": 6,
     "metadata": {},
     "output_type": "execute_result"
    }
   ],
   "source": []
  },
  {
   "cell_type": "code",
   "execution_count": null,
   "id": "3bee7d8c",
   "metadata": {},
   "outputs": [],
   "source": []
  }
 ],
 "metadata": {
  "kernelspec": {
   "display_name": "Python 3 (ipykernel)",
   "language": "python",
   "name": "python3"
  },
  "language_info": {
   "codemirror_mode": {
    "name": "ipython",
    "version": 3
   },
   "file_extension": ".py",
   "mimetype": "text/x-python",
   "name": "python",
   "nbconvert_exporter": "python",
   "pygments_lexer": "ipython3",
   "version": "3.8.10"
  }
 },
 "nbformat": 4,
 "nbformat_minor": 5
}
