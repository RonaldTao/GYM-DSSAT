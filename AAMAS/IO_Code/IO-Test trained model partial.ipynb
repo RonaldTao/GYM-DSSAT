{
 "cells": [
  {
   "cell_type": "markdown",
   "id": "93dda018",
   "metadata": {},
   "source": [
    "### 1. Import packages"
   ]
  },
  {
   "cell_type": "code",
   "execution_count": 1,
   "id": "6f1cfcf8",
   "metadata": {},
   "outputs": [],
   "source": [
    "import numpy as np\n",
    "import pandas as pd\n",
    "import random\n",
    "from IPython import display\n",
    "from collections import namedtuple, deque\n",
    "import time\n",
    "from tqdm import tqdm\n",
    "import matplotlib.pyplot as plt\n",
    "%matplotlib inline\n",
    "\n",
    "import torch\n",
    "import torch.nn as nn\n",
    "import torch.nn.functional as F\n",
    "import torch.optim as optim\n",
    "device = torch.device(\"cpu\")\n",
    "\n",
    "import gym"
   ]
  },
  {
   "cell_type": "markdown",
   "id": "23a8e0e3",
   "metadata": {},
   "source": [
    "### 2. Helper functions"
   ]
  },
  {
   "cell_type": "code",
   "execution_count": 2,
   "id": "a0d74676",
   "metadata": {},
   "outputs": [],
   "source": [
    "def dict2array(state):\n",
    "    new_state = []\n",
    "    for key  in state.keys():\n",
    "        if key != 'sw':\n",
    "            new_state.append(state[key])\n",
    "        else:\n",
    "            new_state += list(state['sw'])        \n",
    "    state = np.asarray(new_state)\n",
    "    \n",
    "    return state\n"
   ]
  },
  {
   "cell_type": "code",
   "execution_count": 3,
   "id": "5142acfc",
   "metadata": {},
   "outputs": [],
   "source": [
    "def dict2array_partial(state):\n",
    "    new_state = []\n",
    "    num_observable_states = 0\n",
    "    for key  in state.keys():\n",
    "        if key != 'sw':\n",
    "            if key == 'cumsumfert':\n",
    "                new_state.append(state[key])\n",
    "            if key == 'dap':\n",
    "                new_state.append(state[key])\n",
    "            if key == 'dtt':\n",
    "                new_state.append(state[key])\n",
    "            if key == 'istage':\n",
    "                new_state.append(state[key])\n",
    "            if key == 'pltpop':\n",
    "                new_state.append(state[key])\n",
    "            if key == 'rain':\n",
    "                new_state.append(state[key])\n",
    "            if key == 'srad':\n",
    "                new_state.append(state[key])\n",
    "            if key == 'tmax':\n",
    "                new_state.append(state[key])\n",
    "            if key == 'tmin':\n",
    "                new_state.append(state[key])\n",
    "            if key == 'vstage':\n",
    "                new_state.append(state[key])\n",
    "            if key == 'xlai':\n",
    "                new_state.append(state[key])\n",
    "        else:\n",
    "            new_state += list(state['sw'])\n",
    "    state = np.asarray(new_state)\n",
    "    return state"
   ]
  },
  {
   "cell_type": "markdown",
   "id": "db8650bd",
   "metadata": {},
   "source": [
    "### 3. Initialize the environment"
   ]
  },
  {
   "cell_type": "code",
   "execution_count": 4,
   "id": "fe07f4eb",
   "metadata": {},
   "outputs": [
    {
     "name": "stdout",
     "output_type": "stream",
     "text": [
      "Observation: {'cleach': 0.0, 'cnox': 0.0, 'cumsumfert': 0.0, 'dap': 0, 'dtt': 0.0, 'es': 0.0, 'grnwt': 0.0, 'istage': 7, 'nstres': 0.0, 'pcngrn': 0.0, 'pltpop': 7.599999904632568, 'rain': 0.0, 'rtdep': 0.0, 'runoff': 0.0, 'srad': 26.5, 'sw': array([0.189     , 0.189     , 0.189     , 0.222     , 0.228     ,\n",
      "       0.27700001, 0.31      , 0.31799999, 0.29800001, 0.28      ,\n",
      "       0.28      ]), 'swfac': 0.0, 'tleachd': 0.0, 'tmax': 16.100000381469727, 'tmin': 5.400000095367432, 'tnoxd': 0.0, 'topwt': 0.0, 'trnu': 0.0, 'vstage': 0.0, 'wtdep': 0.0, 'wtnup': 0.0, 'xlai': 0.0}\n",
      "27 11\n",
      "\n",
      "Ram information received from DASSAT will has 22 dimensions.\n",
      "There are 5 possible actions at each step.\n",
      "Discrete? False\n"
     ]
    }
   ],
   "source": [
    "env_args = {\n",
    "    'run_dssat_location': '/opt/dssat_pdi/run_dssat',  # assuming (modified) DSSAT has been installed in /opt/dssat_pdi\n",
    "    'log_saving_path': './logs/dssat-pdi.log',  # if you want to save DSSAT outputs for inspection\n",
    "    # 'mode': 'irrigation',  # you can choose one of those 3 modes\n",
    "    # 'mode': 'fertilization',\n",
    "    'mode': 'all',\n",
    "    'seed': 123456,\n",
    "    'random_weather': False,  # if you want stochastic weather\n",
    "    'fileX_template_path':'./IUAF9901.MZX',\n",
    "    #'experiment_number':1\n",
    "}\n",
    "env = gym.make('gym_dssat_pdi:GymDssatPdi-v0', **env_args)\n",
    "print('Observation:',env.observation,)\n",
    "print(len(env.observation),len(env.observation['sw']))\n",
    "ram_dimensions = 22\n",
    "nb_actions = 5\n",
    "print('\\nRam information received from DASSAT will has %d dimensions.' % ram_dimensions)\n",
    "print('There are %d possible actions at each step.' % nb_actions)\n",
    "print('Discrete?',type(gym.spaces)== gym.spaces.Discrete)"
   ]
  },
  {
   "cell_type": "markdown",
   "id": "b4283d29",
   "metadata": {},
   "source": [
    "### 4. Define the network"
   ]
  },
  {
   "cell_type": "code",
   "execution_count": 5,
   "id": "a6021276",
   "metadata": {},
   "outputs": [],
   "source": [
    "class QNetwork(nn.Module):\n",
    "    \"\"\"Agent (Policy) Model.\"\"\"\n",
    "    # given a state of 35 dim, Qnetwork will return 200 values for each possible action  \n",
    "\n",
    "    def __init__(self, state_size, action_size, fc1_units=128, fc2_units=128):\n",
    "        \"\"\"Initialize parameters and build model.\n",
    "        Params\n",
    "        ======\n",
    "            state_size (int): Dimension of each state\n",
    "            action_size (int): Dimension of each action\n",
    "            fc1_units (int): Number of nodes in first hidden layer\n",
    "            why is it 256? randomly?\n",
    "        \"\"\"\n",
    "        super(QNetwork, self).__init__()\n",
    "        self.fc1 = nn.Linear(state_size, fc1_units)\n",
    "        self.fc2 = nn.Linear(fc1_units, fc2_units)\n",
    "        self.fc3 = nn.Linear(fc2_units, action_size)\n",
    "        # set a nn with 1 layer\n",
    "        \n",
    "    def forward(self, state):\n",
    "        \"\"\"Build a network that maps state -> action values.\"\"\"\n",
    "        x = F.relu(self.fc1(state))\n",
    "        y = F.relu(self.fc2(x))\n",
    "        #Applies the rectified linear unit function element-wise. max(0,x)\n",
    "        return self.fc3(y)"
   ]
  },
  {
   "cell_type": "code",
   "execution_count": 69,
   "id": "55a9c6b0",
   "metadata": {},
   "outputs": [
    {
     "data": {
      "text/plain": [
       "<All keys matched successfully>"
      ]
     },
     "execution_count": 69,
     "metadata": {},
     "output_type": "execute_result"
    }
   ],
   "source": [
    "trained_model = QNetwork(22, 5)\n",
    "trained_model.load_state_dict(torch.load('/home/rant3/focal/model885.pth'))"
   ]
  },
  {
   "cell_type": "markdown",
   "id": "f705878c",
   "metadata": {},
   "source": [
    "### 5. Define the Replay Buffer"
   ]
  },
  {
   "cell_type": "code",
   "execution_count": 70,
   "id": "a1a8520c",
   "metadata": {},
   "outputs": [],
   "source": [
    "class ReplayBuffer:\n",
    "    \"\"\"Fixed-size buffer to store experience tuples.\"\"\"\n",
    "\n",
    "    def __init__(self, action_size, buffer_size, batch_size):\n",
    "        \"\"\"Initialize a ReplayBuffer object.\n",
    "        Params\n",
    "        ======\n",
    "            action_size (int): dimension of each action\n",
    "            buffer_size (int): maximum size of buffer\n",
    "            batch_size (int): size of each training batch\n",
    "        \"\"\"\n",
    "        self.action_size = action_size\n",
    "        self.memory = deque(maxlen=buffer_size)  \n",
    "        self.batch_size = batch_size\n",
    "        self.experience = namedtuple(\"Experience\", field_names=[\"state\", \"action\", \"reward\", \"next_state\", \"done\"])\n",
    "    \n",
    "    def add(self, state, action, reward, next_state, done):\n",
    "        \"\"\"Add a new experience to memory.\"\"\"\n",
    "#         action = dict2array(action)\n",
    "#         print('transfored actions:',action)\n",
    "        e = self.experience(state, action, reward, next_state, done)\n",
    "        self.memory.append(e)\n",
    "    \n",
    "    def sample(self):\n",
    "        \"\"\"Randomly sample a batch of experiences from memory.\"\"\"\n",
    "        experiences = random.sample(self.memory, k=self.batch_size)\n",
    "#         for e in experiences:\n",
    "# #             print(e)\n",
    "# #             print(e.state.shape, e.next_state.shape)\n",
    "#             break\n",
    "        states = torch.from_numpy(np.vstack([e.state for e in experiences if e is not None])).float().to(device)\n",
    "        actions = torch.from_numpy(np.vstack([e.action for e in experiences if e is not None])).long().to(device)\n",
    "        rewards = torch.from_numpy(np.vstack([e.reward for e in experiences if e is not None])).float().to(device)\n",
    "        next_states = torch.from_numpy(np.vstack([e.next_state for e in experiences if e is not None])).float().to(device)\n",
    "        dones = torch.from_numpy(np.vstack([e.done for e in experiences if e is not None]).astype(np.uint8)).float().to(device)\n",
    "  \n",
    "        return (states, actions, rewards, next_states, dones)\n",
    "\n",
    "    def __len__(self):\n",
    "        \"\"\"Return the current size of internal memory.\"\"\"\n",
    "        return len(self.memory)"
   ]
  },
  {
   "cell_type": "markdown",
   "id": "72686c19",
   "metadata": {},
   "source": [
    "### 6. Define the Agent"
   ]
  },
  {
   "cell_type": "code",
   "execution_count": 71,
   "id": "ef9713bf",
   "metadata": {},
   "outputs": [],
   "source": [
    "BUFFER_SIZE = int(1e5)  # replay buffer size\n",
    "BATCH_SIZE = 640         # minibatch size\n",
    "GAMMA = 0.99            # discount factor\n",
    "TAU = 60                # for update of target network parameters\n",
    "LR = 1e-5               # learning rate \n",
    "UPDATE_EVERY = 4        # how often to update the network"
   ]
  },
  {
   "cell_type": "code",
   "execution_count": 72,
   "id": "ea8e9674",
   "metadata": {},
   "outputs": [],
   "source": [
    "class Agent():\n",
    "    \"\"\"Interacts with and learns from the environment.\"\"\"\n",
    "\n",
    "    def __init__(self, state_size, action_size, trained_model):\n",
    "        \"\"\"Initialize an Agent object.\n",
    "        Params\n",
    "        ======\n",
    "            state_size (int): dimension of each state\n",
    "            action_size (int): dimension of each action\n",
    "        \"\"\"\n",
    "        self.state_size = state_size\n",
    "        self.action_size = action_size\n",
    "        # Q-Network\n",
    "        self.qnetwork_local = trained_model\n",
    "        #self.qnetwork_local = QNetwork(state_size, action_size).to(device)\n",
    "        self.qnetwork_target = QNetwork(state_size, action_size).to(device)\n",
    "        self.optimizer = optim.Adam(self.qnetwork_local.parameters(), lr=LR)\n",
    "\n",
    "        # Replay memory\n",
    "        self.memory = ReplayBuffer(action_size, BUFFER_SIZE, BATCH_SIZE)\n",
    "        # Initialize time step (for updating every UPDATE_EVERY steps)\n",
    "        self.t_step = 0\n",
    "    \n",
    "    def step(self, state, action, reward, next_state, done):\n",
    "        # Save experience in replay memory\n",
    "        self.memory.add(state, action, reward, next_state, done)\n",
    "        \n",
    "        # Learn every UPDATE_EVERY time steps.\n",
    "        self.t_step += 1\n",
    "        if self.t_step%UPDATE_EVERY == 0:\n",
    "            # If enough samples are available in memory, get random subset and learn\n",
    "            if len(self.memory) > BATCH_SIZE:\n",
    "                experiences = self.memory.sample()\n",
    "                self.learn(experiences, GAMMA)\n",
    "\n",
    "    def act(self, state, eps=0.):\n",
    "        \"\"\"Returns actions for given state as per current policy.\n",
    "        Params\n",
    "        ======\n",
    "            state (array_like): current state\n",
    "            eps (float): epsilon, for epsilon-greedy action selection\n",
    "        \"\"\"\n",
    "        state = torch.from_numpy(state).float().unsqueeze(0).to(device)\n",
    "        self.qnetwork_local.eval()\n",
    "        with torch.no_grad():\n",
    "            action_values = self.qnetwork_local(state)\n",
    "        self.qnetwork_local.train()\n",
    "\n",
    "#         Epsilon-greedy action selection\n",
    "        if random.random() > eps:\n",
    "            return np.argmax(action_values.cpu().data.numpy())\n",
    "        else:\n",
    "            return random.choice(np.arange(self.action_size))\n",
    "\n",
    "#         Epsilon-greedy action selection\n",
    "#         if random.random() > eps:\n",
    "#             return np.argmax(action_values.cpu().data.numpy())\n",
    "#         else:\n",
    "#             return random.choice(np.arange(self.action_size))\n",
    "# #         return action_values.cpu().data.numpy()\n",
    "\n",
    "\n",
    "    def learn(self, experiences, gamma):\n",
    "        \"\"\"Update value parameters using given batch of experience tuples.\n",
    "        Params\n",
    "        ======\n",
    "            experiences (Tuple[torch.Variable]): tuple of (s, a, r, s', done) tuples \n",
    "            gamma (float): discount factor\n",
    "        \"\"\"\n",
    "        states, actions, rewards, next_states, dones = experiences\n",
    "\n",
    "        # Get max predicted Q values (for next states) from target model\n",
    "        Q_targets_next = self.qnetwork_target(next_states).detach().max(1)[0].unsqueeze(1)\n",
    "#         print(Q_targets_next)\n",
    "        # Compute Q targets for current states \n",
    "        Q_targets = rewards + (gamma * Q_targets_next * (1 - dones))\n",
    "\n",
    "        # Get expected Q values from local model\n",
    "#         print('out',self.qnetwork_local(states).shape)\n",
    "        Q_expected = self.qnetwork_local(states).gather(1, actions)\n",
    "\n",
    "        # Compute loss\n",
    "        loss = F.mse_loss(Q_expected, Q_targets)\n",
    "        # Minimize the loss\n",
    "        self.optimizer.zero_grad()\n",
    "        loss.backward()\n",
    "        for param in self.qnetwork_local.parameters():\n",
    "            param.grad.data.clamp_(-1, 1)\n",
    "        self.optimizer.step()\n",
    "\n",
    "        #Update target network weights every TAU learning steps (so every TAU*UPDATE_EVERY t_step)\n",
    "        if self.t_step%(TAU*UPDATE_EVERY)==0:\n",
    "            self.update_target_net(self.qnetwork_local, self.qnetwork_target)                     \n",
    "\n",
    "    def update_target_net(self, local_model, target_model):\n",
    "        \"\"\"Soft update model parameters.\n",
    "        Params\n",
    "        ======\n",
    "            local_model (PyTorch model): weights will be copied from\n",
    "            target_model (PyTorch model): weights will be copied to\n",
    "        \"\"\"\n",
    "        target_model.load_state_dict(local_model.state_dict())"
   ]
  },
  {
   "cell_type": "markdown",
   "id": "e171c08a",
   "metadata": {},
   "source": [
    "### DQN for nitrogen management"
   ]
  },
  {
   "cell_type": "code",
   "execution_count": 73,
   "id": "e8bd30bd",
   "metadata": {},
   "outputs": [],
   "source": [
    "agent = Agent(state_size=ram_dimensions, action_size=nb_actions, trained_model=trained_model)"
   ]
  },
  {
   "cell_type": "code",
   "execution_count": 74,
   "id": "91db208f",
   "metadata": {},
   "outputs": [
    {
     "name": "stdout",
     "output_type": "stream",
     "text": [
      "\n",
      "N amount is [240.0]\n",
      "average N input is 240.0\n",
      "\n",
      "N leaching is [0.14859265089035034]\n",
      "average Leaching is 0.14859265089035034\n",
      "\n",
      "Yield is [21711.99462890625]\n",
      "average Yield is 21711.99462890625\n",
      "\n",
      "Reward is [2147.0508702397346]\n",
      "average reward is 2147.0508702397346\n",
      "[120, 80, 0, 0, 0, 0, 0, 40, 0, 0, 0, 0, 0, 0, 0, 0, 0, 0, 0, 0, 0, 0, 0, 0, 0, 0, 0, 0, 0, 0, 0, 0, 0, 0, 0, 0, 0, 0, 0, 0, 0, 0, 0, 0, 0, 0, 0, 0, 0, 0, 0, 0, 0, 0, 0, 0, 0, 0, 0, 0, 0, 0, 0, 0, 0, 0, 0, 0, 0, 0, 0, 0, 0, 0, 0, 0, 0, 0, 0, 0, 0, 0, 0, 0, 0, 0, 0, 0, 0, 0, 0, 0, 0, 0, 0, 0, 0, 0, 0, 0, 0, 0, 0, 0, 0, 0, 0, 0, 0, 0, 0, 0, 0, 0, 0, 0, 0, 0, 0, 0, 0, 0, 0, 0, 0, 0, 0, 0, 0, 0, 0, 0, 0, 0, 0, 0, 0, 0, 0, 0, 0, 0, 0, 0, 0, 0, 0, 0, 0, 0, 0, 0, 0, 0, 0, 0, 0, 0, 0, 0, 0, 0, 0, 0, 0, 0, 0, 0, 0, 0, 0, 0, 0, 0, 0, 0, 0, 0, 0, 0, 0, 0, 0, 0, 0, 0, 0, 0, 0, 0]\n",
      "[0.1889999955892563, 0.18728399276733398, 0.20667800307273865, 0.28274598717689514, 0.26649901270866394, 0.2447340041399002, 0.22499799728393555, 0.2071010023355484, 0.19087299704551697, 0.17615699768066406, 0.18188099563121796, 0.16800299286842346, 0.2698259949684143, 0.331961989402771, 0.3106380105018616, 0.2753640115261078, 0.27184098958969116, 0.32743701338768005, 0.3327749967575073, 0.309581995010376, 0.28255000710487366, 0.306410014629364, 0.3250980079174042, 0.3269810080528259, 0.2869429886341095, 0.25816598534584045, 0.28902098536491394, 0.3210409879684448, 0.30752700567245483, 0.28196200728416443, 0.2559249997138977, 0.22842299938201904, 0.210207000374794, 0.21275700628757477, 0.19600099325180054, 0.1808069944381714, 0.16703000664710999, 0.15453700721263885, 0.31911200284957886, 0.2836669981479645, 0.2781110107898712, 0.3265419900417328, 0.29222598671913147, 0.27547401189804077, 0.24201999604701996, 0.31631898880004883, 0.3095569908618927, 0.32571399211883545, 0.29540398716926575, 0.2762260138988495, 0.32343098521232605, 0.28185299038887024, 0.29576900601387024, 0.2841989994049072, 0.2581689953804016, 0.2348800003528595, 0.23389700055122375, 0.21292799711227417, 0.19313199818134308, 0.3152279853820801, 0.3146800100803375, 0.2795009911060333, 0.25140100717544556, 0.2266550064086914, 0.2938140034675598, 0.26691699028015137, 0.24050700664520264, 0.24259799718856812, 0.22440999746322632, 0.328357994556427, 0.3145189881324768, 0.284604012966156, 0.3177179992198944, 0.31850799918174744, 0.2926580011844635, 0.32248198986053467, 0.3227120041847229, 0.29951798915863037, 0.28922200202941895, 0.2613759934902191, 0.23518499732017517, 0.2092909961938858, 0.18526799976825714, 0.33551400899887085, 0.3188770115375519, 0.3296070098876953, 0.33184200525283813, 0.3166469931602478, 0.30049699544906616, 0.28940901160240173, 0.28792598843574524, 0.2715449929237366, 0.2619439959526062, 0.33241501450538635, 0.30918198823928833, 0.2930000126361847, 0.2770499885082245, 0.3270379900932312, 0.32925501465797424, 0.3064570128917694, 0.2953740060329437, 0.2813670039176941, 0.2715179920196533, 0.25826799869537354, 0.32890400290489197, 0.33184900879859924, 0.30785098671913147, 0.2944140136241913, 0.27919501066207886, 0.32998499274253845, 0.3276750147342682, 0.31894901394844055, 0.300680011510849, 0.2897129952907562, 0.285398006439209, 0.26884400844573975, 0.33390501141548157, 0.31997600197792053, 0.3034070134162903, 0.29384100437164307, 0.33395901322364807, 0.31234899163246155, 0.3009229898452759, 0.29261699318885803, 0.28127598762512207, 0.2688030004501343, 0.25687798857688904, 0.247762992978096, 0.23801499605178833, 0.22801899909973145, 0.22046199440956116, 0.2079710066318512, 0.19553899765014648, 0.2913059890270233, 0.3286049962043762, 0.3064909875392914, 0.3279449939727783, 0.3054949939250946, 0.29292699694633484, 0.27875301241874695, 0.2646459937095642, 0.25456300377845764, 0.24768300354480743, 0.23485000431537628, 0.22345000505447388, 0.20607000589370728, 0.18854600191116333, 0.17004700005054474, 0.16648699343204498, 0.15399299561977386, 0.14198799431324005, 0.12896500527858734, 0.1181270033121109, 0.10999999940395355, 0.10282299667596817, 0.2194260060787201, 0.31690001487731934, 0.2933729887008667, 0.25860700011253357, 0.21742300689220428, 0.19701600074768066, 0.16290700435638428, 0.2711530029773712, 0.23452800512313843, 0.20848199725151062, 0.18546399474143982, 0.1648309975862503, 0.14961600303649902, 0.13565699756145477, 0.12504099309444427, 0.1160539984703064, 0.10831200331449509, 0.12036000192165375, 0.1120000034570694, 0.10463599860668182, 0.10749299824237823, 0.10054899752140045, 0.09425300359725952, 0.08854299783706665, 0.08336599916219711, 0.07867100089788437, 0.07441399991512299, 0.07055400311946869, 0.06705400347709656, 0.06387999653816223, 0.06100200116634369, 0.0583919994533062, 0.05602499842643738, 0.08248099684715271, 0.0778689980506897]\n"
     ]
    }
   ],
   "source": [
    "Action_list=[]\n",
    "Nleach_list = []\n",
    "Yield_list=[]\n",
    "reward_list=[]\n",
    "for i in range(1):\n",
    "    #print('')\n",
    "    env.reset()\n",
    "    n_amount=0\n",
    "    n_list=[]\n",
    "    istage_list=[]\n",
    "    vstage_list=[]\n",
    "    sw_list=[]\n",
    "    #print(env.observation)\n",
    "    #date = 1\n",
    "    #print(date)\n",
    "    while not env.done:\n",
    "        #print(observation)\n",
    "        #print(observation)\n",
    "        # observation_list = env.observation_dict_to_array(observation)\n",
    "        state=env.observation\n",
    "        partial_state = dict2array_partial(state)\n",
    "        action1=agent.act(partial_state,0)\n",
    "        #print(action1)\n",
    "        action = {\n",
    "                    'anfer': (action1)*40,  # if mode == fertilization or mode == all ; nitrogen to fertilize in kg/ha\n",
    "                    'amir': 0,  # if mode == irrigation or mode == all ; water to irrigate in L/ha\n",
    "            }\n",
    "        n_list.append(action['anfer'])\n",
    "        n_amount += action['anfer']\n",
    "        istage_list.append(env.observation['istage'])\n",
    "        vstage_list.append(env.observation['vstage'])\n",
    "        sw_list.append(env.observation['sw'][0])\n",
    "        observation, reward, done, info = env.step(action)\n",
    "        #print('observation is', observation)\n",
    "        #real_ob = add_fert(observation, action_dict['anfer'])\n",
    "        #print('real_ob is ', real_ob)\n",
    "        #env.observation = real_ob\n",
    "        #print('final ob is:', env.observation)\n",
    "        #real_s=get_real_state(env._state, action_dict['anfer'])\n",
    "        #env._state=real_s\n",
    "        #print('env_state', env._state)\n",
    "        #print(date)\n",
    "        #print(reward)\n",
    "        #print(done)\n",
    "        if done:\n",
    "            final_ob=env.observation\n",
    "            #print(final_ob)\n",
    "            action=final_ob['cumsumfert']\n",
    "            Nleach=final_ob['cleach']\n",
    "            Yield=final_ob['topwt']*10\n",
    "            Action_list.append(action)\n",
    "            Nleach_list.append(Nleach)\n",
    "            Yield_list.append(Yield)\n",
    "            reward=Yield*0.1-1*Nleach-0.1*n_amount\n",
    "            reward_list.append(reward)\n",
    "            #print(env.observation)\n",
    "            #print(env.history['action'])\n",
    "            #print(env.history['reward'])\n",
    "print('')\n",
    "print('N amount is', Action_list)\n",
    "print('average N input is', np.mean(Action_list))\n",
    "print('')\n",
    "\n",
    "print('N leaching is', Nleach_list)\n",
    "print('average Leaching is', np.mean(Nleach_list))\n",
    "print('')\n",
    "print('Yield is', Yield_list)\n",
    "print('average Yield is', np.mean(Yield_list))\n",
    "print('')\n",
    "print('Reward is', reward_list)\n",
    "print('average reward is', np.mean(reward_list))\n",
    "import matplotlib.pyplot as plt\n",
    "import pandas\n",
    "plt.figure()\n",
    "plt.plot(n_list)\n",
    "plt.title('Fertilizer application from trained policy')\n",
    "plt.xlabel('Day')\n",
    "plt.ylabel('Nitrogen input')\n",
    "plt.savefig('Fertilizer application from trained policy')\n",
    "\n",
    "df = pandas.DataFrame(n_list, columns=[\"colummn\"])\n",
    "df.to_csv('n_list.csv', index=False)\n",
    "\n",
    "df = pandas.DataFrame(istage_list, columns=[\"colummn\"])\n",
    "df.to_csv('istage_list.csv', index=False)\n",
    "df = pandas.DataFrame(vstage_list, columns=[\"colummn\"])\n",
    "df.to_csv('vstage_list.csv', index=False)\n",
    "print(n_list)\n",
    "\n",
    "print(sw_list)"
   ]
  },
  {
   "cell_type": "code",
   "execution_count": 44,
   "id": "135de7ca",
   "metadata": {},
   "outputs": [
    {
     "ename": "NameError",
     "evalue": "name 'topwt' is not defined",
     "output_type": "error",
     "traceback": [
      "\u001b[0;31m---------------------------------------------------------------------------\u001b[0m",
      "\u001b[0;31mNameError\u001b[0m                                 Traceback (most recent call last)",
      "Input \u001b[0;32mIn [44]\u001b[0m, in \u001b[0;36m<cell line: 3>\u001b[0;34m()\u001b[0m\n\u001b[1;32m      1\u001b[0m \u001b[38;5;28;01mimport\u001b[39;00m \u001b[38;5;21;01mmatplotlib\u001b[39;00m\u001b[38;5;21;01m.\u001b[39;00m\u001b[38;5;21;01mpyplot\u001b[39;00m \u001b[38;5;28;01mas\u001b[39;00m \u001b[38;5;21;01mplt\u001b[39;00m\n\u001b[1;32m      2\u001b[0m plt\u001b[38;5;241m.\u001b[39mfigure()\n\u001b[0;32m----> 3\u001b[0m plt\u001b[38;5;241m.\u001b[39mplot(\u001b[43mtopwt\u001b[49m)\n\u001b[1;32m      4\u001b[0m plt\u001b[38;5;241m.\u001b[39mtitle(\u001b[38;5;124m\"\u001b[39m\u001b[38;5;124mTopwt IOWA 280\u001b[39m\u001b[38;5;124m\"\u001b[39m)\n\u001b[1;32m      5\u001b[0m plt\u001b[38;5;241m.\u001b[39msavefig(\u001b[38;5;124m\"\u001b[39m\u001b[38;5;124mtopwt IOWA 280.png\u001b[39m\u001b[38;5;124m\"\u001b[39m)\n",
      "\u001b[0;31mNameError\u001b[0m: name 'topwt' is not defined"
     ]
    }
   ],
   "source": [
    "import matplotlib.pyplot as plt\n",
    "plt.figure()\n",
    "plt.plot(topwt)\n",
    "plt.title(\"Topwt IOWA 280\")\n",
    "plt.savefig(\"topwt IOWA 280.png\")\n",
    "plt.figure()\n",
    "plt.plot(nitrogen_uptake)\n",
    "plt.title(\"Nitrogen uptake IOWA 280\")\n",
    "plt.savefig(\"Nitrogen uptake IOWA 280.png\")\n",
    "plt.figure()\n",
    "plt.plot(leaching)\n",
    "plt.title(\"Nitrate leaching IOWA 280\")\n",
    "plt.savefig(\"Nitrate leaching IOWA 280.png\")\n",
    "plt.figure()\n",
    "plt.plot(action_list)\n",
    "plt.title(\"action IOWA 280\")\n",
    "plt.savefig(\"action IOWA 280.png\")"
   ]
  },
  {
   "cell_type": "code",
   "execution_count": null,
   "id": "c86f8c98",
   "metadata": {},
   "outputs": [],
   "source": []
  },
  {
   "cell_type": "code",
   "execution_count": null,
   "id": "fd10e713",
   "metadata": {},
   "outputs": [],
   "source": [
    "import pandas as pd\n",
    "a = pd.DataFrame(topwt)\n",
    "a.to_csv('topwt IOWA 280.csv', index=False, header=False)\n",
    "b = pd.DataFrame(nitrogen_uptake)\n",
    "b.to_csv('Nitrogen uptake IOWA 280.csv', index=False, header=False)\n",
    "c = pd.DataFrame(leaching)\n",
    "c.to_csv('Nitrate leaching IOWA 280.csv', index=False, header=False)\n",
    "c = pd.DataFrame(action_list)\n",
    "c.to_csv('Action IOWA 280.csv', index=False, header=False)"
   ]
  },
  {
   "cell_type": "code",
   "execution_count": null,
   "id": "97182cfc",
   "metadata": {},
   "outputs": [],
   "source": [
    "import matplotlib.pyplot as plt\n",
    "plt.figure()\n",
    "plt.plot(topwt)\n",
    "plt.title(\"topwt paper method k=0.1 act 40\")\n",
    "plt.savefig(\"topwt paper method k=0.1 act 40.png\")\n",
    "plt.figure()\n",
    "plt.plot(nitrogen_uptake)\n",
    "plt.title(\"Nitrogen uptake paper method k=0.1 act 40\")\n",
    "plt.savefig(\"Nitrogen uptake paper method k=0.1 act 40.png\")\n",
    "plt.figure()\n",
    "plt.plot(leaching)\n",
    "plt.title(\"Nitrate leaching paper method k=0.1 act 40\")\n",
    "plt.savefig(\"Nitrate leaching paper method k=0.1 act 40.png\")\n",
    "plt.figure()\n",
    "plt.plot(action_list)\n",
    "plt.title(\"action paper method k=0.1 act 40\")\n",
    "plt.savefig(\"action paper method k=0.1 act 40.png\")"
   ]
  },
  {
   "cell_type": "code",
   "execution_count": 14,
   "id": "99d4c931",
   "metadata": {},
   "outputs": [],
   "source": [
    "import pandas as pd\n",
    "a = pd.DataFrame(topwt)\n",
    "a.to_csv('topwt paper method k=0.1 act 40.csv', index=False, header=False)\n",
    "b = pd.DataFrame(nitrogen_uptake)\n",
    "b.to_csv('Nitrogen uptake paper method k=0.1 act 40.csv', index=False, header=False)\n",
    "c = pd.DataFrame(leaching)\n",
    "c.to_csv('Nitrate leaching paper method k=0.1 act 40.csv', index=False, header=False)\n",
    "c = pd.DataFrame(action_list)\n",
    "c.to_csv('Action paper method k=0.1 act 40.csv', index=False, header=False)"
   ]
  },
  {
   "cell_type": "code",
   "execution_count": 15,
   "id": "1edba494",
   "metadata": {},
   "outputs": [
    {
     "data": {
      "text/plain": [
       "2097.3241743206454"
      ]
     },
     "execution_count": 15,
     "metadata": {},
     "output_type": "execute_result"
    }
   ],
   "source": [
    "score"
   ]
  },
  {
   "cell_type": "code",
   "execution_count": 12,
   "id": "c9aa952d",
   "metadata": {},
   "outputs": [],
   "source": [
    "import matplotlib.pyplot as plt\n",
    "plt.figure()\n",
    "plt.plot(action_list)\n",
    "plt.title(\"action k=0.1 act every 14 days\")\n",
    "plt.savefig(\"action k=0.1 act every 14 days.png\")"
   ]
  },
  {
   "cell_type": "code",
   "execution_count": null,
   "id": "42bead67",
   "metadata": {},
   "outputs": [],
   "source": []
  }
 ],
 "metadata": {
  "kernelspec": {
   "display_name": "Python 3 (ipykernel)",
   "language": "python",
   "name": "python3"
  },
  "language_info": {
   "codemirror_mode": {
    "name": "ipython",
    "version": 3
   },
   "file_extension": ".py",
   "mimetype": "text/x-python",
   "name": "python",
   "nbconvert_exporter": "python",
   "pygments_lexer": "ipython3",
   "version": "3.8.10"
  }
 },
 "nbformat": 4,
 "nbformat_minor": 5
}
